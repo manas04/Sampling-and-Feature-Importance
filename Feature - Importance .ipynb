{
  "nbformat": 4,
  "nbformat_minor": 0,
  "metadata": {
    "colab": {
      "provenance": []
    },
    "kernelspec": {
      "name": "python3",
      "display_name": "Python 3"
    },
    "language_info": {
      "name": "python"
    }
  },
  "cells": [
    {
      "cell_type": "markdown",
      "source": [
        "# Assignment 5: Model Interpretability\n",
        "-----------------------------------\n",
        "**Your Name Here: Manas Joshi**\n",
        "\n",
        "You previously worked with this dataset on the 'Sampling' notebooks. Now, you will try to interpret the model!\n",
        "\n",
        "You will build a classification model of your choice (you may use SMOTE or not - I'm not testing how good your model is for this assignment, just that you know how to interpret the model!). \n",
        "\n",
        "Then you will:\n",
        "* Print the Top 5 features (using permutation importance with 20 repeats) in a box plot.\n",
        "* Create the partial dependence plots for the top 5 features (you may opt to use the num_grid_points argument). Customize the plots so that the Y axis is consistent on each of the five plots.\n",
        "* Write five meaningful bullets about what you see in the plots. Does anything surprise you? What do the X and Y axis mean in each plot? \n",
        "  * Optional: Any issues with correlated predictors (read here for a cool way on how to address this: https://scikit-learn.org/stable/auto_examples/inspection/plot_permutation_importance_multicollinear.html)?"
      ],
      "metadata": {
        "id": "mlOEzxLwuORm"
      }
    },
    {
      "cell_type": "code",
      "execution_count": 862,
      "metadata": {
        "colab": {
          "base_uri": "https://localhost:8080/"
        },
        "id": "q4U-yoneuN7Q",
        "outputId": "5bf2f3d6-0be6-4ea2-8a30-50f3a4c61172"
      },
      "outputs": [
        {
          "output_type": "stream",
          "name": "stdout",
          "text": [
            "Downloading...\n",
            "From: https://drive.google.com/uc?id=1CppeqGbiBzX61jx56gcXyGGDNEeLlJ-W\n",
            "To: /content/train_loan_imbalanced.csv\n",
            "\r  0% 0.00/38.0k [00:00<?, ?B/s]\r100% 38.0k/38.0k [00:00<00:00, 84.3MB/s]\n"
          ]
        }
      ],
      "source": [
        "#https://drive.google.com/file/d/1CppeqGbiBzX61jx56gcXyGGDNEeLlJ-W/view?usp=share_link\n",
        "!gdown 1CppeqGbiBzX61jx56gcXyGGDNEeLlJ-W"
      ]
    },
    {
      "cell_type": "code",
      "source": [],
      "metadata": {
        "id": "MlRpCBAEb-lh"
      },
      "execution_count": 862,
      "outputs": []
    },
    {
      "cell_type": "code",
      "source": [
        "!pip install pulp # for partial dependence plots!\n",
        "!pip install pycebox\n",
        "from pycebox.ice import ice, ice_plot"
      ],
      "metadata": {
        "colab": {
          "base_uri": "https://localhost:8080/"
        },
        "id": "V6C4xRa_cA6I",
        "outputId": "1ac2640b-7911-406c-b84b-48b1886a614d"
      },
      "execution_count": 863,
      "outputs": [
        {
          "output_type": "stream",
          "name": "stdout",
          "text": [
            "Looking in indexes: https://pypi.org/simple, https://us-python.pkg.dev/colab-wheels/public/simple/\n",
            "Requirement already satisfied: pulp in /usr/local/lib/python3.9/dist-packages (2.7.0)\n",
            "Looking in indexes: https://pypi.org/simple, https://us-python.pkg.dev/colab-wheels/public/simple/\n",
            "Requirement already satisfied: pycebox in /usr/local/lib/python3.9/dist-packages (0.0.1)\n",
            "Requirement already satisfied: numpy in /usr/local/lib/python3.9/dist-packages (from pycebox) (1.22.4)\n",
            "Requirement already satisfied: pandas in /usr/local/lib/python3.9/dist-packages (from pycebox) (1.5.3)\n",
            "Requirement already satisfied: matplotlib in /usr/local/lib/python3.9/dist-packages (from pycebox) (3.7.1)\n",
            "Requirement already satisfied: six in /usr/local/lib/python3.9/dist-packages (from pycebox) (1.16.0)\n",
            "Requirement already satisfied: kiwisolver>=1.0.1 in /usr/local/lib/python3.9/dist-packages (from matplotlib->pycebox) (1.4.4)\n",
            "Requirement already satisfied: importlib-resources>=3.2.0 in /usr/local/lib/python3.9/dist-packages (from matplotlib->pycebox) (5.12.0)\n",
            "Requirement already satisfied: pillow>=6.2.0 in /usr/local/lib/python3.9/dist-packages (from matplotlib->pycebox) (8.4.0)\n",
            "Requirement already satisfied: packaging>=20.0 in /usr/local/lib/python3.9/dist-packages (from matplotlib->pycebox) (23.0)\n",
            "Requirement already satisfied: cycler>=0.10 in /usr/local/lib/python3.9/dist-packages (from matplotlib->pycebox) (0.11.0)\n",
            "Requirement already satisfied: fonttools>=4.22.0 in /usr/local/lib/python3.9/dist-packages (from matplotlib->pycebox) (4.39.3)\n",
            "Requirement already satisfied: pyparsing>=2.3.1 in /usr/local/lib/python3.9/dist-packages (from matplotlib->pycebox) (3.0.9)\n",
            "Requirement already satisfied: python-dateutil>=2.7 in /usr/local/lib/python3.9/dist-packages (from matplotlib->pycebox) (2.8.2)\n",
            "Requirement already satisfied: contourpy>=1.0.1 in /usr/local/lib/python3.9/dist-packages (from matplotlib->pycebox) (1.0.7)\n",
            "Requirement already satisfied: pytz>=2020.1 in /usr/local/lib/python3.9/dist-packages (from pandas->pycebox) (2022.7.1)\n",
            "Requirement already satisfied: zipp>=3.1.0 in /usr/local/lib/python3.9/dist-packages (from importlib-resources>=3.2.0->matplotlib->pycebox) (3.15.0)\n"
          ]
        }
      ]
    },
    {
      "cell_type": "code",
      "source": [
        "import numpy as np\n",
        "from sklearn.model_selection import train_test_split\n",
        "from sklearn.metrics import accuracy_score, f1_score, precision_score, recall_score,mean_absolute_error, mean_squared_error\n",
        "from sklearn.preprocessing import StandardScaler\n",
        "from sklearn.ensemble import RandomForestClassifier\n",
        "from sklearn.ensemble import GradientBoostingClassifier\n",
        "import matplotlib.pyplot as plt\n",
        "from sklearn.inspection import permutation_importance\n",
        "import seaborn as sns\n",
        "from collections import Counter\n",
        "from pycebox.ice import ice, ice_plot\n",
        "from sklearn.preprocessing import LabelEncoder"
      ],
      "metadata": {
        "id": "4ETNCkOlLW5R"
      },
      "execution_count": 864,
      "outputs": []
    },
    {
      "cell_type": "code",
      "source": [
        "import pandas as pd\n",
        "df = pd.read_csv('/content/train_loan_imbalanced.csv')\n",
        "df.head()"
      ],
      "metadata": {
        "colab": {
          "base_uri": "https://localhost:8080/",
          "height": 287
        },
        "id": "qjiMm6XivpGh",
        "outputId": "7f9333c3-92ea-470b-ac4f-073ee308f8d1"
      },
      "execution_count": 865,
      "outputs": [
        {
          "output_type": "execute_result",
          "data": {
            "text/plain": [
              "    Loan_ID Gender Married Dependents     Education Self_Employed  \\\n",
              "0  LP001002   Male      No          0      Graduate            No   \n",
              "1  LP001003   Male     Yes          1      Graduate            No   \n",
              "2  LP001005   Male     Yes          0      Graduate           Yes   \n",
              "3  LP001006   Male     Yes          0  Not Graduate            No   \n",
              "4  LP001008   Male      No          0      Graduate            No   \n",
              "\n",
              "   ApplicantIncome  CoapplicantIncome  LoanAmount  Loan_Amount_Term  \\\n",
              "0             5849                0.0         NaN             360.0   \n",
              "1             4583             1508.0       128.0             360.0   \n",
              "2             3000                0.0        66.0             360.0   \n",
              "3             2583             2358.0       120.0             360.0   \n",
              "4             6000                0.0       141.0             360.0   \n",
              "\n",
              "   Credit_History Property_Area Loan_Status  \n",
              "0             1.0         Urban           Y  \n",
              "1             1.0         Rural           N  \n",
              "2             1.0         Urban           Y  \n",
              "3             1.0         Urban           Y  \n",
              "4             1.0         Urban           Y  "
            ],
            "text/html": [
              "\n",
              "  <div id=\"df-6d6425d7-91f3-476e-aff0-755c4e9fb7e5\">\n",
              "    <div class=\"colab-df-container\">\n",
              "      <div>\n",
              "<style scoped>\n",
              "    .dataframe tbody tr th:only-of-type {\n",
              "        vertical-align: middle;\n",
              "    }\n",
              "\n",
              "    .dataframe tbody tr th {\n",
              "        vertical-align: top;\n",
              "    }\n",
              "\n",
              "    .dataframe thead th {\n",
              "        text-align: right;\n",
              "    }\n",
              "</style>\n",
              "<table border=\"1\" class=\"dataframe\">\n",
              "  <thead>\n",
              "    <tr style=\"text-align: right;\">\n",
              "      <th></th>\n",
              "      <th>Loan_ID</th>\n",
              "      <th>Gender</th>\n",
              "      <th>Married</th>\n",
              "      <th>Dependents</th>\n",
              "      <th>Education</th>\n",
              "      <th>Self_Employed</th>\n",
              "      <th>ApplicantIncome</th>\n",
              "      <th>CoapplicantIncome</th>\n",
              "      <th>LoanAmount</th>\n",
              "      <th>Loan_Amount_Term</th>\n",
              "      <th>Credit_History</th>\n",
              "      <th>Property_Area</th>\n",
              "      <th>Loan_Status</th>\n",
              "    </tr>\n",
              "  </thead>\n",
              "  <tbody>\n",
              "    <tr>\n",
              "      <th>0</th>\n",
              "      <td>LP001002</td>\n",
              "      <td>Male</td>\n",
              "      <td>No</td>\n",
              "      <td>0</td>\n",
              "      <td>Graduate</td>\n",
              "      <td>No</td>\n",
              "      <td>5849</td>\n",
              "      <td>0.0</td>\n",
              "      <td>NaN</td>\n",
              "      <td>360.0</td>\n",
              "      <td>1.0</td>\n",
              "      <td>Urban</td>\n",
              "      <td>Y</td>\n",
              "    </tr>\n",
              "    <tr>\n",
              "      <th>1</th>\n",
              "      <td>LP001003</td>\n",
              "      <td>Male</td>\n",
              "      <td>Yes</td>\n",
              "      <td>1</td>\n",
              "      <td>Graduate</td>\n",
              "      <td>No</td>\n",
              "      <td>4583</td>\n",
              "      <td>1508.0</td>\n",
              "      <td>128.0</td>\n",
              "      <td>360.0</td>\n",
              "      <td>1.0</td>\n",
              "      <td>Rural</td>\n",
              "      <td>N</td>\n",
              "    </tr>\n",
              "    <tr>\n",
              "      <th>2</th>\n",
              "      <td>LP001005</td>\n",
              "      <td>Male</td>\n",
              "      <td>Yes</td>\n",
              "      <td>0</td>\n",
              "      <td>Graduate</td>\n",
              "      <td>Yes</td>\n",
              "      <td>3000</td>\n",
              "      <td>0.0</td>\n",
              "      <td>66.0</td>\n",
              "      <td>360.0</td>\n",
              "      <td>1.0</td>\n",
              "      <td>Urban</td>\n",
              "      <td>Y</td>\n",
              "    </tr>\n",
              "    <tr>\n",
              "      <th>3</th>\n",
              "      <td>LP001006</td>\n",
              "      <td>Male</td>\n",
              "      <td>Yes</td>\n",
              "      <td>0</td>\n",
              "      <td>Not Graduate</td>\n",
              "      <td>No</td>\n",
              "      <td>2583</td>\n",
              "      <td>2358.0</td>\n",
              "      <td>120.0</td>\n",
              "      <td>360.0</td>\n",
              "      <td>1.0</td>\n",
              "      <td>Urban</td>\n",
              "      <td>Y</td>\n",
              "    </tr>\n",
              "    <tr>\n",
              "      <th>4</th>\n",
              "      <td>LP001008</td>\n",
              "      <td>Male</td>\n",
              "      <td>No</td>\n",
              "      <td>0</td>\n",
              "      <td>Graduate</td>\n",
              "      <td>No</td>\n",
              "      <td>6000</td>\n",
              "      <td>0.0</td>\n",
              "      <td>141.0</td>\n",
              "      <td>360.0</td>\n",
              "      <td>1.0</td>\n",
              "      <td>Urban</td>\n",
              "      <td>Y</td>\n",
              "    </tr>\n",
              "  </tbody>\n",
              "</table>\n",
              "</div>\n",
              "      <button class=\"colab-df-convert\" onclick=\"convertToInteractive('df-6d6425d7-91f3-476e-aff0-755c4e9fb7e5')\"\n",
              "              title=\"Convert this dataframe to an interactive table.\"\n",
              "              style=\"display:none;\">\n",
              "        \n",
              "  <svg xmlns=\"http://www.w3.org/2000/svg\" height=\"24px\"viewBox=\"0 0 24 24\"\n",
              "       width=\"24px\">\n",
              "    <path d=\"M0 0h24v24H0V0z\" fill=\"none\"/>\n",
              "    <path d=\"M18.56 5.44l.94 2.06.94-2.06 2.06-.94-2.06-.94-.94-2.06-.94 2.06-2.06.94zm-11 1L8.5 8.5l.94-2.06 2.06-.94-2.06-.94L8.5 2.5l-.94 2.06-2.06.94zm10 10l.94 2.06.94-2.06 2.06-.94-2.06-.94-.94-2.06-.94 2.06-2.06.94z\"/><path d=\"M17.41 7.96l-1.37-1.37c-.4-.4-.92-.59-1.43-.59-.52 0-1.04.2-1.43.59L10.3 9.45l-7.72 7.72c-.78.78-.78 2.05 0 2.83L4 21.41c.39.39.9.59 1.41.59.51 0 1.02-.2 1.41-.59l7.78-7.78 2.81-2.81c.8-.78.8-2.07 0-2.86zM5.41 20L4 18.59l7.72-7.72 1.47 1.35L5.41 20z\"/>\n",
              "  </svg>\n",
              "      </button>\n",
              "      \n",
              "  <style>\n",
              "    .colab-df-container {\n",
              "      display:flex;\n",
              "      flex-wrap:wrap;\n",
              "      gap: 12px;\n",
              "    }\n",
              "\n",
              "    .colab-df-convert {\n",
              "      background-color: #E8F0FE;\n",
              "      border: none;\n",
              "      border-radius: 50%;\n",
              "      cursor: pointer;\n",
              "      display: none;\n",
              "      fill: #1967D2;\n",
              "      height: 32px;\n",
              "      padding: 0 0 0 0;\n",
              "      width: 32px;\n",
              "    }\n",
              "\n",
              "    .colab-df-convert:hover {\n",
              "      background-color: #E2EBFA;\n",
              "      box-shadow: 0px 1px 2px rgba(60, 64, 67, 0.3), 0px 1px 3px 1px rgba(60, 64, 67, 0.15);\n",
              "      fill: #174EA6;\n",
              "    }\n",
              "\n",
              "    [theme=dark] .colab-df-convert {\n",
              "      background-color: #3B4455;\n",
              "      fill: #D2E3FC;\n",
              "    }\n",
              "\n",
              "    [theme=dark] .colab-df-convert:hover {\n",
              "      background-color: #434B5C;\n",
              "      box-shadow: 0px 1px 3px 1px rgba(0, 0, 0, 0.15);\n",
              "      filter: drop-shadow(0px 1px 2px rgba(0, 0, 0, 0.3));\n",
              "      fill: #FFFFFF;\n",
              "    }\n",
              "  </style>\n",
              "\n",
              "      <script>\n",
              "        const buttonEl =\n",
              "          document.querySelector('#df-6d6425d7-91f3-476e-aff0-755c4e9fb7e5 button.colab-df-convert');\n",
              "        buttonEl.style.display =\n",
              "          google.colab.kernel.accessAllowed ? 'block' : 'none';\n",
              "\n",
              "        async function convertToInteractive(key) {\n",
              "          const element = document.querySelector('#df-6d6425d7-91f3-476e-aff0-755c4e9fb7e5');\n",
              "          const dataTable =\n",
              "            await google.colab.kernel.invokeFunction('convertToInteractive',\n",
              "                                                     [key], {});\n",
              "          if (!dataTable) return;\n",
              "\n",
              "          const docLinkHtml = 'Like what you see? Visit the ' +\n",
              "            '<a target=\"_blank\" href=https://colab.research.google.com/notebooks/data_table.ipynb>data table notebook</a>'\n",
              "            + ' to learn more about interactive tables.';\n",
              "          element.innerHTML = '';\n",
              "          dataTable['output_type'] = 'display_data';\n",
              "          await google.colab.output.renderOutput(dataTable, element);\n",
              "          const docLink = document.createElement('div');\n",
              "          docLink.innerHTML = docLinkHtml;\n",
              "          element.appendChild(docLink);\n",
              "        }\n",
              "      </script>\n",
              "    </div>\n",
              "  </div>\n",
              "  "
            ]
          },
          "metadata": {},
          "execution_count": 865
        }
      ]
    },
    {
      "cell_type": "markdown",
      "source": [
        "# EDA(Exploratory Data Analysis)"
      ],
      "metadata": {
        "id": "yzxzKiObK6Ss"
      }
    },
    {
      "cell_type": "code",
      "source": [
        "# good luck!\n",
        "# Checking Null values \n",
        "df.head()"
      ],
      "metadata": {
        "id": "SdBcuqfCvvrL",
        "colab": {
          "base_uri": "https://localhost:8080/",
          "height": 287
        },
        "outputId": "e3de0ab8-4b8e-4bef-9420-fd994b4ae70f"
      },
      "execution_count": 866,
      "outputs": [
        {
          "output_type": "execute_result",
          "data": {
            "text/plain": [
              "    Loan_ID Gender Married Dependents     Education Self_Employed  \\\n",
              "0  LP001002   Male      No          0      Graduate            No   \n",
              "1  LP001003   Male     Yes          1      Graduate            No   \n",
              "2  LP001005   Male     Yes          0      Graduate           Yes   \n",
              "3  LP001006   Male     Yes          0  Not Graduate            No   \n",
              "4  LP001008   Male      No          0      Graduate            No   \n",
              "\n",
              "   ApplicantIncome  CoapplicantIncome  LoanAmount  Loan_Amount_Term  \\\n",
              "0             5849                0.0         NaN             360.0   \n",
              "1             4583             1508.0       128.0             360.0   \n",
              "2             3000                0.0        66.0             360.0   \n",
              "3             2583             2358.0       120.0             360.0   \n",
              "4             6000                0.0       141.0             360.0   \n",
              "\n",
              "   Credit_History Property_Area Loan_Status  \n",
              "0             1.0         Urban           Y  \n",
              "1             1.0         Rural           N  \n",
              "2             1.0         Urban           Y  \n",
              "3             1.0         Urban           Y  \n",
              "4             1.0         Urban           Y  "
            ],
            "text/html": [
              "\n",
              "  <div id=\"df-a2c2127c-d552-4a78-ad6b-6ba3acccaa54\">\n",
              "    <div class=\"colab-df-container\">\n",
              "      <div>\n",
              "<style scoped>\n",
              "    .dataframe tbody tr th:only-of-type {\n",
              "        vertical-align: middle;\n",
              "    }\n",
              "\n",
              "    .dataframe tbody tr th {\n",
              "        vertical-align: top;\n",
              "    }\n",
              "\n",
              "    .dataframe thead th {\n",
              "        text-align: right;\n",
              "    }\n",
              "</style>\n",
              "<table border=\"1\" class=\"dataframe\">\n",
              "  <thead>\n",
              "    <tr style=\"text-align: right;\">\n",
              "      <th></th>\n",
              "      <th>Loan_ID</th>\n",
              "      <th>Gender</th>\n",
              "      <th>Married</th>\n",
              "      <th>Dependents</th>\n",
              "      <th>Education</th>\n",
              "      <th>Self_Employed</th>\n",
              "      <th>ApplicantIncome</th>\n",
              "      <th>CoapplicantIncome</th>\n",
              "      <th>LoanAmount</th>\n",
              "      <th>Loan_Amount_Term</th>\n",
              "      <th>Credit_History</th>\n",
              "      <th>Property_Area</th>\n",
              "      <th>Loan_Status</th>\n",
              "    </tr>\n",
              "  </thead>\n",
              "  <tbody>\n",
              "    <tr>\n",
              "      <th>0</th>\n",
              "      <td>LP001002</td>\n",
              "      <td>Male</td>\n",
              "      <td>No</td>\n",
              "      <td>0</td>\n",
              "      <td>Graduate</td>\n",
              "      <td>No</td>\n",
              "      <td>5849</td>\n",
              "      <td>0.0</td>\n",
              "      <td>NaN</td>\n",
              "      <td>360.0</td>\n",
              "      <td>1.0</td>\n",
              "      <td>Urban</td>\n",
              "      <td>Y</td>\n",
              "    </tr>\n",
              "    <tr>\n",
              "      <th>1</th>\n",
              "      <td>LP001003</td>\n",
              "      <td>Male</td>\n",
              "      <td>Yes</td>\n",
              "      <td>1</td>\n",
              "      <td>Graduate</td>\n",
              "      <td>No</td>\n",
              "      <td>4583</td>\n",
              "      <td>1508.0</td>\n",
              "      <td>128.0</td>\n",
              "      <td>360.0</td>\n",
              "      <td>1.0</td>\n",
              "      <td>Rural</td>\n",
              "      <td>N</td>\n",
              "    </tr>\n",
              "    <tr>\n",
              "      <th>2</th>\n",
              "      <td>LP001005</td>\n",
              "      <td>Male</td>\n",
              "      <td>Yes</td>\n",
              "      <td>0</td>\n",
              "      <td>Graduate</td>\n",
              "      <td>Yes</td>\n",
              "      <td>3000</td>\n",
              "      <td>0.0</td>\n",
              "      <td>66.0</td>\n",
              "      <td>360.0</td>\n",
              "      <td>1.0</td>\n",
              "      <td>Urban</td>\n",
              "      <td>Y</td>\n",
              "    </tr>\n",
              "    <tr>\n",
              "      <th>3</th>\n",
              "      <td>LP001006</td>\n",
              "      <td>Male</td>\n",
              "      <td>Yes</td>\n",
              "      <td>0</td>\n",
              "      <td>Not Graduate</td>\n",
              "      <td>No</td>\n",
              "      <td>2583</td>\n",
              "      <td>2358.0</td>\n",
              "      <td>120.0</td>\n",
              "      <td>360.0</td>\n",
              "      <td>1.0</td>\n",
              "      <td>Urban</td>\n",
              "      <td>Y</td>\n",
              "    </tr>\n",
              "    <tr>\n",
              "      <th>4</th>\n",
              "      <td>LP001008</td>\n",
              "      <td>Male</td>\n",
              "      <td>No</td>\n",
              "      <td>0</td>\n",
              "      <td>Graduate</td>\n",
              "      <td>No</td>\n",
              "      <td>6000</td>\n",
              "      <td>0.0</td>\n",
              "      <td>141.0</td>\n",
              "      <td>360.0</td>\n",
              "      <td>1.0</td>\n",
              "      <td>Urban</td>\n",
              "      <td>Y</td>\n",
              "    </tr>\n",
              "  </tbody>\n",
              "</table>\n",
              "</div>\n",
              "      <button class=\"colab-df-convert\" onclick=\"convertToInteractive('df-a2c2127c-d552-4a78-ad6b-6ba3acccaa54')\"\n",
              "              title=\"Convert this dataframe to an interactive table.\"\n",
              "              style=\"display:none;\">\n",
              "        \n",
              "  <svg xmlns=\"http://www.w3.org/2000/svg\" height=\"24px\"viewBox=\"0 0 24 24\"\n",
              "       width=\"24px\">\n",
              "    <path d=\"M0 0h24v24H0V0z\" fill=\"none\"/>\n",
              "    <path d=\"M18.56 5.44l.94 2.06.94-2.06 2.06-.94-2.06-.94-.94-2.06-.94 2.06-2.06.94zm-11 1L8.5 8.5l.94-2.06 2.06-.94-2.06-.94L8.5 2.5l-.94 2.06-2.06.94zm10 10l.94 2.06.94-2.06 2.06-.94-2.06-.94-.94-2.06-.94 2.06-2.06.94z\"/><path d=\"M17.41 7.96l-1.37-1.37c-.4-.4-.92-.59-1.43-.59-.52 0-1.04.2-1.43.59L10.3 9.45l-7.72 7.72c-.78.78-.78 2.05 0 2.83L4 21.41c.39.39.9.59 1.41.59.51 0 1.02-.2 1.41-.59l7.78-7.78 2.81-2.81c.8-.78.8-2.07 0-2.86zM5.41 20L4 18.59l7.72-7.72 1.47 1.35L5.41 20z\"/>\n",
              "  </svg>\n",
              "      </button>\n",
              "      \n",
              "  <style>\n",
              "    .colab-df-container {\n",
              "      display:flex;\n",
              "      flex-wrap:wrap;\n",
              "      gap: 12px;\n",
              "    }\n",
              "\n",
              "    .colab-df-convert {\n",
              "      background-color: #E8F0FE;\n",
              "      border: none;\n",
              "      border-radius: 50%;\n",
              "      cursor: pointer;\n",
              "      display: none;\n",
              "      fill: #1967D2;\n",
              "      height: 32px;\n",
              "      padding: 0 0 0 0;\n",
              "      width: 32px;\n",
              "    }\n",
              "\n",
              "    .colab-df-convert:hover {\n",
              "      background-color: #E2EBFA;\n",
              "      box-shadow: 0px 1px 2px rgba(60, 64, 67, 0.3), 0px 1px 3px 1px rgba(60, 64, 67, 0.15);\n",
              "      fill: #174EA6;\n",
              "    }\n",
              "\n",
              "    [theme=dark] .colab-df-convert {\n",
              "      background-color: #3B4455;\n",
              "      fill: #D2E3FC;\n",
              "    }\n",
              "\n",
              "    [theme=dark] .colab-df-convert:hover {\n",
              "      background-color: #434B5C;\n",
              "      box-shadow: 0px 1px 3px 1px rgba(0, 0, 0, 0.15);\n",
              "      filter: drop-shadow(0px 1px 2px rgba(0, 0, 0, 0.3));\n",
              "      fill: #FFFFFF;\n",
              "    }\n",
              "  </style>\n",
              "\n",
              "      <script>\n",
              "        const buttonEl =\n",
              "          document.querySelector('#df-a2c2127c-d552-4a78-ad6b-6ba3acccaa54 button.colab-df-convert');\n",
              "        buttonEl.style.display =\n",
              "          google.colab.kernel.accessAllowed ? 'block' : 'none';\n",
              "\n",
              "        async function convertToInteractive(key) {\n",
              "          const element = document.querySelector('#df-a2c2127c-d552-4a78-ad6b-6ba3acccaa54');\n",
              "          const dataTable =\n",
              "            await google.colab.kernel.invokeFunction('convertToInteractive',\n",
              "                                                     [key], {});\n",
              "          if (!dataTable) return;\n",
              "\n",
              "          const docLinkHtml = 'Like what you see? Visit the ' +\n",
              "            '<a target=\"_blank\" href=https://colab.research.google.com/notebooks/data_table.ipynb>data table notebook</a>'\n",
              "            + ' to learn more about interactive tables.';\n",
              "          element.innerHTML = '';\n",
              "          dataTable['output_type'] = 'display_data';\n",
              "          await google.colab.output.renderOutput(dataTable, element);\n",
              "          const docLink = document.createElement('div');\n",
              "          docLink.innerHTML = docLinkHtml;\n",
              "          element.appendChild(docLink);\n",
              "        }\n",
              "      </script>\n",
              "    </div>\n",
              "  </div>\n",
              "  "
            ]
          },
          "metadata": {},
          "execution_count": 866
        }
      ]
    },
    {
      "cell_type": "code",
      "source": [
        "df.shape"
      ],
      "metadata": {
        "colab": {
          "base_uri": "https://localhost:8080/"
        },
        "id": "SiFaya2jIoWN",
        "outputId": "e1871ddd-7192-4c69-8327-9287932b4134"
      },
      "execution_count": 867,
      "outputs": [
        {
          "output_type": "execute_result",
          "data": {
            "text/plain": [
              "(614, 13)"
            ]
          },
          "metadata": {},
          "execution_count": 867
        }
      ]
    },
    {
      "cell_type": "code",
      "source": [
        "# Dropping the missing values\n",
        "df.dropna(inplace=True)"
      ],
      "metadata": {
        "id": "eqRxCdHeIrrZ"
      },
      "execution_count": 868,
      "outputs": []
    },
    {
      "cell_type": "code",
      "source": [
        "# Checking if the dataframe still has null values \n",
        "df.isna().sum()"
      ],
      "metadata": {
        "colab": {
          "base_uri": "https://localhost:8080/"
        },
        "id": "aAPQlCqfJsKG",
        "outputId": "2116bcb0-49c7-4410-f727-a594365897dd"
      },
      "execution_count": 869,
      "outputs": [
        {
          "output_type": "execute_result",
          "data": {
            "text/plain": [
              "Loan_ID              0\n",
              "Gender               0\n",
              "Married              0\n",
              "Dependents           0\n",
              "Education            0\n",
              "Self_Employed        0\n",
              "ApplicantIncome      0\n",
              "CoapplicantIncome    0\n",
              "LoanAmount           0\n",
              "Loan_Amount_Term     0\n",
              "Credit_History       0\n",
              "Property_Area        0\n",
              "Loan_Status          0\n",
              "dtype: int64"
            ]
          },
          "metadata": {},
          "execution_count": 869
        }
      ]
    },
    {
      "cell_type": "code",
      "source": [
        "df.info()"
      ],
      "metadata": {
        "colab": {
          "base_uri": "https://localhost:8080/"
        },
        "id": "Q2H9uf3RJuHd",
        "outputId": "0ad9675b-994c-48f2-8d6e-ef1868bc17aa"
      },
      "execution_count": 870,
      "outputs": [
        {
          "output_type": "stream",
          "name": "stdout",
          "text": [
            "<class 'pandas.core.frame.DataFrame'>\n",
            "Int64Index: 480 entries, 1 to 613\n",
            "Data columns (total 13 columns):\n",
            " #   Column             Non-Null Count  Dtype  \n",
            "---  ------             --------------  -----  \n",
            " 0   Loan_ID            480 non-null    object \n",
            " 1   Gender             480 non-null    object \n",
            " 2   Married            480 non-null    object \n",
            " 3   Dependents         480 non-null    object \n",
            " 4   Education          480 non-null    object \n",
            " 5   Self_Employed      480 non-null    object \n",
            " 6   ApplicantIncome    480 non-null    int64  \n",
            " 7   CoapplicantIncome  480 non-null    float64\n",
            " 8   LoanAmount         480 non-null    float64\n",
            " 9   Loan_Amount_Term   480 non-null    float64\n",
            " 10  Credit_History     480 non-null    float64\n",
            " 11  Property_Area      480 non-null    object \n",
            " 12  Loan_Status        480 non-null    object \n",
            "dtypes: float64(4), int64(1), object(8)\n",
            "memory usage: 52.5+ KB\n"
          ]
        }
      ]
    },
    {
      "cell_type": "code",
      "source": [
        "df.describe()"
      ],
      "metadata": {
        "colab": {
          "base_uri": "https://localhost:8080/",
          "height": 300
        },
        "id": "VOnew0JoKd4J",
        "outputId": "c5afdd03-bb0c-43d5-96b1-db88908f508f"
      },
      "execution_count": 871,
      "outputs": [
        {
          "output_type": "execute_result",
          "data": {
            "text/plain": [
              "       ApplicantIncome  CoapplicantIncome  LoanAmount  Loan_Amount_Term  \\\n",
              "count       480.000000         480.000000  480.000000        480.000000   \n",
              "mean       5364.231250        1581.093583  144.735417        342.050000   \n",
              "std        5668.251251        2617.692267   80.508164         65.212401   \n",
              "min         150.000000           0.000000    9.000000         36.000000   \n",
              "25%        2898.750000           0.000000  100.000000        360.000000   \n",
              "50%        3859.000000        1084.500000  128.000000        360.000000   \n",
              "75%        5852.500000        2253.250000  170.000000        360.000000   \n",
              "max       81000.000000       33837.000000  600.000000        480.000000   \n",
              "\n",
              "       Credit_History  \n",
              "count      480.000000  \n",
              "mean         0.854167  \n",
              "std          0.353307  \n",
              "min          0.000000  \n",
              "25%          1.000000  \n",
              "50%          1.000000  \n",
              "75%          1.000000  \n",
              "max          1.000000  "
            ],
            "text/html": [
              "\n",
              "  <div id=\"df-dab86c39-a530-45ca-b882-c69cb48b1b03\">\n",
              "    <div class=\"colab-df-container\">\n",
              "      <div>\n",
              "<style scoped>\n",
              "    .dataframe tbody tr th:only-of-type {\n",
              "        vertical-align: middle;\n",
              "    }\n",
              "\n",
              "    .dataframe tbody tr th {\n",
              "        vertical-align: top;\n",
              "    }\n",
              "\n",
              "    .dataframe thead th {\n",
              "        text-align: right;\n",
              "    }\n",
              "</style>\n",
              "<table border=\"1\" class=\"dataframe\">\n",
              "  <thead>\n",
              "    <tr style=\"text-align: right;\">\n",
              "      <th></th>\n",
              "      <th>ApplicantIncome</th>\n",
              "      <th>CoapplicantIncome</th>\n",
              "      <th>LoanAmount</th>\n",
              "      <th>Loan_Amount_Term</th>\n",
              "      <th>Credit_History</th>\n",
              "    </tr>\n",
              "  </thead>\n",
              "  <tbody>\n",
              "    <tr>\n",
              "      <th>count</th>\n",
              "      <td>480.000000</td>\n",
              "      <td>480.000000</td>\n",
              "      <td>480.000000</td>\n",
              "      <td>480.000000</td>\n",
              "      <td>480.000000</td>\n",
              "    </tr>\n",
              "    <tr>\n",
              "      <th>mean</th>\n",
              "      <td>5364.231250</td>\n",
              "      <td>1581.093583</td>\n",
              "      <td>144.735417</td>\n",
              "      <td>342.050000</td>\n",
              "      <td>0.854167</td>\n",
              "    </tr>\n",
              "    <tr>\n",
              "      <th>std</th>\n",
              "      <td>5668.251251</td>\n",
              "      <td>2617.692267</td>\n",
              "      <td>80.508164</td>\n",
              "      <td>65.212401</td>\n",
              "      <td>0.353307</td>\n",
              "    </tr>\n",
              "    <tr>\n",
              "      <th>min</th>\n",
              "      <td>150.000000</td>\n",
              "      <td>0.000000</td>\n",
              "      <td>9.000000</td>\n",
              "      <td>36.000000</td>\n",
              "      <td>0.000000</td>\n",
              "    </tr>\n",
              "    <tr>\n",
              "      <th>25%</th>\n",
              "      <td>2898.750000</td>\n",
              "      <td>0.000000</td>\n",
              "      <td>100.000000</td>\n",
              "      <td>360.000000</td>\n",
              "      <td>1.000000</td>\n",
              "    </tr>\n",
              "    <tr>\n",
              "      <th>50%</th>\n",
              "      <td>3859.000000</td>\n",
              "      <td>1084.500000</td>\n",
              "      <td>128.000000</td>\n",
              "      <td>360.000000</td>\n",
              "      <td>1.000000</td>\n",
              "    </tr>\n",
              "    <tr>\n",
              "      <th>75%</th>\n",
              "      <td>5852.500000</td>\n",
              "      <td>2253.250000</td>\n",
              "      <td>170.000000</td>\n",
              "      <td>360.000000</td>\n",
              "      <td>1.000000</td>\n",
              "    </tr>\n",
              "    <tr>\n",
              "      <th>max</th>\n",
              "      <td>81000.000000</td>\n",
              "      <td>33837.000000</td>\n",
              "      <td>600.000000</td>\n",
              "      <td>480.000000</td>\n",
              "      <td>1.000000</td>\n",
              "    </tr>\n",
              "  </tbody>\n",
              "</table>\n",
              "</div>\n",
              "      <button class=\"colab-df-convert\" onclick=\"convertToInteractive('df-dab86c39-a530-45ca-b882-c69cb48b1b03')\"\n",
              "              title=\"Convert this dataframe to an interactive table.\"\n",
              "              style=\"display:none;\">\n",
              "        \n",
              "  <svg xmlns=\"http://www.w3.org/2000/svg\" height=\"24px\"viewBox=\"0 0 24 24\"\n",
              "       width=\"24px\">\n",
              "    <path d=\"M0 0h24v24H0V0z\" fill=\"none\"/>\n",
              "    <path d=\"M18.56 5.44l.94 2.06.94-2.06 2.06-.94-2.06-.94-.94-2.06-.94 2.06-2.06.94zm-11 1L8.5 8.5l.94-2.06 2.06-.94-2.06-.94L8.5 2.5l-.94 2.06-2.06.94zm10 10l.94 2.06.94-2.06 2.06-.94-2.06-.94-.94-2.06-.94 2.06-2.06.94z\"/><path d=\"M17.41 7.96l-1.37-1.37c-.4-.4-.92-.59-1.43-.59-.52 0-1.04.2-1.43.59L10.3 9.45l-7.72 7.72c-.78.78-.78 2.05 0 2.83L4 21.41c.39.39.9.59 1.41.59.51 0 1.02-.2 1.41-.59l7.78-7.78 2.81-2.81c.8-.78.8-2.07 0-2.86zM5.41 20L4 18.59l7.72-7.72 1.47 1.35L5.41 20z\"/>\n",
              "  </svg>\n",
              "      </button>\n",
              "      \n",
              "  <style>\n",
              "    .colab-df-container {\n",
              "      display:flex;\n",
              "      flex-wrap:wrap;\n",
              "      gap: 12px;\n",
              "    }\n",
              "\n",
              "    .colab-df-convert {\n",
              "      background-color: #E8F0FE;\n",
              "      border: none;\n",
              "      border-radius: 50%;\n",
              "      cursor: pointer;\n",
              "      display: none;\n",
              "      fill: #1967D2;\n",
              "      height: 32px;\n",
              "      padding: 0 0 0 0;\n",
              "      width: 32px;\n",
              "    }\n",
              "\n",
              "    .colab-df-convert:hover {\n",
              "      background-color: #E2EBFA;\n",
              "      box-shadow: 0px 1px 2px rgba(60, 64, 67, 0.3), 0px 1px 3px 1px rgba(60, 64, 67, 0.15);\n",
              "      fill: #174EA6;\n",
              "    }\n",
              "\n",
              "    [theme=dark] .colab-df-convert {\n",
              "      background-color: #3B4455;\n",
              "      fill: #D2E3FC;\n",
              "    }\n",
              "\n",
              "    [theme=dark] .colab-df-convert:hover {\n",
              "      background-color: #434B5C;\n",
              "      box-shadow: 0px 1px 3px 1px rgba(0, 0, 0, 0.15);\n",
              "      filter: drop-shadow(0px 1px 2px rgba(0, 0, 0, 0.3));\n",
              "      fill: #FFFFFF;\n",
              "    }\n",
              "  </style>\n",
              "\n",
              "      <script>\n",
              "        const buttonEl =\n",
              "          document.querySelector('#df-dab86c39-a530-45ca-b882-c69cb48b1b03 button.colab-df-convert');\n",
              "        buttonEl.style.display =\n",
              "          google.colab.kernel.accessAllowed ? 'block' : 'none';\n",
              "\n",
              "        async function convertToInteractive(key) {\n",
              "          const element = document.querySelector('#df-dab86c39-a530-45ca-b882-c69cb48b1b03');\n",
              "          const dataTable =\n",
              "            await google.colab.kernel.invokeFunction('convertToInteractive',\n",
              "                                                     [key], {});\n",
              "          if (!dataTable) return;\n",
              "\n",
              "          const docLinkHtml = 'Like what you see? Visit the ' +\n",
              "            '<a target=\"_blank\" href=https://colab.research.google.com/notebooks/data_table.ipynb>data table notebook</a>'\n",
              "            + ' to learn more about interactive tables.';\n",
              "          element.innerHTML = '';\n",
              "          dataTable['output_type'] = 'display_data';\n",
              "          await google.colab.output.renderOutput(dataTable, element);\n",
              "          const docLink = document.createElement('div');\n",
              "          docLink.innerHTML = docLinkHtml;\n",
              "          element.appendChild(docLink);\n",
              "        }\n",
              "      </script>\n",
              "    </div>\n",
              "  </div>\n",
              "  "
            ]
          },
          "metadata": {},
          "execution_count": 871
        }
      ]
    },
    {
      "cell_type": "code",
      "source": [
        "df.drop('Loan_ID', axis=1, inplace=True)"
      ],
      "metadata": {
        "id": "HRZehLxoSXhL"
      },
      "execution_count": 872,
      "outputs": []
    },
    {
      "cell_type": "code",
      "source": [
        "# calculating correlations between predictors and predicting value\n",
        "corr_matrix = df.corr()\n"
      ],
      "metadata": {
        "id": "WHCQBdnnSXjs"
      },
      "execution_count": 873,
      "outputs": []
    },
    {
      "cell_type": "code",
      "source": [
        "sns.heatmap(corr_matrix, cmap=\"YlGnBu\", annot=True)\n",
        "plt.show()\n"
      ],
      "metadata": {
        "colab": {
          "base_uri": "https://localhost:8080/",
          "height": 557
        },
        "id": "oDFk7L_oSXmU",
        "outputId": "f163cec4-ba08-4288-a5bb-260ef2ba9afa"
      },
      "execution_count": 874,
      "outputs": [
        {
          "output_type": "display_data",
          "data": {
            "text/plain": [
              "<Figure size 640x480 with 2 Axes>"
            ],
            "image/png": "[encoded data removed]"
          },
          "metadata": {}
        }
      ]
    },
    {
      "cell_type": "code",
      "source": [
        "df.info()"
      ],
      "metadata": {
        "colab": {
          "base_uri": "https://localhost:8080/"
        },
        "id": "PJIlEEhSgC-F",
        "outputId": "566be395-253f-4868-a3c9-4bf68f79f028"
      },
      "execution_count": 875,
      "outputs": [
        {
          "output_type": "stream",
          "name": "stdout",
          "text": [
            "<class 'pandas.core.frame.DataFrame'>\n",
            "Int64Index: 480 entries, 1 to 613\n",
            "Data columns (total 12 columns):\n",
            " #   Column             Non-Null Count  Dtype  \n",
            "---  ------             --------------  -----  \n",
            " 0   Gender             480 non-null    object \n",
            " 1   Married            480 non-null    object \n",
            " 2   Dependents         480 non-null    object \n",
            " 3   Education          480 non-null    object \n",
            " 4   Self_Employed      480 non-null    object \n",
            " 5   ApplicantIncome    480 non-null    int64  \n",
            " 6   CoapplicantIncome  480 non-null    float64\n",
            " 7   LoanAmount         480 non-null    float64\n",
            " 8   Loan_Amount_Term   480 non-null    float64\n",
            " 9   Credit_History     480 non-null    float64\n",
            " 10  Property_Area      480 non-null    object \n",
            " 11  Loan_Status        480 non-null    object \n",
            "dtypes: float64(4), int64(1), object(7)\n",
            "memory usage: 48.8+ KB\n"
          ]
        }
      ]
    },
    {
      "cell_type": "markdown",
      "source": [
        "## Label Encoding of categorical data\n"
      ],
      "metadata": {
        "id": "1UHpNef3p7RC"
      }
    },
    {
      "cell_type": "code",
      "source": [
        "# Converting categorical data to numerical one by LabelEncoder encoding\n",
        "col = ['Gender', 'Married', 'Dependents','Education', 'Self_Employed', 'Property_Area','Loan_Status']\n",
        "le = LabelEncoder()\n",
        "for column in col:\n",
        "    df[column] = le.fit_transform(df[column])\n"
      ],
      "metadata": {
        "id": "vdPsEab_gDAu"
      },
      "execution_count": 876,
      "outputs": []
    },
    {
      "cell_type": "code",
      "source": [
        "# Data-frame encoded \n",
        "df.head()"
      ],
      "metadata": {
        "colab": {
          "base_uri": "https://localhost:8080/",
          "height": 270
        },
        "id": "HvAwLYaWgDDV",
        "outputId": "6bad8836-0f5c-43a7-9cd8-b018273d31ec"
      },
      "execution_count": 877,
      "outputs": [
        {
          "output_type": "execute_result",
          "data": {
            "text/plain": [
              "   Gender  Married  Dependents  Education  Self_Employed  ApplicantIncome  \\\n",
              "1       1        1           1          0              0             4583   \n",
              "2       1        1           0          0              1             3000   \n",
              "3       1        1           0          1              0             2583   \n",
              "4       1        0           0          0              0             6000   \n",
              "5       1        1           2          0              1             5417   \n",
              "\n",
              "   CoapplicantIncome  LoanAmount  Loan_Amount_Term  Credit_History  \\\n",
              "1             1508.0       128.0             360.0             1.0   \n",
              "2                0.0        66.0             360.0             1.0   \n",
              "3             2358.0       120.0             360.0             1.0   \n",
              "4                0.0       141.0             360.0             1.0   \n",
              "5             4196.0       267.0             360.0             1.0   \n",
              "\n",
              "   Property_Area  Loan_Status  \n",
              "1              0            0  \n",
              "2              2            1  \n",
              "3              2            1  \n",
              "4              2            1  \n",
              "5              2            1  "
            ],
            "text/html": [
              "\n",
              "  <div id=\"df-1e5341bf-36db-44c4-85a6-bc0782d91e74\">\n",
              "    <div class=\"colab-df-container\">\n",
              "      <div>\n",
              "<style scoped>\n",
              "    .dataframe tbody tr th:only-of-type {\n",
              "        vertical-align: middle;\n",
              "    }\n",
              "\n",
              "    .dataframe tbody tr th {\n",
              "        vertical-align: top;\n",
              "    }\n",
              "\n",
              "    .dataframe thead th {\n",
              "        text-align: right;\n",
              "    }\n",
              "</style>\n",
              "<table border=\"1\" class=\"dataframe\">\n",
              "  <thead>\n",
              "    <tr style=\"text-align: right;\">\n",
              "      <th></th>\n",
              "      <th>Gender</th>\n",
              "      <th>Married</th>\n",
              "      <th>Dependents</th>\n",
              "      <th>Education</th>\n",
              "      <th>Self_Employed</th>\n",
              "      <th>ApplicantIncome</th>\n",
              "      <th>CoapplicantIncome</th>\n",
              "      <th>LoanAmount</th>\n",
              "      <th>Loan_Amount_Term</th>\n",
              "      <th>Credit_History</th>\n",
              "      <th>Property_Area</th>\n",
              "      <th>Loan_Status</th>\n",
              "    </tr>\n",
              "  </thead>\n",
              "  <tbody>\n",
              "    <tr>\n",
              "      <th>1</th>\n",
              "      <td>1</td>\n",
              "      <td>1</td>\n",
              "      <td>1</td>\n",
              "      <td>0</td>\n",
              "      <td>0</td>\n",
              "      <td>4583</td>\n",
              "      <td>1508.0</td>\n",
              "      <td>128.0</td>\n",
              "      <td>360.0</td>\n",
              "      <td>1.0</td>\n",
              "      <td>0</td>\n",
              "      <td>0</td>\n",
              "    </tr>\n",
              "    <tr>\n",
              "      <th>2</th>\n",
              "      <td>1</td>\n",
              "      <td>1</td>\n",
              "      <td>0</td>\n",
              "      <td>0</td>\n",
              "      <td>1</td>\n",
              "      <td>3000</td>\n",
              "      <td>0.0</td>\n",
              "      <td>66.0</td>\n",
              "      <td>360.0</td>\n",
              "      <td>1.0</td>\n",
              "      <td>2</td>\n",
              "      <td>1</td>\n",
              "    </tr>\n",
              "    <tr>\n",
              "      <th>3</th>\n",
              "      <td>1</td>\n",
              "      <td>1</td>\n",
              "      <td>0</td>\n",
              "      <td>1</td>\n",
              "      <td>0</td>\n",
              "      <td>2583</td>\n",
              "      <td>2358.0</td>\n",
              "      <td>120.0</td>\n",
              "      <td>360.0</td>\n",
              "      <td>1.0</td>\n",
              "      <td>2</td>\n",
              "      <td>1</td>\n",
              "    </tr>\n",
              "    <tr>\n",
              "      <th>4</th>\n",
              "      <td>1</td>\n",
              "      <td>0</td>\n",
              "      <td>0</td>\n",
              "      <td>0</td>\n",
              "      <td>0</td>\n",
              "      <td>6000</td>\n",
              "      <td>0.0</td>\n",
              "      <td>141.0</td>\n",
              "      <td>360.0</td>\n",
              "      <td>1.0</td>\n",
              "      <td>2</td>\n",
              "      <td>1</td>\n",
              "    </tr>\n",
              "    <tr>\n",
              "      <th>5</th>\n",
              "      <td>1</td>\n",
              "      <td>1</td>\n",
              "      <td>2</td>\n",
              "      <td>0</td>\n",
              "      <td>1</td>\n",
              "      <td>5417</td>\n",
              "      <td>4196.0</td>\n",
              "      <td>267.0</td>\n",
              "      <td>360.0</td>\n",
              "      <td>1.0</td>\n",
              "      <td>2</td>\n",
              "      <td>1</td>\n",
              "    </tr>\n",
              "  </tbody>\n",
              "</table>\n",
              "</div>\n",
              "      <button class=\"colab-df-convert\" onclick=\"convertToInteractive('df-1e5341bf-36db-44c4-85a6-bc0782d91e74')\"\n",
              "              title=\"Convert this dataframe to an interactive table.\"\n",
              "              style=\"display:none;\">\n",
              "        \n",
              "  <svg xmlns=\"http://www.w3.org/2000/svg\" height=\"24px\"viewBox=\"0 0 24 24\"\n",
              "       width=\"24px\">\n",
              "    <path d=\"M0 0h24v24H0V0z\" fill=\"none\"/>\n",
              "    <path d=\"M18.56 5.44l.94 2.06.94-2.06 2.06-.94-2.06-.94-.94-2.06-.94 2.06-2.06.94zm-11 1L8.5 8.5l.94-2.06 2.06-.94-2.06-.94L8.5 2.5l-.94 2.06-2.06.94zm10 10l.94 2.06.94-2.06 2.06-.94-2.06-.94-.94-2.06-.94 2.06-2.06.94z\"/><path d=\"M17.41 7.96l-1.37-1.37c-.4-.4-.92-.59-1.43-.59-.52 0-1.04.2-1.43.59L10.3 9.45l-7.72 7.72c-.78.78-.78 2.05 0 2.83L4 21.41c.39.39.9.59 1.41.59.51 0 1.02-.2 1.41-.59l7.78-7.78 2.81-2.81c.8-.78.8-2.07 0-2.86zM5.41 20L4 18.59l7.72-7.72 1.47 1.35L5.41 20z\"/>\n",
              "  </svg>\n",
              "      </button>\n",
              "      \n",
              "  <style>\n",
              "    .colab-df-container {\n",
              "      display:flex;\n",
              "      flex-wrap:wrap;\n",
              "      gap: 12px;\n",
              "    }\n",
              "\n",
              "    .colab-df-convert {\n",
              "      background-color: #E8F0FE;\n",
              "      border: none;\n",
              "      border-radius: 50%;\n",
              "      cursor: pointer;\n",
              "      display: none;\n",
              "      fill: #1967D2;\n",
              "      height: 32px;\n",
              "      padding: 0 0 0 0;\n",
              "      width: 32px;\n",
              "    }\n",
              "\n",
              "    .colab-df-convert:hover {\n",
              "      background-color: #E2EBFA;\n",
              "      box-shadow: 0px 1px 2px rgba(60, 64, 67, 0.3), 0px 1px 3px 1px rgba(60, 64, 67, 0.15);\n",
              "      fill: #174EA6;\n",
              "    }\n",
              "\n",
              "    [theme=dark] .colab-df-convert {\n",
              "      background-color: #3B4455;\n",
              "      fill: #D2E3FC;\n",
              "    }\n",
              "\n",
              "    [theme=dark] .colab-df-convert:hover {\n",
              "      background-color: #434B5C;\n",
              "      box-shadow: 0px 1px 3px 1px rgba(0, 0, 0, 0.15);\n",
              "      filter: drop-shadow(0px 1px 2px rgba(0, 0, 0, 0.3));\n",
              "      fill: #FFFFFF;\n",
              "    }\n",
              "  </style>\n",
              "\n",
              "      <script>\n",
              "        const buttonEl =\n",
              "          document.querySelector('#df-1e5341bf-36db-44c4-85a6-bc0782d91e74 button.colab-df-convert');\n",
              "        buttonEl.style.display =\n",
              "          google.colab.kernel.accessAllowed ? 'block' : 'none';\n",
              "\n",
              "        async function convertToInteractive(key) {\n",
              "          const element = document.querySelector('#df-1e5341bf-36db-44c4-85a6-bc0782d91e74');\n",
              "          const dataTable =\n",
              "            await google.colab.kernel.invokeFunction('convertToInteractive',\n",
              "                                                     [key], {});\n",
              "          if (!dataTable) return;\n",
              "\n",
              "          const docLinkHtml = 'Like what you see? Visit the ' +\n",
              "            '<a target=\"_blank\" href=https://colab.research.google.com/notebooks/data_table.ipynb>data table notebook</a>'\n",
              "            + ' to learn more about interactive tables.';\n",
              "          element.innerHTML = '';\n",
              "          dataTable['output_type'] = 'display_data';\n",
              "          await google.colab.output.renderOutput(dataTable, element);\n",
              "          const docLink = document.createElement('div');\n",
              "          docLink.innerHTML = docLinkHtml;\n",
              "          element.appendChild(docLink);\n",
              "        }\n",
              "      </script>\n",
              "    </div>\n",
              "  </div>\n",
              "  "
            ]
          },
          "metadata": {},
          "execution_count": 877
        }
      ]
    },
    {
      "cell_type": "code",
      "source": [
        "# Encoded dataframe statistics \n",
        "df.describe()"
      ],
      "metadata": {
        "colab": {
          "base_uri": "https://localhost:8080/",
          "height": 364
        },
        "id": "kNfC1sH0gDF3",
        "outputId": "a2a8da9f-6cd0-48a3-b5cc-6704789f2d41"
      },
      "execution_count": 878,
      "outputs": [
        {
          "output_type": "execute_result",
          "data": {
            "text/plain": [
              "           Gender     Married  Dependents   Education  Self_Employed  \\\n",
              "count  480.000000  480.000000  480.000000  480.000000     480.000000   \n",
              "mean     0.820833    0.647917    0.777083    0.202083       0.137500   \n",
              "std      0.383892    0.478118    1.020815    0.401973       0.344734   \n",
              "min      0.000000    0.000000    0.000000    0.000000       0.000000   \n",
              "25%      1.000000    0.000000    0.000000    0.000000       0.000000   \n",
              "50%      1.000000    1.000000    0.000000    0.000000       0.000000   \n",
              "75%      1.000000    1.000000    2.000000    0.000000       0.000000   \n",
              "max      1.000000    1.000000    3.000000    1.000000       1.000000   \n",
              "\n",
              "       ApplicantIncome  CoapplicantIncome  LoanAmount  Loan_Amount_Term  \\\n",
              "count       480.000000         480.000000  480.000000        480.000000   \n",
              "mean       5364.231250        1581.093583  144.735417        342.050000   \n",
              "std        5668.251251        2617.692267   80.508164         65.212401   \n",
              "min         150.000000           0.000000    9.000000         36.000000   \n",
              "25%        2898.750000           0.000000  100.000000        360.000000   \n",
              "50%        3859.000000        1084.500000  128.000000        360.000000   \n",
              "75%        5852.500000        2253.250000  170.000000        360.000000   \n",
              "max       81000.000000       33837.000000  600.000000        480.000000   \n",
              "\n",
              "       Credit_History  Property_Area  Loan_Status  \n",
              "count      480.000000     480.000000   480.000000  \n",
              "mean         0.854167       1.022917     0.691667  \n",
              "std          0.353307       0.776411     0.462287  \n",
              "min          0.000000       0.000000     0.000000  \n",
              "25%          1.000000       0.000000     0.000000  \n",
              "50%          1.000000       1.000000     1.000000  \n",
              "75%          1.000000       2.000000     1.000000  \n",
              "max          1.000000       2.000000     1.000000  "
            ],
            "text/html": [
              "\n",
              "  <div id=\"df-abc314b8-fba8-496c-b54b-9765a726bcb8\">\n",
              "    <div class=\"colab-df-container\">\n",
              "      <div>\n",
              "<style scoped>\n",
              "    .dataframe tbody tr th:only-of-type {\n",
              "        vertical-align: middle;\n",
              "    }\n",
              "\n",
              "    .dataframe tbody tr th {\n",
              "        vertical-align: top;\n",
              "    }\n",
              "\n",
              "    .dataframe thead th {\n",
              "        text-align: right;\n",
              "    }\n",
              "</style>\n",
              "<table border=\"1\" class=\"dataframe\">\n",
              "  <thead>\n",
              "    <tr style=\"text-align: right;\">\n",
              "      <th></th>\n",
              "      <th>Gender</th>\n",
              "      <th>Married</th>\n",
              "      <th>Dependents</th>\n",
              "      <th>Education</th>\n",
              "      <th>Self_Employed</th>\n",
              "      <th>ApplicantIncome</th>\n",
              "      <th>CoapplicantIncome</th>\n",
              "      <th>LoanAmount</th>\n",
              "      <th>Loan_Amount_Term</th>\n",
              "      <th>Credit_History</th>\n",
              "      <th>Property_Area</th>\n",
              "      <th>Loan_Status</th>\n",
              "    </tr>\n",
              "  </thead>\n",
              "  <tbody>\n",
              "    <tr>\n",
              "      <th>count</th>\n",
              "      <td>480.000000</td>\n",
              "      <td>480.000000</td>\n",
              "      <td>480.000000</td>\n",
              "      <td>480.000000</td>\n",
              "      <td>480.000000</td>\n",
              "      <td>480.000000</td>\n",
              "      <td>480.000000</td>\n",
              "      <td>480.000000</td>\n",
              "      <td>480.000000</td>\n",
              "      <td>480.000000</td>\n",
              "      <td>480.000000</td>\n",
              "      <td>480.000000</td>\n",
              "    </tr>\n",
              "    <tr>\n",
              "      <th>mean</th>\n",
              "      <td>0.820833</td>\n",
              "      <td>0.647917</td>\n",
              "      <td>0.777083</td>\n",
              "      <td>0.202083</td>\n",
              "      <td>0.137500</td>\n",
              "      <td>5364.231250</td>\n",
              "      <td>1581.093583</td>\n",
              "      <td>144.735417</td>\n",
              "      <td>342.050000</td>\n",
              "      <td>0.854167</td>\n",
              "      <td>1.022917</td>\n",
              "      <td>0.691667</td>\n",
              "    </tr>\n",
              "    <tr>\n",
              "      <th>std</th>\n",
              "      <td>0.383892</td>\n",
              "      <td>0.478118</td>\n",
              "      <td>1.020815</td>\n",
              "      <td>0.401973</td>\n",
              "      <td>0.344734</td>\n",
              "      <td>5668.251251</td>\n",
              "      <td>2617.692267</td>\n",
              "      <td>80.508164</td>\n",
              "      <td>65.212401</td>\n",
              "      <td>0.353307</td>\n",
              "      <td>0.776411</td>\n",
              "      <td>0.462287</td>\n",
              "    </tr>\n",
              "    <tr>\n",
              "      <th>min</th>\n",
              "      <td>0.000000</td>\n",
              "      <td>0.000000</td>\n",
              "      <td>0.000000</td>\n",
              "      <td>0.000000</td>\n",
              "      <td>0.000000</td>\n",
              "      <td>150.000000</td>\n",
              "      <td>0.000000</td>\n",
              "      <td>9.000000</td>\n",
              "      <td>36.000000</td>\n",
              "      <td>0.000000</td>\n",
              "      <td>0.000000</td>\n",
              "      <td>0.000000</td>\n",
              "    </tr>\n",
              "    <tr>\n",
              "      <th>25%</th>\n",
              "      <td>1.000000</td>\n",
              "      <td>0.000000</td>\n",
              "      <td>0.000000</td>\n",
              "      <td>0.000000</td>\n",
              "      <td>0.000000</td>\n",
              "      <td>2898.750000</td>\n",
              "      <td>0.000000</td>\n",
              "      <td>100.000000</td>\n",
              "      <td>360.000000</td>\n",
              "      <td>1.000000</td>\n",
              "      <td>0.000000</td>\n",
              "      <td>0.000000</td>\n",
              "    </tr>\n",
              "    <tr>\n",
              "      <th>50%</th>\n",
              "      <td>1.000000</td>\n",
              "      <td>1.000000</td>\n",
              "      <td>0.000000</td>\n",
              "      <td>0.000000</td>\n",
              "      <td>0.000000</td>\n",
              "      <td>3859.000000</td>\n",
              "      <td>1084.500000</td>\n",
              "      <td>128.000000</td>\n",
              "      <td>360.000000</td>\n",
              "      <td>1.000000</td>\n",
              "      <td>1.000000</td>\n",
              "      <td>1.000000</td>\n",
              "    </tr>\n",
              "    <tr>\n",
              "      <th>75%</th>\n",
              "      <td>1.000000</td>\n",
              "      <td>1.000000</td>\n",
              "      <td>2.000000</td>\n",
              "      <td>0.000000</td>\n",
              "      <td>0.000000</td>\n",
              "      <td>5852.500000</td>\n",
              "      <td>2253.250000</td>\n",
              "      <td>170.000000</td>\n",
              "      <td>360.000000</td>\n",
              "      <td>1.000000</td>\n",
              "      <td>2.000000</td>\n",
              "      <td>1.000000</td>\n",
              "    </tr>\n",
              "    <tr>\n",
              "      <th>max</th>\n",
              "      <td>1.000000</td>\n",
              "      <td>1.000000</td>\n",
              "      <td>3.000000</td>\n",
              "      <td>1.000000</td>\n",
              "      <td>1.000000</td>\n",
              "      <td>81000.000000</td>\n",
              "      <td>33837.000000</td>\n",
              "      <td>600.000000</td>\n",
              "      <td>480.000000</td>\n",
              "      <td>1.000000</td>\n",
              "      <td>2.000000</td>\n",
              "      <td>1.000000</td>\n",
              "    </tr>\n",
              "  </tbody>\n",
              "</table>\n",
              "</div>\n",
              "      <button class=\"colab-df-convert\" onclick=\"convertToInteractive('df-abc314b8-fba8-496c-b54b-9765a726bcb8')\"\n",
              "              title=\"Convert this dataframe to an interactive table.\"\n",
              "              style=\"display:none;\">\n",
              "        \n",
              "  <svg xmlns=\"http://www.w3.org/2000/svg\" height=\"24px\"viewBox=\"0 0 24 24\"\n",
              "       width=\"24px\">\n",
              "    <path d=\"M0 0h24v24H0V0z\" fill=\"none\"/>\n",
              "    <path d=\"M18.56 5.44l.94 2.06.94-2.06 2.06-.94-2.06-.94-.94-2.06-.94 2.06-2.06.94zm-11 1L8.5 8.5l.94-2.06 2.06-.94-2.06-.94L8.5 2.5l-.94 2.06-2.06.94zm10 10l.94 2.06.94-2.06 2.06-.94-2.06-.94-.94-2.06-.94 2.06-2.06.94z\"/><path d=\"M17.41 7.96l-1.37-1.37c-.4-.4-.92-.59-1.43-.59-.52 0-1.04.2-1.43.59L10.3 9.45l-7.72 7.72c-.78.78-.78 2.05 0 2.83L4 21.41c.39.39.9.59 1.41.59.51 0 1.02-.2 1.41-.59l7.78-7.78 2.81-2.81c.8-.78.8-2.07 0-2.86zM5.41 20L4 18.59l7.72-7.72 1.47 1.35L5.41 20z\"/>\n",
              "  </svg>\n",
              "      </button>\n",
              "      \n",
              "  <style>\n",
              "    .colab-df-container {\n",
              "      display:flex;\n",
              "      flex-wrap:wrap;\n",
              "      gap: 12px;\n",
              "    }\n",
              "\n",
              "    .colab-df-convert {\n",
              "      background-color: #E8F0FE;\n",
              "      border: none;\n",
              "      border-radius: 50%;\n",
              "      cursor: pointer;\n",
              "      display: none;\n",
              "      fill: #1967D2;\n",
              "      height: 32px;\n",
              "      padding: 0 0 0 0;\n",
              "      width: 32px;\n",
              "    }\n",
              "\n",
              "    .colab-df-convert:hover {\n",
              "      background-color: #E2EBFA;\n",
              "      box-shadow: 0px 1px 2px rgba(60, 64, 67, 0.3), 0px 1px 3px 1px rgba(60, 64, 67, 0.15);\n",
              "      fill: #174EA6;\n",
              "    }\n",
              "\n",
              "    [theme=dark] .colab-df-convert {\n",
              "      background-color: #3B4455;\n",
              "      fill: #D2E3FC;\n",
              "    }\n",
              "\n",
              "    [theme=dark] .colab-df-convert:hover {\n",
              "      background-color: #434B5C;\n",
              "      box-shadow: 0px 1px 3px 1px rgba(0, 0, 0, 0.15);\n",
              "      filter: drop-shadow(0px 1px 2px rgba(0, 0, 0, 0.3));\n",
              "      fill: #FFFFFF;\n",
              "    }\n",
              "  </style>\n",
              "\n",
              "      <script>\n",
              "        const buttonEl =\n",
              "          document.querySelector('#df-abc314b8-fba8-496c-b54b-9765a726bcb8 button.colab-df-convert');\n",
              "        buttonEl.style.display =\n",
              "          google.colab.kernel.accessAllowed ? 'block' : 'none';\n",
              "\n",
              "        async function convertToInteractive(key) {\n",
              "          const element = document.querySelector('#df-abc314b8-fba8-496c-b54b-9765a726bcb8');\n",
              "          const dataTable =\n",
              "            await google.colab.kernel.invokeFunction('convertToInteractive',\n",
              "                                                     [key], {});\n",
              "          if (!dataTable) return;\n",
              "\n",
              "          const docLinkHtml = 'Like what you see? Visit the ' +\n",
              "            '<a target=\"_blank\" href=https://colab.research.google.com/notebooks/data_table.ipynb>data table notebook</a>'\n",
              "            + ' to learn more about interactive tables.';\n",
              "          element.innerHTML = '';\n",
              "          dataTable['output_type'] = 'display_data';\n",
              "          await google.colab.output.renderOutput(dataTable, element);\n",
              "          const docLink = document.createElement('div');\n",
              "          docLink.innerHTML = docLinkHtml;\n",
              "          element.appendChild(docLink);\n",
              "        }\n",
              "      </script>\n",
              "    </div>\n",
              "  </div>\n",
              "  "
            ]
          },
          "metadata": {},
          "execution_count": 878
        }
      ]
    },
    {
      "cell_type": "code",
      "source": [
        "# Target Variable y (where loan status is yes or no) converted it to a regression problem\n",
        "y = df['Loan_Status']\n",
        "y.shape\n"
      ],
      "metadata": {
        "colab": {
          "base_uri": "https://localhost:8080/"
        },
        "id": "u7DjYjytSXof",
        "outputId": "d3a02810-a018-4aab-f282-cc69ddffa8f2"
      },
      "execution_count": 879,
      "outputs": [
        {
          "output_type": "execute_result",
          "data": {
            "text/plain": [
              "(480,)"
            ]
          },
          "metadata": {},
          "execution_count": 879
        }
      ]
    },
    {
      "cell_type": "code",
      "source": [
        "\n",
        "X = df.drop('Loan_Status', axis =1)\n",
        "print(X.shape)"
      ],
      "metadata": {
        "colab": {
          "base_uri": "https://localhost:8080/"
        },
        "id": "O3N_jT4wSXrj",
        "outputId": "b4f93a2f-88ea-4661-aa3c-1ce2d9caf739"
      },
      "execution_count": 880,
      "outputs": [
        {
          "output_type": "stream",
          "name": "stdout",
          "text": [
            "(480, 11)\n"
          ]
        }
      ]
    },
    {
      "cell_type": "code",
      "source": [
        "#Dividing the data into training and testing sets\n",
        "X_train, X_test, y_train, y_test = train_test_split(X, y, test_size = 0.20, shuffle = True, random_state =42)"
      ],
      "metadata": {
        "id": "U2LJaCmrSXuO"
      },
      "execution_count": 881,
      "outputs": []
    },
    {
      "cell_type": "code",
      "source": [
        "print(X_train.shape, X_test.shape, y_train.shape, y_test.shape)"
      ],
      "metadata": {
        "colab": {
          "base_uri": "https://localhost:8080/"
        },
        "id": "VVkztnqtSXwv",
        "outputId": "b2554faa-1fc3-4baf-c084-c2a6f0b6b946"
      },
      "execution_count": 882,
      "outputs": [
        {
          "output_type": "stream",
          "name": "stdout",
          "text": [
            "(384, 11) (96, 11) (384,) (96,)\n"
          ]
        }
      ]
    },
    {
      "cell_type": "markdown",
      "source": [
        "## Scaling the numerical data for optimization"
      ],
      "metadata": {
        "id": "XngOP1cqpyi6"
      }
    },
    {
      "cell_type": "markdown",
      "source": [
        "This could be used to optimize the model further"
      ],
      "metadata": {
        "id": "eCTrEURVNlDO"
      }
    },
    {
      "cell_type": "code",
      "source": [
        "\n",
        "# I used Min- max scaler here to scale the numerical data which I encoded through Label-encoder\n",
        "\n",
        "from sklearn.preprocessing import MinMaxScaler\n",
        "\n",
        "scaler = MinMaxScaler()\n",
        "X_train = scaler.fit_transform(X_train)\n",
        "X_test = scaler.transform(X_test)"
      ],
      "metadata": {
        "id": "Vi5ROhxvSX0z"
      },
      "execution_count": 883,
      "outputs": []
    },
    {
      "cell_type": "code",
      "source": [
        "tmp = pd.DataFrame(X_train)\n",
        "tmp.describe()"
      ],
      "metadata": {
        "colab": {
          "base_uri": "https://localhost:8080/",
          "height": 300
        },
        "id": "kz9hBh5D6CfA",
        "outputId": "63286be0-ba95-4ec3-85e4-4d2a5ced1f7a"
      },
      "execution_count": 884,
      "outputs": [
        {
          "output_type": "execute_result",
          "data": {
            "text/plain": [
              "               0           1           2           3           4           5   \\\n",
              "count  384.000000  384.000000  384.000000  384.000000  384.000000  384.000000   \n",
              "mean     0.817708    0.632812    0.252604    0.197917    0.153646    0.065078   \n",
              "std      0.386588    0.482667    0.336571    0.398949    0.361079    0.075379   \n",
              "min      0.000000    0.000000    0.000000    0.000000    0.000000    0.000000   \n",
              "25%      1.000000    0.000000    0.000000    0.000000    0.000000    0.033080   \n",
              "50%      1.000000    1.000000    0.000000    0.000000    0.000000    0.045813   \n",
              "75%      1.000000    1.000000    0.416667    0.000000    0.000000    0.070167   \n",
              "max      1.000000    1.000000    1.000000    1.000000    1.000000    1.000000   \n",
              "\n",
              "               6           7           8           9           10  \n",
              "count  384.000000  384.000000  384.000000  384.000000  384.000000  \n",
              "mean     0.048334    0.227792    0.687289    0.846354    0.518229  \n",
              "std      0.082026    0.131002    0.151586    0.361079    0.390395  \n",
              "min      0.000000    0.000000    0.000000    0.000000    0.000000  \n",
              "25%      0.000000    0.155245    0.729730    1.000000    0.000000  \n",
              "50%      0.036631    0.202200    0.729730    1.000000    0.500000  \n",
              "75%      0.066591    0.269036    0.729730    1.000000    1.000000  \n",
              "max      1.000000    1.000000    1.000000    1.000000    1.000000  "
            ],
            "text/html": [
              "\n",
              "  <div id=\"df-333517ee-63e8-4509-9376-bd31b702d72f\">\n",
              "    <div class=\"colab-df-container\">\n",
              "      <div>\n",
              "<style scoped>\n",
              "    .dataframe tbody tr th:only-of-type {\n",
              "        vertical-align: middle;\n",
              "    }\n",
              "\n",
              "    .dataframe tbody tr th {\n",
              "        vertical-align: top;\n",
              "    }\n",
              "\n",
              "    .dataframe thead th {\n",
              "        text-align: right;\n",
              "    }\n",
              "</style>\n",
              "<table border=\"1\" class=\"dataframe\">\n",
              "  <thead>\n",
              "    <tr style=\"text-align: right;\">\n",
              "      <th></th>\n",
              "      <th>0</th>\n",
              "      <th>1</th>\n",
              "      <th>2</th>\n",
              "      <th>3</th>\n",
              "      <th>4</th>\n",
              "      <th>5</th>\n",
              "      <th>6</th>\n",
              "      <th>7</th>\n",
              "      <th>8</th>\n",
              "      <th>9</th>\n",
              "      <th>10</th>\n",
              "    </tr>\n",
              "  </thead>\n",
              "  <tbody>\n",
              "    <tr>\n",
              "      <th>count</th>\n",
              "      <td>384.000000</td>\n",
              "      <td>384.000000</td>\n",
              "      <td>384.000000</td>\n",
              "      <td>384.000000</td>\n",
              "      <td>384.000000</td>\n",
              "      <td>384.000000</td>\n",
              "      <td>384.000000</td>\n",
              "      <td>384.000000</td>\n",
              "      <td>384.000000</td>\n",
              "      <td>384.000000</td>\n",
              "      <td>384.000000</td>\n",
              "    </tr>\n",
              "    <tr>\n",
              "      <th>mean</th>\n",
              "      <td>0.817708</td>\n",
              "      <td>0.632812</td>\n",
              "      <td>0.252604</td>\n",
              "      <td>0.197917</td>\n",
              "      <td>0.153646</td>\n",
              "      <td>0.065078</td>\n",
              "      <td>0.048334</td>\n",
              "      <td>0.227792</td>\n",
              "      <td>0.687289</td>\n",
              "      <td>0.846354</td>\n",
              "      <td>0.518229</td>\n",
              "    </tr>\n",
              "    <tr>\n",
              "      <th>std</th>\n",
              "      <td>0.386588</td>\n",
              "      <td>0.482667</td>\n",
              "      <td>0.336571</td>\n",
              "      <td>0.398949</td>\n",
              "      <td>0.361079</td>\n",
              "      <td>0.075379</td>\n",
              "      <td>0.082026</td>\n",
              "      <td>0.131002</td>\n",
              "      <td>0.151586</td>\n",
              "      <td>0.361079</td>\n",
              "      <td>0.390395</td>\n",
              "    </tr>\n",
              "    <tr>\n",
              "      <th>min</th>\n",
              "      <td>0.000000</td>\n",
              "      <td>0.000000</td>\n",
              "      <td>0.000000</td>\n",
              "      <td>0.000000</td>\n",
              "      <td>0.000000</td>\n",
              "      <td>0.000000</td>\n",
              "      <td>0.000000</td>\n",
              "      <td>0.000000</td>\n",
              "      <td>0.000000</td>\n",
              "      <td>0.000000</td>\n",
              "      <td>0.000000</td>\n",
              "    </tr>\n",
              "    <tr>\n",
              "      <th>25%</th>\n",
              "      <td>1.000000</td>\n",
              "      <td>0.000000</td>\n",
              "      <td>0.000000</td>\n",
              "      <td>0.000000</td>\n",
              "      <td>0.000000</td>\n",
              "      <td>0.033080</td>\n",
              "      <td>0.000000</td>\n",
              "      <td>0.155245</td>\n",
              "      <td>0.729730</td>\n",
              "      <td>1.000000</td>\n",
              "      <td>0.000000</td>\n",
              "    </tr>\n",
              "    <tr>\n",
              "      <th>50%</th>\n",
              "      <td>1.000000</td>\n",
              "      <td>1.000000</td>\n",
              "      <td>0.000000</td>\n",
              "      <td>0.000000</td>\n",
              "      <td>0.000000</td>\n",
              "      <td>0.045813</td>\n",
              "      <td>0.036631</td>\n",
              "      <td>0.202200</td>\n",
              "      <td>0.729730</td>\n",
              "      <td>1.000000</td>\n",
              "      <td>0.500000</td>\n",
              "    </tr>\n",
              "    <tr>\n",
              "      <th>75%</th>\n",
              "      <td>1.000000</td>\n",
              "      <td>1.000000</td>\n",
              "      <td>0.416667</td>\n",
              "      <td>0.000000</td>\n",
              "      <td>0.000000</td>\n",
              "      <td>0.070167</td>\n",
              "      <td>0.066591</td>\n",
              "      <td>0.269036</td>\n",
              "      <td>0.729730</td>\n",
              "      <td>1.000000</td>\n",
              "      <td>1.000000</td>\n",
              "    </tr>\n",
              "    <tr>\n",
              "      <th>max</th>\n",
              "      <td>1.000000</td>\n",
              "      <td>1.000000</td>\n",
              "      <td>1.000000</td>\n",
              "      <td>1.000000</td>\n",
              "      <td>1.000000</td>\n",
              "      <td>1.000000</td>\n",
              "      <td>1.000000</td>\n",
              "      <td>1.000000</td>\n",
              "      <td>1.000000</td>\n",
              "      <td>1.000000</td>\n",
              "      <td>1.000000</td>\n",
              "    </tr>\n",
              "  </tbody>\n",
              "</table>\n",
              "</div>\n",
              "      <button class=\"colab-df-convert\" onclick=\"convertToInteractive('df-333517ee-63e8-4509-9376-bd31b702d72f')\"\n",
              "              title=\"Convert this dataframe to an interactive table.\"\n",
              "              style=\"display:none;\">\n",
              "        \n",
              "  <svg xmlns=\"http://www.w3.org/2000/svg\" height=\"24px\"viewBox=\"0 0 24 24\"\n",
              "       width=\"24px\">\n",
              "    <path d=\"M0 0h24v24H0V0z\" fill=\"none\"/>\n",
              "    <path d=\"M18.56 5.44l.94 2.06.94-2.06 2.06-.94-2.06-.94-.94-2.06-.94 2.06-2.06.94zm-11 1L8.5 8.5l.94-2.06 2.06-.94-2.06-.94L8.5 2.5l-.94 2.06-2.06.94zm10 10l.94 2.06.94-2.06 2.06-.94-2.06-.94-.94-2.06-.94 2.06-2.06.94z\"/><path d=\"M17.41 7.96l-1.37-1.37c-.4-.4-.92-.59-1.43-.59-.52 0-1.04.2-1.43.59L10.3 9.45l-7.72 7.72c-.78.78-.78 2.05 0 2.83L4 21.41c.39.39.9.59 1.41.59.51 0 1.02-.2 1.41-.59l7.78-7.78 2.81-2.81c.8-.78.8-2.07 0-2.86zM5.41 20L4 18.59l7.72-7.72 1.47 1.35L5.41 20z\"/>\n",
              "  </svg>\n",
              "      </button>\n",
              "      \n",
              "  <style>\n",
              "    .colab-df-container {\n",
              "      display:flex;\n",
              "      flex-wrap:wrap;\n",
              "      gap: 12px;\n",
              "    }\n",
              "\n",
              "    .colab-df-convert {\n",
              "      background-color: #E8F0FE;\n",
              "      border: none;\n",
              "      border-radius: 50%;\n",
              "      cursor: pointer;\n",
              "      display: none;\n",
              "      fill: #1967D2;\n",
              "      height: 32px;\n",
              "      padding: 0 0 0 0;\n",
              "      width: 32px;\n",
              "    }\n",
              "\n",
              "    .colab-df-convert:hover {\n",
              "      background-color: #E2EBFA;\n",
              "      box-shadow: 0px 1px 2px rgba(60, 64, 67, 0.3), 0px 1px 3px 1px rgba(60, 64, 67, 0.15);\n",
              "      fill: #174EA6;\n",
              "    }\n",
              "\n",
              "    [theme=dark] .colab-df-convert {\n",
              "      background-color: #3B4455;\n",
              "      fill: #D2E3FC;\n",
              "    }\n",
              "\n",
              "    [theme=dark] .colab-df-convert:hover {\n",
              "      background-color: #434B5C;\n",
              "      box-shadow: 0px 1px 3px 1px rgba(0, 0, 0, 0.15);\n",
              "      filter: drop-shadow(0px 1px 2px rgba(0, 0, 0, 0.3));\n",
              "      fill: #FFFFFF;\n",
              "    }\n",
              "  </style>\n",
              "\n",
              "      <script>\n",
              "        const buttonEl =\n",
              "          document.querySelector('#df-333517ee-63e8-4509-9376-bd31b702d72f button.colab-df-convert');\n",
              "        buttonEl.style.display =\n",
              "          google.colab.kernel.accessAllowed ? 'block' : 'none';\n",
              "\n",
              "        async function convertToInteractive(key) {\n",
              "          const element = document.querySelector('#df-333517ee-63e8-4509-9376-bd31b702d72f');\n",
              "          const dataTable =\n",
              "            await google.colab.kernel.invokeFunction('convertToInteractive',\n",
              "                                                     [key], {});\n",
              "          if (!dataTable) return;\n",
              "\n",
              "          const docLinkHtml = 'Like what you see? Visit the ' +\n",
              "            '<a target=\"_blank\" href=https://colab.research.google.com/notebooks/data_table.ipynb>data table notebook</a>'\n",
              "            + ' to learn more about interactive tables.';\n",
              "          element.innerHTML = '';\n",
              "          dataTable['output_type'] = 'display_data';\n",
              "          await google.colab.output.renderOutput(dataTable, element);\n",
              "          const docLink = document.createElement('div');\n",
              "          docLink.innerHTML = docLinkHtml;\n",
              "          element.appendChild(docLink);\n",
              "        }\n",
              "      </script>\n",
              "    </div>\n",
              "  </div>\n",
              "  "
            ]
          },
          "metadata": {},
          "execution_count": 884
        }
      ]
    },
    {
      "cell_type": "markdown",
      "source": [
        "## Random Forest Classifier Model"
      ],
      "metadata": {
        "id": "g1WF17O3ptvA"
      }
    },
    {
      "cell_type": "code",
      "source": [
        "# Modeling the data\n",
        "\n",
        "#RFC = RandomForestClassifier(max_depth=10,random_state=42) # I specifically choose maximum depth as 10 otherwise it will overfit training data\n",
        "RFC = RandomForestClassifier(max_depth=10)\n",
        "RFC.fit(X_train, y_train)\n",
        "\n",
        "\n"
      ],
      "metadata": {
        "id": "z32m2oyqSYAP",
        "colab": {
          "base_uri": "https://localhost:8080/",
          "height": 75
        },
        "outputId": "abd64f35-6f2d-4f21-e791-702044b77eed"
      },
      "execution_count": 885,
      "outputs": [
        {
          "output_type": "execute_result",
          "data": {
            "text/plain": [
              "RandomForestClassifier(max_depth=10)"
            ],
            "text/html": [
              "<style>#sk-container-id-8 {color: black;background-color: white;}#sk-container-id-8 pre{padding: 0;}#sk-container-id-8 div.sk-toggleable {background-color: white;}#sk-container-id-8 label.sk-toggleable__label {cursor: pointer;display: block;width: 100%;margin-bottom: 0;padding: 0.3em;box-sizing: border-box;text-align: center;}#sk-container-id-8 label.sk-toggleable__label-arrow:before {content: \"▸\";float: left;margin-right: 0.25em;color: #696969;}#sk-container-id-8 label.sk-toggleable__label-arrow:hover:before {color: black;}#sk-container-id-8 div.sk-estimator:hover label.sk-toggleable__label-arrow:before {color: black;}#sk-container-id-8 div.sk-toggleable__content {max-height: 0;max-width: 0;overflow: hidden;text-align: left;background-color: #f0f8ff;}#sk-container-id-8 div.sk-toggleable__content pre {margin: 0.2em;color: black;border-radius: 0.25em;background-color: #f0f8ff;}#sk-container-id-8 input.sk-toggleable__control:checked~div.sk-toggleable__content {max-height: 200px;max-width: 100%;overflow: auto;}#sk-container-id-8 input.sk-toggleable__control:checked~label.sk-toggleable__label-arrow:before {content: \"▾\";}#sk-container-id-8 div.sk-estimator input.sk-toggleable__control:checked~label.sk-toggleable__label {background-color: #d4ebff;}#sk-container-id-8 div.sk-label input.sk-toggleable__control:checked~label.sk-toggleable__label {background-color: #d4ebff;}#sk-container-id-8 input.sk-hidden--visually {border: 0;clip: rect(1px 1px 1px 1px);clip: rect(1px, 1px, 1px, 1px);height: 1px;margin: -1px;overflow: hidden;padding: 0;position: absolute;width: 1px;}#sk-container-id-8 div.sk-estimator {font-family: monospace;background-color: #f0f8ff;border: 1px dotted black;border-radius: 0.25em;box-sizing: border-box;margin-bottom: 0.5em;}#sk-container-id-8 div.sk-estimator:hover {background-color: #d4ebff;}#sk-container-id-8 div.sk-parallel-item::after {content: \"\";width: 100%;border-bottom: 1px solid gray;flex-grow: 1;}#sk-container-id-8 div.sk-label:hover label.sk-toggleable__label {background-color: #d4ebff;}#sk-container-id-8 div.sk-serial::before {content: \"\";position: absolute;border-left: 1px solid gray;box-sizing: border-box;top: 0;bottom: 0;left: 50%;z-index: 0;}#sk-container-id-8 div.sk-serial {display: flex;flex-direction: column;align-items: center;background-color: white;padding-right: 0.2em;padding-left: 0.2em;position: relative;}#sk-container-id-8 div.sk-item {position: relative;z-index: 1;}#sk-container-id-8 div.sk-parallel {display: flex;align-items: stretch;justify-content: center;background-color: white;position: relative;}#sk-container-id-8 div.sk-item::before, #sk-container-id-8 div.sk-parallel-item::before {content: \"\";position: absolute;border-left: 1px solid gray;box-sizing: border-box;top: 0;bottom: 0;left: 50%;z-index: -1;}#sk-container-id-8 div.sk-parallel-item {display: flex;flex-direction: column;z-index: 1;position: relative;background-color: white;}#sk-container-id-8 div.sk-parallel-item:first-child::after {align-self: flex-end;width: 50%;}#sk-container-id-8 div.sk-parallel-item:last-child::after {align-self: flex-start;width: 50%;}#sk-container-id-8 div.sk-parallel-item:only-child::after {width: 0;}#sk-container-id-8 div.sk-dashed-wrapped {border: 1px dashed gray;margin: 0 0.4em 0.5em 0.4em;box-sizing: border-box;padding-bottom: 0.4em;background-color: white;}#sk-container-id-8 div.sk-label label {font-family: monospace;font-weight: bold;display: inline-block;line-height: 1.2em;}#sk-container-id-8 div.sk-label-container {text-align: center;}#sk-container-id-8 div.sk-container {/* jupyter's `normalize.less` sets `[hidden] { display: none; }` but bootstrap.min.css set `[hidden] { display: none !important; }` so we also need the `!important` here to be able to override the default hidden behavior on the sphinx rendered scikit-learn.org. See: https://github.com/scikit-learn/scikit-learn/issues/21755 */display: inline-block !important;position: relative;}#sk-container-id-8 div.sk-text-repr-fallback {display: none;}</style><div id=\"sk-container-id-8\" class=\"sk-top-container\"><div class=\"sk-text-repr-fallback\"><pre>RandomForestClassifier(max_depth=10)</pre><b>In a Jupyter environment, please rerun this cell to show the HTML representation or trust the notebook. <br />On GitHub, the HTML representation is unable to render, please try loading this page with nbviewer.org.</b></div><div class=\"sk-container\" hidden><div class=\"sk-item\"><div class=\"sk-estimator sk-toggleable\"><input class=\"sk-toggleable__control sk-hidden--visually\" id=\"sk-estimator-id-8\" type=\"checkbox\" checked><label for=\"sk-estimator-id-8\" class=\"sk-toggleable__label sk-toggleable__label-arrow\">RandomForestClassifier</label><div class=\"sk-toggleable__content\"><pre>RandomForestClassifier(max_depth=10)</pre></div></div></div></div></div>"
            ]
          },
          "metadata": {},
          "execution_count": 885
        }
      ]
    },
    {
      "cell_type": "code",
      "source": [
        "y_train_predict = RFC.predict(X_train)\n",
        "y_test_predict = RFC.predict(X_test)"
      ],
      "metadata": {
        "id": "3TnXBsUp7BXd"
      },
      "execution_count": 886,
      "outputs": []
    },
    {
      "cell_type": "markdown",
      "source": [
        "## Accuracy of training and testing data"
      ],
      "metadata": {
        "id": "yKYkYJXDpo_N"
      }
    },
    {
      "cell_type": "code",
      "source": [
        "accuracy_training = accuracy_score(y_train, y_train_predict)\n",
        "print(\"Training Accuracy :\",accuracy_training)\n",
        "accuracy_testing = accuracy_score(y_test, y_test_predict)\n",
        "print(\"Testing Accuracy: \",accuracy_testing)"
      ],
      "metadata": {
        "colab": {
          "base_uri": "https://localhost:8080/"
        },
        "id": "3roEb_uqSYDQ",
        "outputId": "99cf5c52-ac05-43ab-82b6-21a56f9803cf"
      },
      "execution_count": 887,
      "outputs": [
        {
          "output_type": "stream",
          "name": "stdout",
          "text": [
            "Training Accuracy : 0.9401041666666666\n",
            "Testing Accuracy:  0.8125\n"
          ]
        }
      ]
    },
    {
      "cell_type": "markdown",
      "source": [
        "##Precision- score of the data\n"
      ],
      "metadata": {
        "id": "wPQAOcbWpXUN"
      }
    },
    {
      "cell_type": "code",
      "source": [
        "# Training precision score\n",
        "train_precision  = precision_score(y_train, y_train_predict)\n",
        "print(\"Precision Score training data: \", train_precision)\n",
        "\n",
        "# Testing precision score\n",
        "test_precision  = precision_score(y_test, y_test_predict)\n",
        "print(\"Precision Score Testing data: \", test_precision)\n"
      ],
      "metadata": {
        "colab": {
          "base_uri": "https://localhost:8080/"
        },
        "id": "nW1H1MDXSYJn",
        "outputId": "a25ebd4e-4852-4ee6-95ff-41594ad2a6f2"
      },
      "execution_count": 888,
      "outputs": [
        {
          "output_type": "stream",
          "name": "stdout",
          "text": [
            "Precision Score training data:  0.9198606271777003\n",
            "Precision Score Testing data:  0.8048780487804879\n"
          ]
        }
      ]
    },
    {
      "cell_type": "markdown",
      "source": [
        "## Recall score of the data"
      ],
      "metadata": {
        "id": "tPETNagxqnE_"
      }
    },
    {
      "cell_type": "code",
      "source": [
        "# Training recall score\n",
        "train_recall  = recall_score(y_train, y_train_predict)\n",
        "print(\"Recall Score training data: \", train_recall)\n",
        "\n",
        "# Testing recall score\n",
        "test_recall  = recall_score(y_test, y_test_predict)\n",
        "print(\"Recall Score Testing data: \", test_recall)"
      ],
      "metadata": {
        "colab": {
          "base_uri": "https://localhost:8080/"
        },
        "id": "zItUNQGBqF_m",
        "outputId": "c06013f6-cb27-4180-905b-63b5eb7aeaf3"
      },
      "execution_count": 889,
      "outputs": [
        {
          "output_type": "stream",
          "name": "stdout",
          "text": [
            "Recall Score training data:  1.0\n",
            "Recall Score Testing data:  0.9705882352941176\n"
          ]
        }
      ]
    },
    {
      "cell_type": "markdown",
      "source": [
        "## F1-score of the model"
      ],
      "metadata": {
        "id": "G0t3UtcPpORO"
      }
    },
    {
      "cell_type": "code",
      "source": [
        "# Training F-1 Score\n",
        "train_f1  = f1_score(y_train, y_train_predict)\n",
        "print(\" F1 Score training data: \", train_f1)\n",
        "\n",
        "# Testing F-1 score\n",
        "test_f1  = f1_score(y_test, y_test_predict)\n",
        "print(\"F1 Score Testing data: \", test_f1)"
      ],
      "metadata": {
        "colab": {
          "base_uri": "https://localhost:8080/"
        },
        "id": "aDBZ_4mpSYLG",
        "outputId": "c9a95605-3968-4e63-d555-383a97d851ee"
      },
      "execution_count": 890,
      "outputs": [
        {
          "output_type": "stream",
          "name": "stdout",
          "text": [
            " F1 Score training data:  0.9582577132486388\n",
            "F1 Score Testing data:  0.8800000000000001\n"
          ]
        }
      ]
    },
    {
      "cell_type": "markdown",
      "source": [
        "## Permutation testing for Random Forest Classifier"
      ],
      "metadata": {
        "id": "GsR3GXQVr1Zo"
      }
    },
    {
      "cell_type": "code",
      "source": [
        "from sklearn.inspection import permutation_importance\n",
        "\n",
        "\n",
        "\n",
        "clf = RFC \n",
        "\n",
        "result = permutation_importance(clf, X_train, y_train, n_repeats=20,\n",
        "                                random_state=42)\n",
        "perm_sorted_idx = result.importances_mean.argsort()[-5:]\n",
        "\n",
        "tree_importance_sorted_idx = np.argsort(clf.feature_importances_)\n",
        "tree_indices = np.arange(0, len(clf.feature_importances_)) + 0.5\n",
        "\n",
        "fig, ax1 = plt.subplots(1, 1, figsize=(6, 4))\n",
        "ax1.boxplot(result.importances[perm_sorted_idx].T, vert=False,\n",
        "            labels=X.columns[perm_sorted_idx])\n",
        "fig.suptitle('RFC Feature Importance', y=1.05)\n",
        "fig.tight_layout()\n",
        "plt.show()\n",
        "\n",
        "# Top five features which are important for the model are Credit_History, LoanAmount, ApplicantIncome, CoapplicantIncome, Property_Area"
      ],
      "metadata": {
        "colab": {
          "base_uri": "https://localhost:8080/",
          "height": 442
        },
        "id": "8VL3Rf1NKjCM",
        "outputId": "e1d30824-0827-429f-de39-9dac10b3b778"
      },
      "execution_count": 891,
      "outputs": [
        {
          "output_type": "display_data",
          "data": {
            "text/plain": [
              "<Figure size 600x400 with 1 Axes>"
            ],
            "image/png": "[encoded data removed]"
          },
          "metadata": {}
        }
      ]
    },
    {
      "cell_type": "markdown",
      "source": [
        "## Model with less number of features(optimized)"
      ],
      "metadata": {
        "id": "Jn-UF8JZNUc-"
      }
    },
    {
      "cell_type": "markdown",
      "source": [
        "I ran the same model with top 5 features and got the same metrics such as accuracy, precision, and recall. The updated model is simpler version of the previous model. "
      ],
      "metadata": {
        "id": "bYvx1xEuMyiT"
      }
    },
    {
      "cell_type": "code",
      "source": [
        "#df_updated = df_encoded[['Credit_History', 'CoapplicantIncome', 'Property_Area', 'ApplicantIncome', 'LoanAmount']]"
      ],
      "metadata": {
        "id": "AeZOp2uiMtUO"
      },
      "execution_count": 892,
      "outputs": []
    },
    {
      "cell_type": "code",
      "source": [
        "#y_updated = df_updated['Loan_Status']\n",
        "#y_updated.head()"
      ],
      "metadata": {
        "id": "oaN8ZoCSNdji"
      },
      "execution_count": 893,
      "outputs": []
    },
    {
      "cell_type": "code",
      "source": [
        "#X_updated = df_updated.drop('Loan_Status', axis=1)\n",
        "#X_updated.head()"
      ],
      "metadata": {
        "id": "SHU1DKz2NyDc"
      },
      "execution_count": 894,
      "outputs": []
    },
    {
      "cell_type": "code",
      "source": [
        "#X_train_1, X_test_1, y_train_1, y_test_1 = train_test_split(X_updated, y_updated, shuffle= True, test_size=0.20)\n"
      ],
      "metadata": {
        "id": "HmqE3LjfN4h5"
      },
      "execution_count": 895,
      "outputs": []
    },
    {
      "cell_type": "code",
      "source": [
        "#Counter(df_updated['Credit_History'])"
      ],
      "metadata": {
        "id": "nn1e-4k_XbgS"
      },
      "execution_count": 896,
      "outputs": []
    },
    {
      "cell_type": "markdown",
      "source": [
        "## Modeling the updated dataset with 5 features"
      ],
      "metadata": {
        "id": "Ow1ILciaRM1M"
      }
    },
    {
      "cell_type": "code",
      "source": [
        "#RFC_updated = RandomForestClassifier(max_depth=10,random_state=42) # I specifically choos maximum depth as 10\n",
        "#RFC_updated.fit(X_train_1, y_train_1)\n",
        "#y_train_predict_1 = RFC_updated.predict(X_train_1)\n",
        "#y_test_predict_1 = RFC_updated.predict(X_test_1)\n"
      ],
      "metadata": {
        "id": "oS8Z7EWYPoG8"
      },
      "execution_count": 897,
      "outputs": []
    },
    {
      "cell_type": "markdown",
      "source": [
        "## Accuracy of the updated model"
      ],
      "metadata": {
        "id": "66SKaCUaRUPW"
      }
    },
    {
      "cell_type": "code",
      "source": [
        "#updated_accuracy_training = accuracy_score(y_train_1, y_train_predict_1)\n",
        "#print(\"Updated Training Accuracy :\",accuracy_training)\n",
        "#updated_accuracy_testing = accuracy_score(y_test_1, y_test_predict_1)\n",
        "#print(\"Updated Testing Accuracy: \",accuracy_testing)"
      ],
      "metadata": {
        "id": "4AeNKsZNQXAR"
      },
      "execution_count": 898,
      "outputs": []
    },
    {
      "cell_type": "markdown",
      "source": [
        "It is clear from both of the accuracies of both models RFC and RFC_updated that considering top 5 features has not change the accuracy too much and the updated model has less features which is computationally efficient and intuitively easy to understand. "
      ],
      "metadata": {
        "id": "65CdoiagRZ77"
      }
    },
    {
      "cell_type": "markdown",
      "source": [
        "# Partial Dependence Plots"
      ],
      "metadata": {
        "id": "JRaz8M6CUmBk"
      }
    },
    {
      "cell_type": "code",
      "source": [
        "train_X_df = pd.DataFrame(X_train, columns=X.columns)\n",
        "train_X_df.shape"
      ],
      "metadata": {
        "colab": {
          "base_uri": "https://localhost:8080/"
        },
        "id": "dtXKwfZIf46W",
        "outputId": "80317f5c-a5c9-4fcb-c7a2-d92648e000d8"
      },
      "execution_count": 899,
      "outputs": [
        {
          "output_type": "execute_result",
          "data": {
            "text/plain": [
              "(384, 11)"
            ]
          },
          "metadata": {},
          "execution_count": 899
        }
      ]
    },
    {
      "cell_type": "code",
      "source": [
        "train_X_df['LoanAmount'].nunique()\n"
      ],
      "metadata": {
        "colab": {
          "base_uri": "https://localhost:8080/"
        },
        "id": "se9OLfwAg2Jo",
        "outputId": "15317572-032b-4a33-f98d-3e2bf6eb3176"
      },
      "execution_count": 900,
      "outputs": [
        {
          "output_type": "execute_result",
          "data": {
            "text/plain": [
              "163"
            ]
          },
          "metadata": {},
          "execution_count": 900
        }
      ]
    },
    {
      "cell_type": "markdown",
      "source": [
        "# Partial dependence plots for the top 5 feature"
      ],
      "metadata": {
        "id": "rcC7oaTlIFXs"
      }
    },
    {
      "cell_type": "markdown",
      "source": [
        "## 1.Credit_History"
      ],
      "metadata": {
        "id": "mkT0_lb5IB5n"
      }
    },
    {
      "cell_type": "code",
      "source": [
        "tmpdf = ice(data=train_X_df, \n",
        "            column='Credit_History', \n",
        "                   predict=RFC.predict,num_grid_points=10) \n",
        "                                          \n",
        "print(np.shape(tmpdf))"
      ],
      "metadata": {
        "id": "hu3cB-aRj7Lw",
        "colab": {
          "base_uri": "https://localhost:8080/"
        },
        "outputId": "598accd3-b1ac-4af9-a77e-41c0804a57c6"
      },
      "execution_count": 901,
      "outputs": [
        {
          "output_type": "stream",
          "name": "stdout",
          "text": [
            "(2, 384)\n"
          ]
        }
      ]
    },
    {
      "cell_type": "code",
      "source": [
        "ice_plot(tmpdf, c='dimgray', linewidth=0.3,\n",
        "                  plot_pdp=True, \n",
        "         pdp_kwargs={'linewidth': 5, 'color':'red'})\n",
        "plt.title('PDP: Credit_History')\n",
        "plt.ylabel('Loan Status')\n",
        "plt.xlabel('Credit_History');\n",
        "plt.show()"
      ],
      "metadata": {
        "id": "evdOfWA9dCHo",
        "colab": {
          "base_uri": "https://localhost:8080/",
          "height": 472
        },
        "outputId": "e28094fb-8812-44e2-ff1e-da138b6897c6"
      },
      "execution_count": 902,
      "outputs": [
        {
          "output_type": "display_data",
          "data": {
            "text/plain": [
              "<Figure size 640x480 with 1 Axes>"
            ],
            "image/png": "[encoded data removed]"
          },
          "metadata": {}
        }
      ]
    },
    {
      "cell_type": "markdown",
      "source": [
        "Here, Y - axis represents our dpendent variable Loan-Status and X-axis is predicting variable Credit_History "
      ],
      "metadata": {
        "id": "iGr8qtSvQiE7"
      }
    },
    {
      "cell_type": "code",
      "source": [
        "plt.plot(tmpdf)\n",
        "plt.show()"
      ],
      "metadata": {
        "colab": {
          "base_uri": "https://localhost:8080/",
          "height": 430
        },
        "id": "Q0Kdf3UxpYxH",
        "outputId": "62caa7e6-9a1e-49fd-e5c7-d3c9255b5067"
      },
      "execution_count": 903,
      "outputs": [
        {
          "output_type": "display_data",
          "data": {
            "text/plain": [
              "<Figure size 640x480 with 1 Axes>"
            ],
            "image/png": "[encoded data removed]"
          },
          "metadata": {}
        }
      ]
    },
    {
      "cell_type": "code",
      "source": [
        "tmpdf"
      ],
      "metadata": {
        "colab": {
          "base_uri": "https://localhost:8080/",
          "height": 550
        },
        "id": "J8XolEBq6Rye",
        "outputId": "5c4008dc-41cd-41e5-e064-7b6b0661bfdd"
      },
      "execution_count": 904,
      "outputs": [
        {
          "output_type": "execute_result",
          "data": {
            "text/plain": [
              "data_Credit_History      0.0                                               \\\n",
              "Gender                   0.0                                                \n",
              "Married                  0.0                                                \n",
              "Dependents               0.0                                                \n",
              "Education                0.0                                                \n",
              "Self_Employed            0.0                                                \n",
              "ApplicantIncome     0.016698 0.024576 0.027829 0.037477 0.041558 0.049672   \n",
              "CoapplicantIncome   0.053196 0.265390 0.055058 0.000000 0.000000 0.000000   \n",
              "LoanAmount          0.159052 0.216582 0.160745 0.104907 0.113367 0.181049   \n",
              "Loan_Amount_Term    0.729730 0.729730 0.729730 0.729730 0.729730 0.729730   \n",
              "Property_Area            0.5      0.5      1.0      1.0      1.0      0.5   \n",
              "Credit_History                                                              \n",
              "0.0                        0        1        0        0        0        0   \n",
              "1.0                        1        1        1        1        1        1   \n",
              "\n",
              "data_Credit_History                                      ...      1.0  \\\n",
              "Gender                                                   ...      1.0   \n",
              "Married                                    1.0           ...      1.0   \n",
              "Dependents                                 0.0           ...      1.0   \n",
              "Education                                  0.0           ...      0.0   \n",
              "Self_Employed                     1.0      0.0      1.0  ...      0.0   \n",
              "ApplicantIncome     0.059988 0.054830 0.030860 0.066172  ... 0.106370   \n",
              "CoapplicantIncome   0.000000 0.000000 0.101664 0.000000  ... 0.147649   \n",
              "LoanAmount          0.159052 0.209814 0.187817 0.162437  ... 0.204738   \n",
              "Loan_Amount_Term    0.729730 0.729730 0.729730 0.729730  ... 0.729730   \n",
              "Property_Area            0.5      0.5      1.0      0.0  ...      0.0   \n",
              "Credit_History                                           ...            \n",
              "0.0                        0        0        0        0  ...        0   \n",
              "1.0                        1        1        1        1  ...        1   \n",
              "\n",
              "data_Credit_History                                                        \\\n",
              "Gender                                                                      \n",
              "Married                                                                     \n",
              "Dependents                                                                  \n",
              "Education                                  1.0                              \n",
              "Self_Employed                     1.0      0.0                              \n",
              "ApplicantIncome     0.115696 0.063278 0.023760 0.030884 0.036425 0.041707   \n",
              "CoapplicantIncome   0.000000 0.052428 0.022283 0.046901 0.000000 0.000000   \n",
              "LoanAmount          0.450085 0.301184 0.143824 0.277496 0.175973 0.121827   \n",
              "Loan_Amount_Term    0.729730 0.729730 1.000000 0.729730 0.729730 0.324324   \n",
              "Property_Area            0.0      0.5      0.5      0.0      0.0      0.0   \n",
              "Credit_History                                                              \n",
              "0.0                        0        0        0        0        0        0   \n",
              "1.0                        1        1        1        0        1        0   \n",
              "\n",
              "data_Credit_History                             \n",
              "Gender                                          \n",
              "Married                                         \n",
              "Dependents                                      \n",
              "Education                                       \n",
              "Self_Employed                     1.0           \n",
              "ApplicantIncome     0.045764 0.068683 0.085962  \n",
              "CoapplicantIncome   0.029051 0.000000 0.000000  \n",
              "LoanAmount          0.153976 0.204738 0.196277  \n",
              "Loan_Amount_Term    0.729730 0.729730 0.054054  \n",
              "Property_Area            0.5      0.0      1.0  \n",
              "Credit_History                                  \n",
              "0.0                        0        0        0  \n",
              "1.0                        1        1        1  \n",
              "\n",
              "[2 rows x 384 columns]"
            ],
            "text/html": [
              "\n",
              "  <div id=\"df-fc3e846e-2788-4446-8bf3-54c6a207866b\">\n",
              "    <div class=\"colab-df-container\">\n",
              "      <div>\n",
              "<style scoped>\n",
              "    .dataframe tbody tr th:only-of-type {\n",
              "        vertical-align: middle;\n",
              "    }\n",
              "\n",
              "    .dataframe tbody tr th {\n",
              "        vertical-align: top;\n",
              "    }\n",
              "\n",
              "    .dataframe thead tr th {\n",
              "        text-align: left;\n",
              "    }\n",
              "\n",
              "    .dataframe thead tr:last-of-type th {\n",
              "        text-align: right;\n",
              "    }\n",
              "</style>\n",
              "<table border=\"1\" class=\"dataframe\">\n",
              "  <thead>\n",
              "    <tr>\n",
              "      <th>data_Credit_History</th>\n",
              "      <th colspan=\"10\" halign=\"left\">0.0</th>\n",
              "      <th>...</th>\n",
              "      <th colspan=\"10\" halign=\"left\">1.0</th>\n",
              "    </tr>\n",
              "    <tr>\n",
              "      <th>Gender</th>\n",
              "      <th colspan=\"10\" halign=\"left\">0.0</th>\n",
              "      <th>...</th>\n",
              "      <th colspan=\"10\" halign=\"left\">1.0</th>\n",
              "    </tr>\n",
              "    <tr>\n",
              "      <th>Married</th>\n",
              "      <th colspan=\"8\" halign=\"left\">0.0</th>\n",
              "      <th colspan=\"2\" halign=\"left\">1.0</th>\n",
              "      <th>...</th>\n",
              "      <th colspan=\"10\" halign=\"left\">1.0</th>\n",
              "    </tr>\n",
              "    <tr>\n",
              "      <th>Dependents</th>\n",
              "      <th colspan=\"8\" halign=\"left\">0.0</th>\n",
              "      <th colspan=\"2\" halign=\"left\">0.0</th>\n",
              "      <th>...</th>\n",
              "      <th colspan=\"10\" halign=\"left\">1.0</th>\n",
              "    </tr>\n",
              "    <tr>\n",
              "      <th>Education</th>\n",
              "      <th colspan=\"8\" halign=\"left\">0.0</th>\n",
              "      <th colspan=\"2\" halign=\"left\">0.0</th>\n",
              "      <th>...</th>\n",
              "      <th colspan=\"3\" halign=\"left\">0.0</th>\n",
              "      <th colspan=\"7\" halign=\"left\">1.0</th>\n",
              "    </tr>\n",
              "    <tr>\n",
              "      <th>Self_Employed</th>\n",
              "      <th colspan=\"7\" halign=\"left\">0.0</th>\n",
              "      <th>1.0</th>\n",
              "      <th>0.0</th>\n",
              "      <th>1.0</th>\n",
              "      <th>...</th>\n",
              "      <th colspan=\"2\" halign=\"left\">0.0</th>\n",
              "      <th>1.0</th>\n",
              "      <th colspan=\"5\" halign=\"left\">0.0</th>\n",
              "      <th colspan=\"2\" halign=\"left\">1.0</th>\n",
              "    </tr>\n",
              "    <tr>\n",
              "      <th>ApplicantIncome</th>\n",
              "      <th>0.016698</th>\n",
              "      <th>0.024576</th>\n",
              "      <th>0.027829</th>\n",
              "      <th>0.037477</th>\n",
              "      <th>0.041558</th>\n",
              "      <th>0.049672</th>\n",
              "      <th>0.059988</th>\n",
              "      <th>0.054830</th>\n",
              "      <th>0.030860</th>\n",
              "      <th>0.066172</th>\n",
              "      <th>...</th>\n",
              "      <th>0.106370</th>\n",
              "      <th>0.115696</th>\n",
              "      <th>0.063278</th>\n",
              "      <th>0.023760</th>\n",
              "      <th>0.030884</th>\n",
              "      <th>0.036425</th>\n",
              "      <th>0.041707</th>\n",
              "      <th>0.045764</th>\n",
              "      <th>0.068683</th>\n",
              "      <th>0.085962</th>\n",
              "    </tr>\n",
              "    <tr>\n",
              "      <th>CoapplicantIncome</th>\n",
              "      <th>0.053196</th>\n",
              "      <th>0.265390</th>\n",
              "      <th>0.055058</th>\n",
              "      <th>0.000000</th>\n",
              "      <th>0.000000</th>\n",
              "      <th>0.000000</th>\n",
              "      <th>0.000000</th>\n",
              "      <th>0.000000</th>\n",
              "      <th>0.101664</th>\n",
              "      <th>0.000000</th>\n",
              "      <th>...</th>\n",
              "      <th>0.147649</th>\n",
              "      <th>0.000000</th>\n",
              "      <th>0.052428</th>\n",
              "      <th>0.022283</th>\n",
              "      <th>0.046901</th>\n",
              "      <th>0.000000</th>\n",
              "      <th>0.000000</th>\n",
              "      <th>0.029051</th>\n",
              "      <th>0.000000</th>\n",
              "      <th>0.000000</th>\n",
              "    </tr>\n",
              "    <tr>\n",
              "      <th>LoanAmount</th>\n",
              "      <th>0.159052</th>\n",
              "      <th>0.216582</th>\n",
              "      <th>0.160745</th>\n",
              "      <th>0.104907</th>\n",
              "      <th>0.113367</th>\n",
              "      <th>0.181049</th>\n",
              "      <th>0.159052</th>\n",
              "      <th>0.209814</th>\n",
              "      <th>0.187817</th>\n",
              "      <th>0.162437</th>\n",
              "      <th>...</th>\n",
              "      <th>0.204738</th>\n",
              "      <th>0.450085</th>\n",
              "      <th>0.301184</th>\n",
              "      <th>0.143824</th>\n",
              "      <th>0.277496</th>\n",
              "      <th>0.175973</th>\n",
              "      <th>0.121827</th>\n",
              "      <th>0.153976</th>\n",
              "      <th>0.204738</th>\n",
              "      <th>0.196277</th>\n",
              "    </tr>\n",
              "    <tr>\n",
              "      <th>Loan_Amount_Term</th>\n",
              "      <th>0.729730</th>\n",
              "      <th>0.729730</th>\n",
              "      <th>0.729730</th>\n",
              "      <th>0.729730</th>\n",
              "      <th>0.729730</th>\n",
              "      <th>0.729730</th>\n",
              "      <th>0.729730</th>\n",
              "      <th>0.729730</th>\n",
              "      <th>0.729730</th>\n",
              "      <th>0.729730</th>\n",
              "      <th>...</th>\n",
              "      <th>0.729730</th>\n",
              "      <th>0.729730</th>\n",
              "      <th>0.729730</th>\n",
              "      <th>1.000000</th>\n",
              "      <th>0.729730</th>\n",
              "      <th>0.729730</th>\n",
              "      <th>0.324324</th>\n",
              "      <th>0.729730</th>\n",
              "      <th>0.729730</th>\n",
              "      <th>0.054054</th>\n",
              "    </tr>\n",
              "    <tr>\n",
              "      <th>Property_Area</th>\n",
              "      <th>0.5</th>\n",
              "      <th>0.5</th>\n",
              "      <th>1.0</th>\n",
              "      <th>1.0</th>\n",
              "      <th>1.0</th>\n",
              "      <th>0.5</th>\n",
              "      <th>0.5</th>\n",
              "      <th>0.5</th>\n",
              "      <th>1.0</th>\n",
              "      <th>0.0</th>\n",
              "      <th>...</th>\n",
              "      <th>0.0</th>\n",
              "      <th>0.0</th>\n",
              "      <th>0.5</th>\n",
              "      <th>0.5</th>\n",
              "      <th>0.0</th>\n",
              "      <th>0.0</th>\n",
              "      <th>0.0</th>\n",
              "      <th>0.5</th>\n",
              "      <th>0.0</th>\n",
              "      <th>1.0</th>\n",
              "    </tr>\n",
              "    <tr>\n",
              "      <th>Credit_History</th>\n",
              "      <th></th>\n",
              "      <th></th>\n",
              "      <th></th>\n",
              "      <th></th>\n",
              "      <th></th>\n",
              "      <th></th>\n",
              "      <th></th>\n",
              "      <th></th>\n",
              "      <th></th>\n",
              "      <th></th>\n",
              "      <th></th>\n",
              "      <th></th>\n",
              "      <th></th>\n",
              "      <th></th>\n",
              "      <th></th>\n",
              "      <th></th>\n",
              "      <th></th>\n",
              "      <th></th>\n",
              "      <th></th>\n",
              "      <th></th>\n",
              "      <th></th>\n",
              "    </tr>\n",
              "  </thead>\n",
              "  <tbody>\n",
              "    <tr>\n",
              "      <th>0.0</th>\n",
              "      <td>0</td>\n",
              "      <td>1</td>\n",
              "      <td>0</td>\n",
              "      <td>0</td>\n",
              "      <td>0</td>\n",
              "      <td>0</td>\n",
              "      <td>0</td>\n",
              "      <td>0</td>\n",
              "      <td>0</td>\n",
              "      <td>0</td>\n",
              "      <td>...</td>\n",
              "      <td>0</td>\n",
              "      <td>0</td>\n",
              "      <td>0</td>\n",
              "      <td>0</td>\n",
              "      <td>0</td>\n",
              "      <td>0</td>\n",
              "      <td>0</td>\n",
              "      <td>0</td>\n",
              "      <td>0</td>\n",
              "      <td>0</td>\n",
              "    </tr>\n",
              "    <tr>\n",
              "      <th>1.0</th>\n",
              "      <td>1</td>\n",
              "      <td>1</td>\n",
              "      <td>1</td>\n",
              "      <td>1</td>\n",
              "      <td>1</td>\n",
              "      <td>1</td>\n",
              "      <td>1</td>\n",
              "      <td>1</td>\n",
              "      <td>1</td>\n",
              "      <td>1</td>\n",
              "      <td>...</td>\n",
              "      <td>1</td>\n",
              "      <td>1</td>\n",
              "      <td>1</td>\n",
              "      <td>1</td>\n",
              "      <td>0</td>\n",
              "      <td>1</td>\n",
              "      <td>0</td>\n",
              "      <td>1</td>\n",
              "      <td>1</td>\n",
              "      <td>1</td>\n",
              "    </tr>\n",
              "  </tbody>\n",
              "</table>\n",
              "<p>2 rows × 384 columns</p>\n",
              "</div>\n",
              "      <button class=\"colab-df-convert\" onclick=\"convertToInteractive('df-fc3e846e-2788-4446-8bf3-54c6a207866b')\"\n",
              "              title=\"Convert this dataframe to an interactive table.\"\n",
              "              style=\"display:none;\">\n",
              "        \n",
              "  <svg xmlns=\"http://www.w3.org/2000/svg\" height=\"24px\"viewBox=\"0 0 24 24\"\n",
              "       width=\"24px\">\n",
              "    <path d=\"M0 0h24v24H0V0z\" fill=\"none\"/>\n",
              "    <path d=\"M18.56 5.44l.94 2.06.94-2.06 2.06-.94-2.06-.94-.94-2.06-.94 2.06-2.06.94zm-11 1L8.5 8.5l.94-2.06 2.06-.94-2.06-.94L8.5 2.5l-.94 2.06-2.06.94zm10 10l.94 2.06.94-2.06 2.06-.94-2.06-.94-.94-2.06-.94 2.06-2.06.94z\"/><path d=\"M17.41 7.96l-1.37-1.37c-.4-.4-.92-.59-1.43-.59-.52 0-1.04.2-1.43.59L10.3 9.45l-7.72 7.72c-.78.78-.78 2.05 0 2.83L4 21.41c.39.39.9.59 1.41.59.51 0 1.02-.2 1.41-.59l7.78-7.78 2.81-2.81c.8-.78.8-2.07 0-2.86zM5.41 20L4 18.59l7.72-7.72 1.47 1.35L5.41 20z\"/>\n",
              "  </svg>\n",
              "      </button>\n",
              "      \n",
              "  <style>\n",
              "    .colab-df-container {\n",
              "      display:flex;\n",
              "      flex-wrap:wrap;\n",
              "      gap: 12px;\n",
              "    }\n",
              "\n",
              "    .colab-df-convert {\n",
              "      background-color: #E8F0FE;\n",
              "      border: none;\n",
              "      border-radius: 50%;\n",
              "      cursor: pointer;\n",
              "      display: none;\n",
              "      fill: #1967D2;\n",
              "      height: 32px;\n",
              "      padding: 0 0 0 0;\n",
              "      width: 32px;\n",
              "    }\n",
              "\n",
              "    .colab-df-convert:hover {\n",
              "      background-color: #E2EBFA;\n",
              "      box-shadow: 0px 1px 2px rgba(60, 64, 67, 0.3), 0px 1px 3px 1px rgba(60, 64, 67, 0.15);\n",
              "      fill: #174EA6;\n",
              "    }\n",
              "\n",
              "    [theme=dark] .colab-df-convert {\n",
              "      background-color: #3B4455;\n",
              "      fill: #D2E3FC;\n",
              "    }\n",
              "\n",
              "    [theme=dark] .colab-df-convert:hover {\n",
              "      background-color: #434B5C;\n",
              "      box-shadow: 0px 1px 3px 1px rgba(0, 0, 0, 0.15);\n",
              "      filter: drop-shadow(0px 1px 2px rgba(0, 0, 0, 0.3));\n",
              "      fill: #FFFFFF;\n",
              "    }\n",
              "  </style>\n",
              "\n",
              "      <script>\n",
              "        const buttonEl =\n",
              "          document.querySelector('#df-fc3e846e-2788-4446-8bf3-54c6a207866b button.colab-df-convert');\n",
              "        buttonEl.style.display =\n",
              "          google.colab.kernel.accessAllowed ? 'block' : 'none';\n",
              "\n",
              "        async function convertToInteractive(key) {\n",
              "          const element = document.querySelector('#df-fc3e846e-2788-4446-8bf3-54c6a207866b');\n",
              "          const dataTable =\n",
              "            await google.colab.kernel.invokeFunction('convertToInteractive',\n",
              "                                                     [key], {});\n",
              "          if (!dataTable) return;\n",
              "\n",
              "          const docLinkHtml = 'Like what you see? Visit the ' +\n",
              "            '<a target=\"_blank\" href=https://colab.research.google.com/notebooks/data_table.ipynb>data table notebook</a>'\n",
              "            + ' to learn more about interactive tables.';\n",
              "          element.innerHTML = '';\n",
              "          dataTable['output_type'] = 'display_data';\n",
              "          await google.colab.output.renderOutput(dataTable, element);\n",
              "          const docLink = document.createElement('div');\n",
              "          docLink.innerHTML = docLinkHtml;\n",
              "          element.appendChild(docLink);\n",
              "        }\n",
              "      </script>\n",
              "    </div>\n",
              "  </div>\n",
              "  "
            ]
          },
          "metadata": {},
          "execution_count": 904
        }
      ]
    },
    {
      "cell_type": "markdown",
      "source": [
        "## 2. LoanAmount"
      ],
      "metadata": {
        "id": "gIMD6RtGHuKH"
      }
    },
    {
      "cell_type": "code",
      "source": [
        "tmpdf = ice(data=train_X_df, column='LoanAmount', \n",
        "                   predict=RFC.predict, num_grid_points=10)\n",
        "print(np.shape(tmpdf))\n",
        "\n",
        "ice_plot(tmpdf, c='dimgray', linewidth=0.3,\n",
        "                  plot_pdp=True, \n",
        "         pdp_kwargs={'linewidth': 5, 'color':'green'})\n",
        "plt.title('PDP: LoanAmount ')\n",
        "plt.ylabel('Loan Status')\n",
        "plt.xlabel('LoanAmount');\n",
        "plt.show()"
      ],
      "metadata": {
        "colab": {
          "base_uri": "https://localhost:8080/",
          "height": 489
        },
        "id": "ds1bp4Ro6vYK",
        "outputId": "6ad06b35-a567-4de6-bb1a-738d22a8b5c5"
      },
      "execution_count": 905,
      "outputs": [
        {
          "output_type": "stream",
          "name": "stdout",
          "text": [
            "(10, 384)\n"
          ]
        },
        {
          "output_type": "display_data",
          "data": {
            "text/plain": [
              "<Figure size 640x480 with 1 Axes>"
            ],
            "image/png": "[encoded data removed]"
          },
          "metadata": {}
        }
      ]
    },
    {
      "cell_type": "markdown",
      "source": [
        "Here, Y - axis represents our dpendent variable Loan-Status and X-axis is predicting variable LoanAmount"
      ],
      "metadata": {
        "id": "swBh0cTmQ0tn"
      }
    },
    {
      "cell_type": "markdown",
      "source": [
        "## 3. ApplicantIncome"
      ],
      "metadata": {
        "id": "GAjlocs0HctI"
      }
    },
    {
      "cell_type": "code",
      "source": [
        "tmpdf = ice(data=train_X_df, column='ApplicantIncome', \n",
        "                   predict=RFC.predict, num_grid_points=20)\n",
        "\n",
        "ice_plot(tmpdf, c='dimgray', linewidth=0.3,\n",
        "                  plot_pdp=True, \n",
        "         pdp_kwargs={'linewidth': 5, 'color':'blue'})\n",
        "plt.title('PDP: ApplicantIncome')\n",
        "plt.ylabel('Predicted Loan Status')\n",
        "plt.xlabel('Applicant Income');\n",
        "plt.show()"
      ],
      "metadata": {
        "id": "AmYx8lJ4tMho",
        "colab": {
          "base_uri": "https://localhost:8080/",
          "height": 472
        },
        "outputId": "7e044298-e9c6-49b4-fb3f-c91bae5ac2eb"
      },
      "execution_count": 906,
      "outputs": [
        {
          "output_type": "display_data",
          "data": {
            "text/plain": [
              "<Figure size 640x480 with 1 Axes>"
            ],
            "image/png": "[encoded data removed]"
          },
          "metadata": {}
        }
      ]
    },
    {
      "cell_type": "markdown",
      "source": [
        "Here, Y - axis represents our dpendent variable Loan-Status and X-axis is predicting variable Applicant Income"
      ],
      "metadata": {
        "id": "SfM_6vKTQ40a"
      }
    },
    {
      "cell_type": "markdown",
      "source": [
        "##4. CoapplicantIncome"
      ],
      "metadata": {
        "id": "7ovr4fUBHh6A"
      }
    },
    {
      "cell_type": "code",
      "source": [
        "tmpdf = ice(data=train_X_df, column='CoapplicantIncome', \n",
        "                   predict=RFC.predict, num_grid_points=10)\n",
        "\n",
        "ice_plot(tmpdf, c='dimgray', linewidth=0.3,\n",
        "                  plot_pdp=True, \n",
        "         pdp_kwargs={'linewidth': 5, 'color':'orange'})\n",
        "plt.title('PDP: CoapplicantIncome')\n",
        "plt.ylabel('Predicted Loan Status')\n",
        "plt.xlabel('CoapplicantIncome');\n",
        "plt.show()"
      ],
      "metadata": {
        "colab": {
          "base_uri": "https://localhost:8080/",
          "height": 472
        },
        "id": "NSxYdE265TWb",
        "outputId": "5739bab7-c1e7-4c93-a7d0-54a3505f727d"
      },
      "execution_count": 907,
      "outputs": [
        {
          "output_type": "display_data",
          "data": {
            "text/plain": [
              "<Figure size 640x480 with 1 Axes>"
            ],
            "image/png": "[encoded data removed]"
          },
          "metadata": {}
        }
      ]
    },
    {
      "cell_type": "markdown",
      "source": [
        "Here, Y - axis represents our dpendent variable Loan-Status and X-axis is predicting variable CoapplicantIncome"
      ],
      "metadata": {
        "id": "6ydU60OoQ-vl"
      }
    },
    {
      "cell_type": "markdown",
      "source": [
        "##5. Property_Area"
      ],
      "metadata": {
        "id": "PRA9L1R_HleA"
      }
    },
    {
      "cell_type": "code",
      "source": [
        "\n",
        "tmpdf = ice(data=train_X_df, column='Property_Area', \n",
        "                   predict=RFC.predict, num_grid_points=30)\n",
        "\n",
        "ice_plot(tmpdf, c='dimgray', linewidth=0.3,\n",
        "                  plot_pdp=True, \n",
        "         pdp_kwargs={'linewidth': 5, 'color':'purple'})\n",
        "plt.title('PDP: Property_Area')\n",
        "plt.ylabel('Predicted Loan Status')\n",
        "plt.xlabel('Property_Area');\n",
        "plt.show()"
      ],
      "metadata": {
        "id": "GRiOeK_gtTEw",
        "colab": {
          "base_uri": "https://localhost:8080/",
          "height": 471
        },
        "outputId": "fd53ab03-bb6e-4437-a9ef-33d212097482"
      },
      "execution_count": 908,
      "outputs": [
        {
          "output_type": "display_data",
          "data": {
            "text/plain": [
              "<Figure size 640x480 with 1 Axes>"
            ],
            "image/png": "[encoded data removed]"
          },
          "metadata": {}
        }
      ]
    },
    {
      "cell_type": "markdown",
      "source": [
        "Here, Y - axis represents our dpendent variable Loan-Status and X-axis is predicting variable Propert_Area"
      ],
      "metadata": {
        "id": "56VFrCubRCj_"
      }
    },
    {
      "cell_type": "code",
      "source": [],
      "metadata": {
        "id": "a4b0KOblgGQ9"
      },
      "execution_count": 908,
      "outputs": []
    },
    {
      "cell_type": "markdown",
      "source": [
        "## Meaningful Points"
      ],
      "metadata": {
        "id": "ZW-zJ-VvRGEm"
      }
    },
    {
      "cell_type": "markdown",
      "source": [
        "* Every Fixed value for a particular feature is ran for 384 times and then average of that value is taken for modeling.\n",
        "* Each ice-curve corresponds to each row in X_train.\n",
        "* Every curve(i.e rows) will take range of unique value of features(i.e coloumn).\n",
        "* Out of my surprise, 1 unique column value generate 384 curves. \n",
        "* All of the curves are not flat, it makes an intuitive sense that they are impactful to the model.\n"
      ],
      "metadata": {
        "id": "FH_I6sC7ROMr"
      }
    },
    {
      "cell_type": "markdown",
      "source": [
        "![Top-10-Images-of-Dogs-Saying-Thank-You-9.webp](data:image/webp;base64,UklGRiCjAABXRUJQVlA4IBSjAADQkQOdASpYAl8DPm00lEekIyIlKBR6uKANiWdr+OsnqydLWsFxdeD6hYQet/7vmLpg7h+UekP5vTXl95lnVP5z/93WdvHLAqj+QP+3MV/+PMZvd3Bb+c/+TzjfQv8X/7+Jf6Z75n9Z7RH+fnH97/7/Nf+s/2PPT/3+Of7h/webF/qvT2/18RHuP/j5SOZ3/j6M/0vQn5GX5v1D/576R//x4Sf/r9Xr/pFB3BbhBZ9qB4iEBWuZvF4z66ikXwuHR9dKRzKD+S3rqy+IuE3rmXMlK/Dk2R0gnTqnQZxQUc8gIG40YVX6gWjKFhLcATLUoqqSGnm7P3GCKWp/6o3//BONN5/SsbPzZSqiLM6oKgD7KXcP+V/u0KHmjCwRfuPvhGLF3jFfPAhcDmcL5Rfx0gDN9I7bzvwDyMO4Qit1adZR9nCJdHqd0ECtagfqfx848gn3QO09+Ehm/EWmA+of+3hP6bMuBv/bGqnQ6jWYoFuCP4IG4hAWT4t+EGwwd7ksg+923YzZUyRJaca53vE4Y6j5HxY1K3cSUv1CHmqYm6C7ncRfJR6mYRb1lB9icgMS5gGli7nXvWsPgGu1X2sH16MkrG4HtwUlrq4Dz+msVok4IKTq3++EOPC89P3jUVwyviwWlb21zCHkjJreV6esa7brUWSywIgznzDDp1pYSVLlN3F8z9jJMYoW/QRnyuwM3NJYs9vCd64g5X1aQy+2M326aIXru5Vl1GFCquAFtgOOymxyArCw/C24IRSaioUy95IgD+iwDEnJsyVsYvQf2HvFD/BYpDWpzuhOD7UBRhRezr+JKSj4JG6z/LEC+zjU+lIhFiUXS8itth3P7T2btY16zk85HYXVR4Uygou8sVukU6NFnt5pxIDSJiWFNBqcuqU3+3fYk9fJMGneP6QB1FMrbjz7wodOOJg96M7cHEb+9djjzbu3Ni4I21wuEX43aUPm0uL5Chf3nWpkijJAd4eOsC9W/OHFHSEvNdeXKPdZfIkv9jzN5aEBovB7FI9S4JcWswvvPPY+YHNHPNVClp473rMr2p2tUdrofD6QV2kY/8dMyRGMZDqPp+GYVnHl2nRCO1eMkz9Bl3I4zgWsqdOafTMrJr5Zf6Vy2dejHGwHS9flfPgLwOw1Ei1MRx4SNQvmlTpIIrDaAZw/BfInncUbKRcJb1FPaPtyuhJKvHGaOMel87RXrrtz54h7EP1ZqsmXU7k0DGiPNr57aVmax89uaag4X8WhdfhGE96JS7TNgHcYgTDPzSDf5Lg6NN9r//qN8/fUtZ3kjkVqnU2vDcSiFrch5KjmgyeI8eIS114yq2/Me53FsZylHfyQ6iCa5vU9Lvmg8gOEr0rVMeCFVrqnDZjhXZX5HOTLEZP+39DaXMC/FdqFDKKRFMgRya7Bu/yGJ324iv4CP+5ufCr6rXsV6y+0r5bBMYEhfDNuPrPHVt6dmxjF+pn8O8IQ+AkUYNL9MdVtrG9/mTJ2fcRYX/cl0cgpYR+3pYXt1gYt2SHCxC47Zswb26CXy0c4eD68MhZqgYkshv7WJTDGhNzALRD6YNDfwopevP2KJF6SaAvLucwKWEbRDzYO00Fnx44bXxNEN/2Q4ibCS0gwPn3UQ4p1xZ4glt2pqTZBg3nr+dB+V6oKEXLkKjJE2NdMRsW+ZMJa1tkS0ves/hLQUQ141Vste8ldnyRpM+QOmW/5IpH/ZDddJSj/fhZvsTcxtV72zVXl2TWP1fwWcnlJCQ8bwtlmZV86X3zp20aUNjelEu52S3st46reL5fgKLgKqb72SK62WlBc03739p3LVf0xHtQOBcsTjLEI5E9NeZM7y4+0ec4HpG1B/lTBPEorRuKG8+7Rq1YRbd8L3Q8Ob+Ang7m9MNL06pfLq6jQC7cYTF2KVfB5Stp1Nq7uj03pLiBnioR5KJLOq7ec8tJSoOjIiPYIORm7PYqbnQrgxfl+eCWDFVmS+cuUQHq2/gNI7tD0J1WNM06Iq54HJGYrhmQZli1ZV+P9s6dBvxqoyPtjhyRwD2IhJmMVK+p5TC4J7zc0ALR6NbkDNeVP5FfubbISRjw3pCiEJE62Qep5Fo0LI516XBRwyTR9O3sCNPpmtXYiMGsoj+tsrXPl+12BchcTKHtbvv7QnMhMsyWvn2ZCs8sGiXkrTU/n1svYRMYNplwdGuVOaQAFC9ncFOEcZv6UFtMoTo1z01Nah1aV6q9e7ggSwNRtKYaarblpbVQNLvQ/z7trX0Cq9HQOxX+zpNbpqrNC7/OMmQak1PCd/o7FUiXDczT2xEgp+W9n1qz5kFRfluknbq357Y0CHP3RnVWzQblBuQYHKrmVJHw/ZLC0P1956iXFtPj9GKdMr9SN+cJphzxyiftrZHHBB8GAK8LLRK4PdmXzRN5ZfovmDl6AwYAELEP4Cxd1gTXIR40/qvv1ixoJfUxzLh91qUMuVx3dGQVRa4zmThHOHttshQOt2iL/bHZNAeHdwG2UY/rQXC+N3Zs2lO4mswfrzHOXtKDC8FhDk3gncjnGCRln3CRjbnLbeEfc/ZQrQ0iPx3ht78gsSidkpnli4ZzfJ68lklnESMfm3l9t9mMpP6/MaIz2Lc2uY7VZeeghRVpK103heM/360v+JWc5XiFVw/Nu/n84VIpnnGWzZc/bATIujbsDd5rm8s+eDbHKTOXZpazr22EMr1VchGk8G6rMi9kR8VZsoiDFJQY52DU9rMqi9fXO+r6sqcsYT+akFj/X7fmzV31ZAcgsl25qZ9ENrZBpWkq6i6n7jM4VOWj4Gdyc4nt6IqlE38v1M0NdTM4pYY9G8D/UjvfQnT6f+722Rb3tsxzfx8vHT4FO4jbCy5n6L24AyAlPxbQU7opZoUlbb/JhjQNlDhmWAWvpFYS5srwp1S9kpu75mwjsl2HtJ8+ke+iEYAyiJr3wAatmbsU0PSCajq9IileQMAjIkzrjEd621CQip5hEUI+DDNZRnPxlzOoacXoOwB9G3JbqI6vM6iG97cbLgvp/fOmxwUQd8GyKEjEEP7JfWwp4vLyQyeiQl/p73vw3D2cO74nykmVBZRJuKXNTKs+NgMoG9n/aLi8dW91DG3fSRHbLC8zU8Mk8Cdf7YKAGxw9XlBmK6Ct3pKmIg2y8C8VNrr4HXyq0lR0NLOCohHGy8ZMs+2uKwcJ/IS7v3+vyM8brdgtHAPO72o8VeMlg9PyDwmPqbCGHKgnfWEuJBiwiJ8TPnarBjK7rAdWmzDPB+8JKmgOqeIhD7/TWY2eQWfwj8/F9Z1cerqBn1YOKMyELBHewYSen0dVazuy3YKvP8ND1hyxK2gtQY6Ag6JcmYESxE2GgQ1bzXozqL9a/BcEkQVjitmR+y5UzNYP7CcK7gAqmqV8G7LerZyB4GLPMN/B2W1ouYPw6/tcRYDV+Gq2iL3lDbK6JiB0vM8hyKfyaBgH85BTMFNjHgj13CDkl0sXJg/cmsEFvLIvl3x3xX1iterpIKDg7XuCHKEdTjf6Ff3EFlYLvI+2JpxJz9sUDt3Y/1+c/U9tWWdv7IsP9HE3pus+UsdXj9p+vMxqTjG8jcZ3JGESs2zcmR3etGt8135ORcc48tFWCp135wu0DMQ/Zp+v1u57Ts9FKnz+o+tcnuqcPpu/mpuOz6VZ/Hol4/I/aKJtDin89/YxsOD3K1/EFKzHyo67Ias7Cx2brX1yeod+FtM8YStyqgDpTpBYiYZLBN11u30OrtMElWTmW1fCxZwsJH2U1UKH2+wqUj7dfiRjpz5vmJp6yUZN4GllSjsIrl5hHkaIfyPnwbaOOx4l6s4VR5QoATjWmUnszXhqR12+4wDEAE1ZhJUujegj5mcx0tayXrOmuIu1ud7OuH1x+MEeuicfdQ9cd9VlxrYmml5mBs3WxPciuaCtIShN14LYNMOxtj8+/M5VAo3WqjbMIMlxC3ZnFbVvSSHDl1t+gqwJOGhbk7fY/ltgbXW+gG9Q0VFsnKmnxQWo4oh7BgtRqaLsIC1zZhmX2OpxvTxH3Q/jfitLTn2dyp8FDZBen+QzPr5wRBdoWt+vgI6wWxdInx4/9oQ4IZ0Lidn/D7Bb0bROJnRxlU03bAa2Ug/4NlsH8fUbUf1YHsbDBW3rm16BCg5YsmblOMlE3ss1sfIxuvsKOORx+JIRwNHYgcYmc/PYM7LWW8GGIrIMZVMjwhqwYS8hadzPhv2p9vJTPDyMJkX3GUWc5z+ryvv8uqTl0HLMyqMpIjxhAnrlrWjFCTU6lHrOb6V190ouN8odZFxVXYpBzu0xvv+x8cpA5+D17Ct90ljCRoHdnmwzEDyB994IofxglKXg+BRfbdnrQmCGjlGOkavvKxpgOeTqJTYVX2ieS1VYErQqnKdUmSgEYUYBgtMAoHX6r+NNo0smQgjF696nXq2Y2qi8wFWyraThVRMyRXKUCyZ7NErDHol7w6T1aug4N9kVxwAMFaFCo6mPA7+cTnAD+2exK4JuvppEgrXW4hshrxGSdja/ce67uXR7yDkYCWILP7yL2Ferf6riYyu9CE2XOPCxVieg50gEXNaV0LdKYbx3p98koti/NWc3w38QZs4AEr0q7/iQIwBXECkXfSCPDf16pG35QPS73j6PROjR58NSn4ErB3B+61Yu9dKbCIgeO/fWASLmQAMPs92GiSRgnwYMKaaQU18YanumuDMnW9B17SVrgg/EK62Eq+jNhFzvZbrXtcXOYtBm4xN9rfUPDlnWALH/T5FQ77lGeVKnmNoiUsK9NZOlT3OuSDO4yWwxWGEdbXJHNxBjQ0S/c1t2ZjvALCr79nWDEPy2gllCsS5p5Cr/uJ5QeElZfX7lMUVsq0cMc2xneh4sx/03s/yakJV+xXINwPcYY0l3JtShUIEKHy6NJkQyfb9ZDKY8GMrGDr3RKaod7tSVoNDAjqCRldZajLgSIcLL52Xv91NJPWrMgsZCtoI1ioTKIhpmlKI3cvDGNSVNRffM8JMCQxoP3gZWf8Rewi68NLC3TvPdDDy5DoNd3a7ad5dT7ipdoWIO0DtrK/eGZD42/oUhJkaF4Z+9Typ2IYsuyxNWwrLijrduaH9Cnct4h8UwIdONjbh6bdaXP7mdV1grOA3TzZ/gJIYwqmiVWJ49HP4ppqXU7bzpRERiytpju1zkN2b+IdUCGgdEbGvUpmxGoXWvDzPXG0PfoLhOyQw69TnXsVnrfTuQtmSehLn7Cb8h945uB4qimrGd6/viz3MbgiTFEXefuq8MgIBLCpsHFLVh7YqHlZ8Q14VaCyvUEUsUoZsc4UOuhxZuFuUndqIXvGcmEfKwa9L8cBK2SkXcNEsQTg2TVoMaO0M69RtWvvAwIX+885RyQb/Ky1e2ufi3t5poY0x33mLhXRji3Dhwyvtgm3Q8zFZ6gtqdlIbrv+xU2ZXubJeB5IM203Okv7KN0Lrm05un91Ho0OOXJXB16lND5J2WYHDsofpeERcHdK5ZsEnlKrHUU3xMEZbJWupDiLbTpmuPC5W4d1EP8hrbuYVJ/+4gxyW0u5fDW3XI0VH97hsDtwRbGZtVo3x2u4towZLDzZrr03sd2iwqCHf+ywJBmgn/9Ok/8C0PGGqV1q7t5fMSjCXexh4hDOXHQgRTMqzSzoib8ic1Gifc5+lrrjF8u3gPX3YerWp7c4DJy7KRdETGn0ekz4zxJXIDeptH85nXSXSPhPoJnmOLMoCekFdKQ9C5huvOxLgjN/b/eDN0peCd2AFLPtKrLL9+snRZRedgTRPt/Gbn80n96WzgJ7nv73TDEQhFYEMibz9KWEhJq9Vh3LbOqKJy48SPrIKsBPRuAkjS/4Z4WcN2Z7bXx9Lat0pY6VOxX6Sn5+9wTRzrbQR9hTjR4fEm0ydxpTWO0MEl3i/o9lLAY6DLAdumMuWLt/6jWPBX1KtW3c4zBpkqPPSgBczTC4LKWQmywe3J4IswTIofBQUZS6E3uWVS5a2S+slYJ3R9rtzyLziWYBjo+y70fBk3kbNdTvZVGGTGTWJZuajX/ipgkOLYeFwxvxbzkaQLnK4vKAMttJrzFo76FIYkakAEslGV9Zy8ry+wmLSt+5yUproolz5LDl+KJOkevt0A7vDEatF4t6UTq96ZADVKiIOTGOau0g2+fJ8wtLbzyj/pb+44cMoCRxE61ehNMVU/RU22ttzqMHXwZXyJk2VqV0i/jhWn18FSKeaNnSwe0iuPGAFWvF4IpyqkxBwHMiVCrPXqi/T6HlJ4wer8xg++4oPaQhlFKYBI7r+maOFPSDjmcVQ8BHteL8CoJ39iGT2mJzYbsL4JXB2Y08m5lxVh5qkBAoUJdG9Xvpahz90dlZUr5xYN4rtQR8nMaf7yFq4lg0hOzJwxzafQiVl9zaf4xE0k7BehexfU3i4DbU5CK1Z2yn3TNTaRcmfdmIinRFOHc6/dv5lN4IBzpgglFcO6nxKJh4DiQG3yH71aNWy1iZ5xPnhW648S7o8xrYCNCQNzb/l0tCBdzEOtonHR6kbJrtfh6XEzV0E4t0P9ZK6lzC8/ZQEJxQkF+/2ui5UkZj7vZZ311DKFWYY6VnxnWmJtVCFe/qLN40ZMeclYDmiSSOGXAtVAgPDLSzM9zjrhHSD6kZuCfeWnIP4wCJQkw97TNVLw+CKebVqnLh2m2NgqFeYM7Xmvie6FeCzWuxF0SSc8u2P6Rza6Z7odjBkL7IuXcDbx4Jq7EKP3hnnhdS3XCNpTFaO3a2R8KsOhnMte18EId/inoUz7HNgY7504E57+eWyUUA/KSjb2r5rs7BMAsDuoAdPEOYfIeBw6nDwEmJTUXfnZAlZ/j3zFz96sTgbFPC4ubVJ8uhg0wEbJUHauH8E2Hg9nh/8Q8uPr20LoT+6Y4E8XwORL4v0KMxLFUXdnKbHwg1Om/IsmYh5P/sJh2eHIEXV2pAQf2Vu+IQl7apJPx8yEL7mOpq6VTvFOwqPWZGV7V7Y4mEvJUfVbfXK2fe+yA7RhUGqzTnx+O/39WebT2NZQH2/icn6P5hyWuLYiHu9R0NHTAybwvXL+sXRFLc9SrWswGBLgNOg5bTUgFrcxDmZ5J/sfXljclGjxC4V7LhstAAEGnbQVRCdO2qjuyLdtA7qyOY6P68n8I/6AkhOG7P5D8A1qpA5wZ6EEL/2NpdYqXxaLqMjysMNbUQe+8JxG3DIdOWLk0Eu6CusMWQrnITTeVwx2syJPn8kgJUohaWtkDnYwr53X+Ib6aj2jdTrcws1d9e57z5fw7Tixvu/6wGnVsr4yWvlXnOd9emFvFUDhKfG4cVBc89IW0K8lL0dhg6WgTZ3oK/9BIicU4ed3Sf6YE7pgXlzfE9v605vKkXjbszkfCfK91oMNPh38VM/e+CsjvIQDfXKZOVwQBKyo6/TNW2yjrVXw4XVljPjfs7cPlmQycHQWON6j7chEMuPA/5aS6+3KGIiOIrqD9MDRFe662qZyWPTyCvU3QOF5Yn62UmyccQUXBzHblxwqvch/JLBqCPVnUI1aEj5ZfJ7NfcaHNIGYvS0QXjVZs2k4yMSLOGkqgErX2LS1/YJCX2f2ceQyGSEXZhxo3QLtA9xrb48dXyyBhFYI+fnoPKDdbBQZ/5zu5r3WL08fhMlPLYvFzymqtmy+dU6+7d3NNbXxNyka5rB0/fElUhTsZhwsZfEa7fGZYjU7fmhkv5sf2RMSuIty+aEX42SPQj8kbggZdtISe/Y2zDgKJukZJL17Q0cz45iZ7hZnGjXN+3ICaczGoUB+6Xmk6C36uXUh52xL85bySNSxtre7c1JYVXk71ECMAsoSeV7VKlvDrckTcsKybZ7cKLj+kRQIfTTsHDMLb50qpVQ9ICvhulHxeqL6KNWfIoT7Tib8lsB38UrqtLQ+RbLfgSaeaCU/sg/HgmD5JCzuVUI4lPlbIy30vGyby2Qs6mWSOljxBRBScQkAYVXwDQ2V4jobXndk0iI8zTPCkJZDFQNpz9W1RpPcbEcieBVxlHw/MlhHS0rT4TZ0Jy4XJ8AJuVd1d0Y3PPC+k+TKtOJi8iywzKJECtggSLeKEN9hhWT6/axDew5P++aE6gbo/dhmPpjNHpZmJcCm8LhpZ8MIYnTfAkU1Lqe024ci0pw4I68JqguBfODQ8D/2kRRypZMNJZRuzj4YzHe8sWek6QkRFHMXv6xm8/xpjzU9/13CiqDsISqget5oclr2RIF4NoR7nijwZPUVf5eb0bG+wLGG3NPInCVnoIygKMOpm9Rr4V/+9B2WnxLzZGfbSePo1frEl6fOJEkpJh6AxkTT26qSwl85D/xSAgZ1XZoL1xz87NciHjU/fCVz2OUpoUo7CR9wsmaO5yow2OVSXUC536ai6xm1hBZhSFglxVPrQXI/L6isAGd4x+LNT59WARo3WTwbpAEcxn93vxb2/qmGoMlg6qj3/pISZjsX+dK57O8gjGqVaX4nMKbyHE9r+NlcLo5bjmIatbv+LvdYFoDY4wjMuQdZT+GTijOdtAJlTltCYrIpXnO6FKGV3RbsYdUK1E35R1uIDKtak6und03xrOICQlawWk8iNdH237qgnkT5Aps5lUPB98fsDDOdfC71YU4QaUzxAUeo7/iaCPT9ub3fEGC9Blcl5P1kH8ywHc0ZeWTpV+5VPtsM3tWfrURm2+1hbcSj8pBjfHF97tl57G/7bBYqltwjnlBAQCM5uGXVSDN7esMX9jZfu99MWT79i3LP6HugfxVnXOzeuQ8ppZMmaiPlMff7/HmJDfIJbfRntXbx3ee1eixWJIGyb0/fGtwPMMp2krnHuF3RFaLteNB+v4m0BHisamJGbBOqoZweW8kkZ/Zh11lPm56cPUvNU27wUaT8syAWKOCiu6GO86SpwCCxcOyx+8hU4eMNYWVuPT+4IbSnJUAzFqcYfbYIEuyCYBsNALQkme93A0ny+IJe2KH0/haKSMqMmWO7Xwuhog+kCsfmkbTX+3+Svtb4n/bw58JM3Rt63CrQ+xBdFbOrE81wcOzAs9pSDA8j9dRszgTKKwBUHOBFlZVWquFgaZtKTOEe8kSrHKUvw0c3zNbw/reGjz3DcFGYzhfrLtpHpgjDhaSa8oQQFRxTtwGOwJnOkLWtE0gHMogN9DIUbu+xghksC1Demcltvawdfi3imSJh7rxv8LUr3PgL21GUbVmrkcGRT94dKY6f9pMidWgPhtWVmQUM6Tia4R7rb8sQFuEFZp9iwP8NTlh79/5zj1RNc+m2wDbocXDUdZbCrtORN+fpZZorT0fCSz2ySKTjpjoB9i0hsjn/HdKLLKmXuUOIuUfYaIIlJPXpjTXVead5WaK24k6aR1AdW89lb2qKGgd/Yu9oTAAIBDLxVCNdNrALYV0ajL6cLS82Pv/Q8n8oYDppY4yEpcpGUP9HzawlJjU2O3vsztcOvbxS2TlStwvX+pIEWbZ2FMZ1r1oRLuB9TDj/nGz6GCjAfJHVrr9RjVug08ISBPplOcIJpbq6RkraHs6k3hQw8DEGo0/c4gmg2S06xe1bafLEfhHjoAhVySzEKPUwtXdfJUZrAC9LCoLO1yQKbv/ynyPaHEGt7E8vyYi3/7qyANI1pQSb67HTsZ3gKSdohintIgd/838JmbfjtIuyHo4psHnMbOLPM8tCMSzj4HI0/8jUbcWLsP6EsTNIM5UFqRNbALXZVsqe6hagMPcS7AwVTzE6N0Dnl9J10zeQCS2kMA2FEXJXHbdMHfTZ5b05QUy7eUMYp28T5FOnOC7laEWfe5KVep5N0/bp4Ze8LQx2yV9bD+WpgI71+gAD+/DWar+QmnjTKLRPU/4U3T62u/fiyPQm44fFAEiDmLXOpnkM98rag5jC6GIrrgVcOszaX3/mgoEj1Vy0YqT54ZwLQlz6cu8e6Z6giCNSkhAOLYsxoDqkQjAb47WgmvsyjKdYVoo0A4gJ8BgkVwUy19xes+nK+FwIhQOzHgPNPMAj2ytWgDyzYNzUdQCEXUxYeuwVs4eyGeIgqGVwpDp6NXdQMC8OstkW58QdfLGzT49e3BiLHoGJ30CjxJR0hAA0UQ4l1FD/Pbd7mBXVRbdn2ZyBp3z7HXoXCLq3nOiBzQJOfvRn2AXzwDRIxGHerHVIXvuUAGrVmZvZGC68f+joCHXF6FxwttDQ0PHnv2jtYqJJ48GlZoL9sxKyZxtpT0s6IXCGmNc9U2i6p6Uumlb7pe14rpXXnaf9STQT0Z4bWc1T0+2J+BpqJW36AGkyWWQwVg5MNqqCfpEmOfdxGa8BjqkgRufDP/OKN1c7rAsQLRr7hQhq3WvDLPvNADgJOJ603O5SKigWT6iRr68f4Q0rUDpy3Gwig4PosdSKO1vCp/AkXBg+u629F0Eyv3aHwAk/5UZiMIJKRLt/vQe57Jo5XEYLU79+SdXv5sNxFVjua15+z/iC0L4hqJZFNDyZVRoW+rSjMjskr7DadHvq15hJXOwnHJmI8Etokx7qwRHJT9ERQr5mKuCjBv549MGeDAdQbm+tIYy+xJL9H19Jw2SHwGPp4TFKCgF/cXyAOV5Z5lBEEDqUXOAQwAg/oDIVaHITeu8Ly6HScaqpj9V9BpND77BdEZTujnBDCE5GxYnqhmP8BJ9MpmBe6IRVKXawc4ybhbTOqTypBrIdSL5axkjbXwDPKZIybjbdZv80x5mDQCPZI3nGAYWkszZvMb+m/mQRDWT1FCCPNEdud7fMsT9IU/9mr62CXEU5hFoA87BhXPDqE8lcSFiqUOjIloUQGto3QS9KyHI456gNNTJAVOq7zCuuoQobqEnEW8JNd7is7nSgWIkCQssQVobIf1vvb2bd1G+gyRMGcLraUbE/Hma7YgDnN2R8sXPded1iRTA1AZg/BaY3kQAAFmdeIF/8FwjYRVDVoRvESMpCLkVHCgsgKsNU6RUDxcRofjql4Hhw6cylXlQfJC0LQhg5bCz2VIle9A/N295V9nWMZ+8r8LiIAXXVQ5PprtC3F+ienomADN3F1GeM4FKnPvWF1ct+e71FbUJdj5auYNsRcpoP9ZKZeBlhu4c1eZP174/zgatq0puDJEUu52o6wv/xc1FXFi/ftptUOaTfS/dRvBcXaoJXF2SoTfKZfa6uDkDUphj3HWZyLDz77pxa9JIb5PA1bz04EfODCOn3hkXPzhEcI+H7tDFBg0dZS5vXp+egaeYsU/QvTjijTA5RjQjWLG6Uh8dYV59CTo2l/jc+oMfg2cA6M+O9PEXrTz7sBspmNkUZMYMoIt5rhZsGexLrsVNjLBMRQUSsBVdFkJrRxKYaJ8gPgJLhpb/liEWYSemMnAi3BT34nPODhe8NZLkKqKfoicjcsFAmJOHf7QTwyP+whnrIuNMNA3wcqeZwF+dVdceVkP2yPdo5Ry8EplsceoerQKc9FrG0bANl/w3NI1qlVqKctKIiDivUXkEIHDoqo9cpbZwv/t4iWeMgYgm8vmxkiV5OQ5ZrZkRGJjQSdWMPrxwUDrKSAmHhNHeHYwgUoNYXJAeaUEcCJWCEbEwbrLFb6qp1IyvI6wMJXmV+BLBbZnr8rK0LUNPVpOBizjRe72BV/8LssaZxwIlU0kmkYW0dRWIvNm0MMOQvqf20pJ2ci77vbQIq4BpXb9bFvjf0G1OAOe9/lVpxQVqfn54zulUkbkAzLdGOBcpnPuDF+NrNgLKGkHUXm/4GZR6j+RmEig8bNUMyD5CQ9vNPrqjML2Zj7yV/VgNdEp5ojGIkcEsax6/hD6dkC3AOkXUMN6EaW5qZSE5TkbahLtT9b3Lpo+DHwV3c4nRwviMPTrA0O21itdLwojrG60dxxsv3+M+AnkakxOR7b2T159ATpAoWKwinxnKrZ811KpCUtYRDvSKs/2GM6Nx+YrqML3CyqC/nQdPJxz7soQLSmw45pOkkowMBN4stX2xzKPjYHSUPcE923UVuKu6cQ4yQE2hMAWnRQV8vAMgAG968p4PqdEedjATHw8hbhgIf0gNOswPLWUubLMBNYirgj2FXNOkWfhPeUo2fg4TpVaSxFdDYZmgGNpjc1I2Eo5iRUgxL6A7IntdXnnTeaUPVXAYNrENYE2ur9Fsphn7rwSdl9jwlonl9e1DbtM3SS+XapvtAwlJAZmIW6NeS2E1dPJAzTlVgp2Sd3QyOCXfNDXWz1sJZmKo8fdOC6SlefMIIYOqOLY7NjHDT52Fp1/Fp/uzhl5EUcPPM1sTZMflf5q0KD57OBrNbRLEh5YYLALpOeoTIHyxuCfA+CR9K5vUDNRMNhJEt7jTVe8Bl++9FzAQglvmznke/HKEZ0z+6OdxQ0CNHT6KcRTrqkyzr6iulRD+ICXVKebA2tLD3bo9n/MSGsY4Jwnq7vcxmgkItt+X+Qz/adZ1Y5jdpfMzRTIUcsWVxyLbpj78ky6XKaleQoCQKAXGuVucB7/uGq5tFJCsG4PF8YAmq5Lcl6aQ0nWprwuV8kDuhBFA7yL4TAmTePv5wrqrafEtyoxZJSDje0Szyw69J/XX+zqICts/Zly94H5VeVUPhC5eyEA03yT44ZteSlFGRaZZ3AfksvCPVDPGhMZ2GqDmDovFvByDsU9MQmOnmE9cwOFZYlpQnxXAoNw5weM5gwWJ4H9KUd0qcURrYJV/EoEJr2UZyZB4/gT1IlqZBrKLB2RumLf+nO8Cyg5AQ5rXhYFBx6POSwFkMvzsQskFw13+ROKOsmU8gv3bcO4sBpMmttzk0dNy26450QTZ72bs2BerI4xkwJpuO3Frv5Zb6nSGRJIFPPiHkBmGBdqcVmzBJJ4ob8ml1q8raV68R4AnDtOgslhsV+E3VINFsAMtstngayqpoBfSAPpznPnLEbxOYM0VLauStNQglS67cLM5pNWuVdr8u1ICxCkaGufEB8lQv/9m1kMfDsozyOaMsb57esOdFxB/uaCaNk3ckdjTua2P7Lm7uyplZP09XzO7g9cwW42kyG8+vpbYO13tu20QTFoHACVQvkttQ5UF2lqtoDDnao6iVT4CxokNhTyuBEVtWxf/qsQapDZ1C0N7fF6KtvLbq2sABY3UmgxwN83VHfTTBl8cN8ciPy9X0z9ARntr4pL2pCDgwCtgRSvmy/X5Symv0+QVNMOmblcnMYJjyLWXKDx3Rsiyi7hzJ9pW+fdFp9AQAjAachQRDvP2Q61Qim6x+BilRbhSxx+reHDma7LaTp3Kfdp1vccAUCAIkPdrlzWiik36iV5sN0n3NHTAMhbZnx8lTsh2kLa9j7gftxDxj2wH6RBP4I2CO/CHHj9Ay1CscLDu9wYqUL4U+bcMV6fsH5m7DQS2oRdM/moOxYDzunF+1gVwCEmSExQ7Mh8+xs2g6N/k+lxRn+NZBpQtX7dpDFYiFGLCbfR6CF+2RSZN/WhdDtaBFwJHx2Jr99t9NlPe5DPGX2iu+OQw4A8kbLPwf4TfchXz9PcxMMv6N8UaeyJ8x1SVV9lGnxqF8WOXT25zzT4Ibh53QKpFfNN9a2NNyMEalLipsVfadvFzkk/pG9/b7wLyZREq5Nt6xjl8ZVGmrNnVbgrJlSs/704NotO1uilHkrtVr0b2E0TOnWnnzjLCYNXrJVJ6vPlLh0GfopWUf4W+zR5EybCPrYKF1jU49CQUhi8v7weKngEhUl76+ItiPb8HQxWcr3g3R99HsTpym6Z87LiachLk/ym5JBamxOWWVuQ5JktG3TERPx/MrT+JwzlCKvSZlu62QP5OomTLve1WrsMgIovBoCpPV5wZx0AMTtViCV7LZ0Tc0YSNYBw8ZAxORCXq6cRGFX3MFF5WnsVg8ZAZMGRK4nMzRblO0PSy/kFfbCyHw2KQ9PpTZYt+e1xKh5PNWG5H+9LIvnHrU5cAPxh9skGrWPAIGnfKTrnmD4xf9RQAxo0LJKcqrt/1E8/Khx8AhNIkfodtmi/myT4ruh8ywhbJWDIJKoZBfNgM9kMhnUuMu4cSBQkAuKtXG61MLcEdZgIuD0DRSs9rEVNSewaALTvylbXnWnNpBU4WvNLflVk+BS/4rKy/2fjGtTECSu5+P1qhWuuVPcXKr4DJTLoGiVU+kLn64/oQ9loB2SKFjPHmffUFN9V0uLWb9sc1U3xcOmy5FW8+2w/29D3m4jLe1SoRJCT4H5cj1vlXqzKfFBYqoVYVZF+Wt4X+9knopGY6e8if+DZonKeFjrwG6UPsmjIXeuBIzUJQsc0D761myplhMARTvB5/p4ROVY5Gk0CQKbPXTySiU8eSWVxYnDD0AqZCd2dv6e5rfG66xgM0a0k/7CdrETM0uHKUbXafyRyvYaD7EhfQq9w8VTXr0hGPzl3fXb/HQJYRtblx538UDsE5v5VpAkhcu8pKt8j9WgCEbdlKMhTIZDvMwUFesFdJpGrMzm/k2KVvOT1Ju3FktnKMI6vp1LMmraNYyTfsfjN6PRhuM4uA5IVQ/Xyg3d39ChC84MPkWpdRl+abCfktMlxC4kvDnJf7eGoBIDj8s2AxNQSQ7DStwiYj2x9nr9Hv5ViiYvdI8EGArTop403jPTVGa6fI0eWCsEe01S5+FT5fNbRVCEcYMGFXQ9LhWT6ZxblaZJolMZAXd6ibVNBSqIMa5AhzM5XDffcZv3tcj84VKmRN+lhew7cyfLltBODgSNUBolLmNHIN0XHvlfKDM+6HogY0jUQTdlo7xg/vB9yZDdOJPSIVnWAzc4bf44aTkqbkSptAV2DMzBE0Ldiy9Awgd4u5c4GQxJxkil4ea/ifwIf4c7DSrTMqjFiU5Eybs58EO1/zJ7BWDM7PXfX5qefcpLT9mn3ysfMJ3C76wCjsYVsSRl/3V7TabWg7axWrvV5/HaHbgx9Xp+6MxuwTtASrHoS607pWU36RLap9WX3Ajt/B8Lx+KQtI5dbHJIO//cktJkU2uAHtvrSBfCSm97B4h3bYHcnrhSGcpRdVDNycglW2poWdA65AYv9JjlosDtbsJ7V+7cldODGw9Gsh3zj0O6hgkiNY8YmCvQS0bnJCjLK2cDXu+yxVylx8WuoDDeshg6AEO9YeAX3t7ERt4Bfbm8gOVjCdmAdY6MXynk4OuPhQ4mAeLkKGi6CSu1kKBurjS103UIdq2vGiT0uEG9UjbejOwLgo9NSkn8eiWywMHcwjX4oPm4BteoxwiTtxknXZBJV4c8U/ccHiAoiDx+Vb+YL9s+949KbFXieOzEg83k2UKygHssQ5SNdinmKir5YpGLltqqava8ikwMEMjVbEj86FpWBJLZ72w/moMA8Sm/0WkRdrHtBYKPwSpmguiB98LoZ0EsDKVAXv3qfb9oZ/I0vtrlYQ7ki61+v/LO3ajwqZfgRrFyDus2FsOESMMhcYhXuMF2piaEWtJGw/FvhEmXLrO9e/MjQqqSiCs5ijP92yKSam6ZtlxuLE0wbKy3LCQpAtNV8f+jPvScmFpxpJC7iPPKUTkwiF0vxsBJFnFqJZPr8r0rE9Q16HSaybVhupAUbJIkxWUGslxaWUUwtRhy+//LMU/zaRTv0KXODt0P7CvlnQRncWYOUQtPwtPEXOKRI5RFFuxgeEN1Nvf1bEihcTTK+KGYQvg+hWszKTfqPnvPSd7rYodrgwKYEHvQvS7rq+IkpGm1ZjZaWhGbw5m1+7UW+3TeTuuGbZGEakDg9yZrmdXo8bZt7w3LyFURGnHnyL5mqvr/I+k3YfQPlHzeWZhtH8NiRSrPghJI7Pvsz0l27GXMb9v8prLFHmjguG/1LtP1pzSKtSJ7T2d/lbdt5eovdvJ1H0AYamIPAfyKY+TW2U09Zwo++XWxniEu/Kzfs4/4BVwZbo/SYiYwsrSJGjE3LCOfgSnasHoaG+sQDBVU3EJgD1QwfheHUaHw4UqJaZ1N7JCOjur3RRaCobPtSxE1Asppt0u/hsJZlXO3Oto22wH/2qOZaqnDmEQUoumWBqwpapBjvOog1kEc9OK/25v0hsC3EZMCgnPxjNpoekqMUSBlXZxqr0FBliefppcOJpz7Ggu2g0OyugWcnMazZhdkWh+cTtSaq9dzr0K5D1l31kAuDi5ORCsyHGoX/S3+wz13c1kf6rfm2gipIO/OL+uLf41TLOokANtlQSG/mZ0gUYc5oApG1W0Al80mz4cL+a3qYX5tWSylDjuYQj0qYCJvz/kPoind31RUqwNz5HwMUs/pkAqllL3+YnejiUsGVFTsJczUzETSCrIwLAX8V6YUeU+lX8gB4zBR86OFwOm1OC9C/s6Yb3qKsNqk2PdgEDC16ty45D4ZXtk15MATdGaf65UOM/FR+FLW606wQemAazwlLFAPv7VQxdFqJJlI0NtK0BpyjkLSa9hQLATWvmic3v57WK3zE1FZYPTYdcKce9dAUQ0uipUle95QYEjIcMvUiJlggUJE/zdvmu5S2yijXTAvIc6zymnjsWEtNXI7bMef9j/lSeWV2Pe9IK/w7+lD1atU//D3JbRgazJFLZy4mKWtJesKL4PN48HmwRWEWtrN2RM3ou73mKE0d/rYWg0MgELhAzmPO+uP2Y+7mZoXB60ME3bk+3/nJ6lyQB3UaJznM9AaisDjwMGeS7A4+THLB/f3fy+yI18QkaqeYL2lxgkVSt9FxOpidTrAxNTHXH0/RsGiz6936fCHmodPFRyfUmZbmSX5ty1vaVc/gC2tS+XvcAGu4nMXnKJeQ3z6WE1dotFQiNunsuMCo6uA6oMEeRhqruODutOqNYpdp5u69Qw52RNN6Qh52XOyb7i1qO73A3gNroLxWuTUpdRPZrIF5izbd+ZfC+OaoNynOTV65LGwQdxfzeIF4iVYONGifF2XJX2dQ/rCqaNQ1qneqK/CvcukW26blVUVvlMCVCy7CNu7YpnfJquRec/X6sYGLepkMnhMA5eJhZOwybIN3J1Aa1Ga92YTII7q89PXtg9BIy/XbLy2JcmAmaEbf5uNkwwawT4yeMITSbineOWyhqbKG+YxGbKl+CqFi31+14WZgLMnlJw7uYi0+K/jR10ug9JzRjtJCbT5bwpbFl1rmPveDi1NKsiJVyctACX5v9IJzPpJNrvTKxU1jhC3JP/kKgfd7SobwI277u8O2XQrWm+FA12GL/wYLDbyknVB1siS6M+YAylf/qb5EMQtTfUelFosjxHC8INSBW3eg4LJwn7nOc/V//Mh3Wge4ixnX0iXp4sPsbLLvwMFOBRGr9y0p+ttDB8AyZ53q932W9Vxbz1gOAYS69EzjpMbJfu5SIcwVou7N3VnbFctCs5E/xzkHhpD5S6xgEbLxmVNZORBmSPzKzspov73alWXhG9iQbVX+rSHO3H4I7Hf8/rGm+TRsROnjok1SqTw3zAnDsOdL8Ja+U7k5ke6xui8HQ6odtMdR/Nkep1UAZaNHdNR0IheDjxNSZdW5nJ/AUkjuaYRLQd+1Czv9vIvDbg6lFMzjiSkSZdQHXsGa+ViMpEx3Vki3hR4WL6a2N5O2+NYaej9nIY6lpS+ni4onIOEkV+jNMVuimlOnFN2kU3ReRHO8TdPifxiSIw1jhJnBWSYOHHspJPPE3AIIxJ97LUODyxOEvGRxMGwAkYkiM46KhCZNEugV2uBb2n1obx5x6Q4J7oT7bPkTGejuibYIeevcJHOmJCO3fFmf/h6HDtHzeNIaz081V3/YtvSFBnJDp32abeq5hknIUSgdJJCfC1QhBUTFe8wj2oa9bEC8dL7XtuYt8+PhomIaQijsCXQa2xOdFl0pCXHS0Dl5IrlRk6PdDXbaf20MJQ/DHftBkra5c+/oG5rDtlbR830y/txDZT2iUuWc2mYGZ4PuvzmQPCPq5Meo3xS7TSujRcqWalpFyK6H0HkDzTajtGmw6X40DdPliFhyT+t5o/yT/fpDEe7k8d7GjDIDk+qqdi1ibTdHsxm33i8hJGZ2CcF3sb4f8PUgcAmNZEgMwulvyma5ZyAqFFbBgFnShFh0MSWb6COdnl/AHmS3ESilmpTBluS8tbfK6xgn86bZeOK2mfc68nUCTDNgkp3Jk1CumTGga5+xvydjvz1EMketgyTBWBUsLmaUczLTaP8KhzREaj38w6Hx/VdYACPuFrmMPVXO5pn78r1hdseCTuYYSbnVD0RvMIHoqwlB+/6iUmZzZCM66SbQL85xf2/X3C9t4skUh3eX9y28SN+5DYSX5fZJBErdz+K5TKWWzV73R7PnmViq5gDOT46+Cb8l8iQKlOt9HbOfJjAjiz8FlK1hXHS1BT+eqpYHWTYpk6mhYOfh61N2i1ClRzpaynaVHG3tSLV4WCklBR4HEviNnJ7hvOjvI/SbvUuQ3sLpuiqV6SYbeU8lucgkKWB6n9ewcadDNb1F9nU1Bq64yBoviaIcR10guJfW2P0x9tgZBe0kLRB2nTek2y4XV9c4cRRQZwsMm7ju4qYB9slTJ9rzIlGraA/b+GD8N1g+jAHKi1oHQBwRlWfZvF6X4JjwagNdKRlauiATz4vzKK20pHL+vE3/HcJXCy8SmQC4W76hAL7idbIUMEv8lIAo+6SEf+PXDGkCXdU0X7SXeW7d+VOxOW5yGSZzrWIsSSNhxXFN9kha6jbNPDKRNyyfoq5proYiw+ne1xsFEuaek6gO26CzGD1eB26RQCkeEWwQc1bJ8o3pBx7oIP7U8Qm/4pq670ogJP+11Rp25HTPOHVQPk7OdbaNwilyIto04U/eYjmVHoZn/chBJ0pvxaMUCYkpSgaoHsGoIxlblgcZ5Y9DrODvufPvsU4ziCVvBIktg/ruHWVCojF1IEQLXMmG6pVDcDdG4MytKkqLI3SGGchNkKoz+qRt/QnbYdhL3xdG1kmlnPSsq36PiFRfTgi6zJSUHy96CNdIdQ1pLpXrF9dM4yQ3+ijVrn9w1SX0k5VhUz1teJ5C1tleOEMPZ3hVOA0bKhanSd4t3s/TayYfURspKsv2A5UhRmoMEFZbkgrZLrTpFxbJd3dVli9QcvC0uguvA87PEZlr03yPn4CxHaUj+p+0/Ohy3cGRwmkEumNMgL+eN3VDhyBNgdY173O9amIyWzAhtERgUeW5MGnYVdX2Oo17N6W8ePBVQDJRW25NU16+F78jqug3hPvGY9q2m/ORsg9RW5bvNF9XHgkK9vOa3nLfy5uqt6C2JfUeJO8PykvDoocSbeMtrD7rEi2EuzZrTuV0foyKL4bn4rV5rMELAmQy/d0nWFpB1Trn7KoWf65y8af7D1x48E+lgbG4JAyJkhQzU6cgvVI+8bRjl+MlRMy5Y6YhjxTeTrzB4ONd3HQbjUzpi5afkNZ4N6Lzh4eyfevvhpUS79xJ32wAJGUlFlQIDzxzL/wJLs+/n0pf8a8t+8sipOmeAAt84xyN+/dR0yX7ASk4ZTCH01mMkB4qP5hzihUGshYUfaMWOdPcN2o+FOYOIzct40SFQU5I6pXE3dhGs0YsyBv60bk4nELisOUShkjf9qQzBnLXZ/v6MOqcjacXhQlih2nL9Ubf9ojUCH/1cYsMEN36pWKETLMTOMI8IV5ygajr5G7HCeR79vDYVGh2lwZhLp8DIyHNZGCzPqUHWV8AGp33uZcBTVvOPstmCc4ZPpirjfPLSuD2qfYeqsrHA6x3lQkcKDmG5NjNMHWCYAkGjHkKmJjx0dUiYtWSzxbpUVYdlXzNa7gSwg3246mM0bpewybyeHQw/XfSKbCkeKO4xUSCcJKuMiUc3yeUUukwh4TiiEHn/ckTe6/f7Kbo/9m0FMoTHBlEfgrjbxExc6pB8VXgLaYEutgBK4E40w40tQQjZ9TJB3Y0mHVnNaIlZDJpmT5rff4cJfipa47Rf2kQLFfFcJzrlIshPUGApQrofESh+wuANv/nLlQY8QbGNVEEAc6AExde2lpC1noUKTLhJLvLAOyMBuxdFx9yJaqPl39s6GFJVo9nIt7/thH6dadBFMGrVlGq368lDOaj9d78W+8yp0kFP/zxC4FUBskTjlc+06habjR1sigG9VfoBvd2fnhtBjPQTgm4XkDtGCxS27lLosE6bbyhqDsWZS1SJehTdRXOz8Hb3VG0nL1sMnE2nVK4W5x3UTDX3cGm12+DkaEpV7ASwY1j6g269XDlUjlemG7h55VG0ZiqlQGGEa/p0TWogaOWzANwhRzO4rydE00JjQyW9rGK7I8lb/adzjli4h843xTlZ9dDhzUZMducbVyBjFFZ2NwAMRKtXA/rcjSp0OJ4VbPGYQpZ4pzL3ME3fV6rFMQ1yCa1vAZlwNx4qqfLq5sJc2Jmz6lGP9IVGPrFco5KXG/vr3ct5wKbfB2uvbbnNlROAre3EfFUzcwRfJ1Ob2FBrbPEUXPu8W/sQRdalfGZZsVfMc5b360vylNKpznTyqrNczO08EWx5fgYcoiX9VpJMhbiFsjL7ZNOhOAD2RMk5Y3mwnupFkTYDXgla5LKTePsx7bWIrs5hT1NfDyHK27NxfIQwbVHrldeEw5zdnLQPJma1IGoWO+vxC1/Z4NKgaGWEnowBSC/4N8RIA6ueBqVazBoLW1TYVnZ+RlD1Lj5gSGI8FCDKiKeRodCM60jy/aPYJp6Ni58Z8+MnW+Z/jz0iZ+HSeJLjAIaN73AjR89KcL9qoZtMGK0QBzZonTCU+TJlLcEJFEzyjz8X25zcXzWCMQCHJ74re6a/Pl+b2r9Tm8kfG6WbH95bUTrtU1Tal0Py9c2Rx/boMhq1Bz619FEmITbHut2GNKqZn02OCukQiSLVccT9sT1hrR+z54DFPp0hm0/XYrgMNPgCjqg4coylIjiX5Ht0IvNHN74W/+YiE9cbwMa9Efq9F52tVp09fYfXcg1vEHFGj9Ixlk9OtjpWFJvBulDMa+/i1ugtMk6yQ5C0bHq6FnVkxSuuNR/1/1yxJbW8yKah4jC1YbM2iXgeWj/vn+Y3x3sLe/IS/hP+zVobco0F7EYHeja1hUYCqu/qDgfvdVSxIDNLfORHS3VV1KX82kn6pKPrxYH7HRDeYd1tzccny/EofW+0mZeaSEyiV5pjDHClzHmK1wcnJ0O15gkm5Hrncgiz71XLwdNFLZ5QBP0fdJvWP41w4EXaOCrxndM8rmwaVHnuUeOgRKQ1l2h95Wt6hDT63Wm8gya/x456fhH7ZH1T3R5KIHTuTgbtKP+eUfPDbA7c5qvQXCrl3T8TZeygYTFoEZwZh+0yhWAP98tHp0V8WjYFEmbjD2xZF+Hpx16cWzNCQaiLBdNEEUVkzwciILCrJI0bqpW9qfOOrT4y6fXpr6AgXw8l0G6z14rxdYOZRwpJ6fNAcMUKvlMmUr45TqDP6ZOjaMLKE3/hUAEw+eDmoMaw8Vb6B/RFg/wFjqfuLetlqmKk1kvPFQx5bAKMkXgh3OURQW2GBmSgWhz/cxBzgQO7dkT179/tEnesjhaB0rBS+El8RsFqGvvWa3Ln/luF+w0U0OxzyyOL8/lMqXaXNChWGi4dHfMeu9yYhxQFv/H82OEQK3wtKMMsLa48hdjwHcU0BmsEqtjbmwIkj652BoJw+K2AEYrQlCmmUCfPCIHHgv4IFAY+CGoaHFeTeJuaB7uy+zb5oCjPfaXldEfAoEk1uwVopcGq0TV+C/vBv9XdhQfoSkUzrTfTNpoPKvbLj+EvgwUn8yGp08Zyrl9QwI1A3X20y8APeyeYcdALFGyZRey/79/1IqfwbTLgCVMi0nX94y1vv3Zi0TQ0u8RjFum41yxWCXMtYY8JWly5CWQOGToLsf7HkuA2fmffuHo9pykIO8YKx5+oaq1/l8CZa55oZeLywxHBbWrvAAac30D51oHcoDY7LREvsvVfDL0PTdo4bG2cknYoCr+sv3XQ6Ru8jII8EhtFMB3oguzEPg8ESiJWbzbokumMA9SGyoQnoFBqa6HIY9HU2yUJJaOQdV2+LdDX6vrZBRuNz4jH2gUwsQ7zotSTaAsDDpH00fSUBi8TYl9I5zM5mi4xp9r7D0OsFoT1obPY347SIoBpZWtnY2uVukv/yHFiKXcpP4WP8aoc2rrZhbtSuC8Jkl5JqusQrqlSwjWrDQjE2jTCwwGiX/z0on0+9hYlcNkUuJZP7WWW2YORhwVmtbZiiji1WP4O3CIWtw8y6r2B2lEykhzoJY72nnbcmLYE2h0uG8szYrxuPebZ+gtcs/009SzItvuR6mJlHYOkeK3dXIrmXiuUg3CqTH7ED+jXlVSNPPaTx+HuolyOpJlIn98Ki+DVK8Oj6fFmCBBSsJBhDXbPPL1Ru8qa+0J19wpOdk3hWFyjbPmrzJrGFv+FnH5l+kXriprNrtxBdoplJ4tGvsYTwWZvA9j3SqN4PMGMx5UvJAuSFPymb2SzWu5uo3vn/gOfOxIXMQRtSYeQ+EvKz++NZwR3VbB/wh0h/G3wRR62DA9AE0buhUoCxyZWnkr/oGVy36k1gOlW3APNVqkOxA5GzdpnP6RmynDkdgdiKokDGrgO2GuQbNh11VIqahC6x3m/6CPqzPJVtnyhBwJtdEK1UovgA+jF7jSzxOi14uck3TSx5epIFPDQraJ/Ih/mxgSII7cdSS8DDHtTum6/MiabnBIHq8THareQ+5cPcETElYDLxbumSc7XUaTM2nTYnA34tUmqp388YJx3Niyv6vM5MMYIA7FQW2XGJJbJQxvZOIw43kpb3Zt2hC1/Ayf+e9ayMxDzYqlrNMjWwlP9WzrTO0EDssdevpnZ7PPxBb8BOt/W0TJk9OpIthUrY66nEcCyfdRL3QrHvpz1/qhKnIHPoMejJA92n7l0ZTI2i+bNZLiH0TG2bMnJdsidw9HSWmTdsaBk+eTvLsS6DJFSkYFtnN/eWIEn7QhNPejWxSmNaPlI4Ib70prBaFsA8niWADoaSILMNa/D8xux4uiz30Uf1f+VZsMH7Dk8EnElAB/1m6M/xm1zn14+UfQtaNpAaparsStjokAjy+/XlGjAtClnDHvUdPvvu35Xy8RNpZWBUawS07iUYgvUJZgBN8kcxQoWRM7txBE7Yf17o7r8r18w54DbL2c9x12Vv7uH7AEMv+1ql42HyxPA4qz7p/89DP4X4gyMz2/HWiu6Lr7KL6A7c1Xi7MXj5UDIjMyl39C+N9l0ai+p0dNDIHesF/w7kDRQ8eNHukVbDy1CYnc7z0eVG+kPAMiIne4qcDU9a+i+1zgIBNJwEw2ByICmKOsXPaUkbrzacKAmhax6PDdkiV9VJfCHQr6Mhn4qqYv8CIBd6Rmym6YlWCPVXCK65xAhYnISGJIwbqemnIwwR1mmb2ipD5Y05+5FuYEGB4w67hBmNO0qdewtiFxDhqi4wDaerTBud9RAFetqEQC28SHxgMmJCzUXUUEz98mMDQooMZXVWDEUxmNwZMQy0NeACqGMOMEqufbr0gQtNd/gfpSnh79aj6Ox6VKgVU/BT3WK2txnTY4dMjgaFQUYHQgQzte8efI9IT3IQ4nyb7wVQGZAlmYRlT15SYzoyN0Qhgzh0rN714J/ew1LZD4hJvpCBkNkJApbpdm8+EWZXhe4lovSSsqpZRKXCKbUlLzrxH8J8Sx7X88qUqrKJgRkrbWber/hzQ/cCGC84FLjVve5x7gC7VxAOIfx/eNorAcX01n6xNcpgD7wpt2OtccnZfJntK5yrcODevNI2iuv0FsEey6wR0HFsExNUevsfX7clexEitYxo2dk+RGeryqe4xYMn+YQIM20aQqKnHDg3/IyPFj/mRdTaFiL6eRf+0Z31CpAbs1sGGOvyMFFKHj3ulqEb5cX7Ku2JOfjx2yFdnSK1LLOcJDY6vxhFyXZVyyd2EiGTfsfjsaAoKS6Lm+wr48HINwSlSwId7ZajTUMFToxEGc9vq5So9x73I5x1cIJEwXb732hsdcSIcW79p/pz56WNMcI3p/ivOjwcWb8HXx949wPVF2m7hUkQWuqXRYIC5so3/Z8HyD7PPTRO/3nW+AnKnUBbn5D+YnQYxWnxBtIshmNlC4gXiFiOfbXv9sBqz+pe3+joc6rBYcul5lEzNyp65B2+EL+5VHGYrIL23dq62KSKa8zyrQXZIAf9NsCZsZeqW9fNG7nqznwvPrNJYHuJKD5TQlG7rUS+uk7uq1FRM7It2fQsmzDkV5daBTL/dDKuj8U/V0LZCR5F5duwVticnhhodB+61s1poyYF3o8hvokIzapdkOMm9r0SeDPoAegbbvjkjUd/5jGWGt92zKCTety7iRcVo1I7HzXZedJNYOVpdttfXE2c4hCvvjxo6+9KtA6GNpVozHwSIUe4wy02068YL1MggsfUYSt/gh7jWMiSefLVIviOw6V/IBaKBuJDAlxTKtmBNHxiJVIgOQGH8hnDdOSPdcYGeoCRXlMZniPIxiKn0P/RgH9bi94Djel0dWNmbsK1k7TsbkBHJoRweJEhT7jZ5ArH5++INtbO2ipZefMpz449yPzYbYh02Ez959xK8ayrKqNPO4i97AajQNv1868bYEIP5hmlPKz9ZVtj+wgna/HJfuHawLzIGiGZjUOO4Nri94OSfhRztc3HiAjUvvfI82dZglctxes+yBmGFELeTi1s/A5Yw61J+7gFmZVdly0kSB3W/G+c+lJwD5DeOJrUE1QPtUsuHAMN4cooawIHyY7n0OI9sTZudqyNOynuG5ZcxFdz3eyo96Udut0U9j4B8NnZerZS4OR77t6PXmp4jTnWxXKgNQ89mjGKpdOFCzN/xZ/uAQDftihLY1BOL54UeXuwn14mzu2SY8cP8EKTesK/KPQZD+fXeoAdw4sxHd1vCWdDGgHg+lmD0cPVvbneJR9he0IW+sF3AuG+EtHhtNPLZUmeT/kcx7ndpDM/DdSG7f+3r9iSKydAv4wE124VKfwrxuGVoKspMctZ3DsuVyXFaFejGLju5qVoVZ1MnAQM29/xW3j2Xt1AnlUtq2UJAK0h6Wp+GULoyXC+I96b99BUvLZVsbx7F6igrcUxDhuotKR9m7lFV1feCMC2dU7GyGzHTaDpAD0jZVlANfUjAkOPaY6Xaep1KNp4jr1bV7LV4emn0V++8YgO1FYWh+emWnpODRsNOSD5Q6Z/u9mVrRDF244gi+rwMcpPyTlsOV+vt0WqNXIdXVep5vfCQHNCQk88NOm+WJtea4vCFwNx5/5FGK6LFzrtgZpo/x3eHgrwcKzwpdjFlqUA2FgwyDjZJGvlAaQHr8JXdbvxMJRFXDOnpU1MwDKGXTwFgMI837XwvuseIuRCLAjGFdNWNXXSv+5mSzADrYI9b81IXOKVQOFNxyS0f/uA4XIKNCQ1Qx4AhPER6cJ32Tzcn/wmyhM148oOEub1kweEqEX0cQ+0aIPPGz1hwbxJ5oRm/qz8y6SCRBvZPbPE+yQYNVCavF7baXGtCtlHzBVup5usrYOWNQly4EcBG4Q8ozXrTgo5Ym5djoBF7lIEIVtwyl2Wj8/a4se89pP7iA1sILfLHRgBZAhbJjuvaat2MEEKI6Emzzkl4ELaPuAzXrlueo3ZIEls/DB7cldQuOeNZCz58ADLhuuu+2CB8zgGYDOYx6UrJpEVwkSf9Whv1Kwsi884/RyLQLxKfsPFwgLnl+G49dcN3hG11qt/uWgCDtoQh+UYl+PSnxT9P4uuMGcA0zsMowRwMx3HPVjlG/hGbhF5ixzFzqZm73V+sZpGCfgmtc1m7n91ASqmOND7iBxRRSVH+QdsjUTJ7IKRIWoa7je42iutfFJzrF5yRn6Lq28GJMVKtRXVEIzD1I1FzKju5biWCdk8x2UcJKhG+1TTUmx+iUgGPk2Ptst0UrRPw/cUbVj2WPYl0ftTkgwO28B7XKLXGGX0JZuzJCRsRN1sLBv+h5wdZHQriuqKACCE8zunJrzRIIwEwxEDOKrJZNUbogfKEi0gXuD4BonsAWBamLOufPOIqBoBYqs206NTg2XZr+nOXtVNZWFe+pND08qZSCc0KMp3ZxlxNkvr/Z/zRhO+FQYcwjmrzqEbP8QomJI9sEORhzOIHKOfoNpOeo/YZoTpuDMVi8Dh0kcmo4qorVTnC4plZgcFNP4jC2j5Eg0Re1RTQTHSVjvLvxCKVqhMucF1ILpvDRYx6PxsUGD8R+8gS5NDnWytxT1n2XVRbPESBqY1SMVGYw3ffKumIeKDnCVK72GI4iiyxJJz0lqG4l1XnXAMfZS9fE9O11y+LbHIWkiCygDA5zhi35eFf5HbrXeVi6BsU+guOiUEy/6X2hFwCVQ+6YS08PDLzdRDU8evxbx5dXzT5EoTe7jei65L2BfQHrr5mMSIdIBSa+MLZanAgTepAiBGDsc0gywM0xUXduvy9FNJ8nIJXcQy2uf6jBK+HvaV4443z/Mup/aVJ8qzNdC0HWIsOECgqO7I0A2VSnS8ZagQ3OFszjsKDLIv6F4hDbS1nQgV9cVFg4s7P8P1dDief/bweclHgzwm9mHfyOcdL8pD/xgbhCXO2yQPjM82USUVfZhleg7pl7fs46i+c0/ahobqlURfsaPlFA5iamo8wsGpVVMZzq/eIH93Xbzes1j5kJTuGxtgsIOTy3S+5VZLX0T3kLcnJy4ye7CKB6XysTByce6wKu0OzRglQ35tm3uzaPeMKFn6o1J+EoWpTdqDKRy6pGMmJ4JZKEXV4TJii5I8TuxP3vJhmM+4MiMv4+mrl4LIBIS7DpBbDpQ7s6XuYol48xCossQM4oJZsBEpM6RFHVX34o59bIBtJ/OcSvi49fJkKFbVb8PAz9Y1/E0UuJzAsT26TN8mNdevu+9mn8+VNeX4xKsLHaVq2lk3lRoXedEyxuOVCm0WNHS+ai4pqsJy4b0jUKVffcc53b7i+rxIU2JN7s6Y40xB0woIsgicCBLkxVIQxfaAKSLly88aktmrRSGSlAxndW1RRuf7uadejay/efQ4Lx3yrU3YBxQNxmLjV8vRpfhDclFD+SLN41PViJ8mj6fKrVgzCCNSQGJsGR+Kki6DLyAR3IGdVEl3/iQj8pTGCLlfz5GghSZDIeq3YsOSVkM0Xh/A/hzYAxbBSrPi52YDu7UL68QYV1bV2HVCmzm99FCCqV4g941uawtCEFXZF26swQHyBe4VQIjVZkqdV1X8epxe7zfqsr5fiNarjgZPBzi68oTB5oc7z1zFUd6eBWj7DgJEdm/Uf40v1QGRTY0ye32oa+YEmIr2ae0hHmG0yjsjFJQzIrIQ37NRBCQPKH+nNqmXPzUqoPfy9P1VcdzFVBCAsAdlZXN5rIomyYdSW21Ea0brpBaVQTUVeel9yre/mc4FD9jBcMSKKVlSkAaFwxlwn3XfmAxUh1f5v1nCvX2UNfcVV08nph3VUkaA9xpWG89At8R/z54KhLU1WXQTadirqDgDN7NNnK/pp/Om6zb58mY44wWB8quVUIuU1rmuyuaQKkDgAqlEgcS1KgVOpNDgvDOJ5a1/NstdFfIGsGcR9EqpnYVebgLNOygnU6rqPaEqPhwII+0MjzTOMAoexSe/N12yZDLDEfwG/BunExXWedQvAOdkq1vD9izVeQkkNlAbUMWDqytvOGhPCHu8OIKsnrgcVPDCYWaywVSj3evhFfWsyopeIIkZggD32vN/3Dxn/dPPdOt/JJMYig73vqxVw+yd4zocXTegw6oHsCi8wrj1hFNKaofeLKbCfwwrX/ZSqu+TH4TxwM+ru/Q51Du4OYVlVQkHH8HsY4Jt0E454t2BRfRAQbKTbQvYxUsvdwBhhj4Mesg2uVRZRnGiOQPh05XuFgxOfDx3rQ40Nq4SirSp2V8rPeIzrSf8Sz92bcLrvprRyg3GvTE2Cbo2rosIs5J5uUoHDdSDt53caras5GWuatzM/gyC8HIC9lXyfjhFAgEAKtsdg7JWMSjr43gMGgbdFZm27395gZhbyZ8ArGbnB/WqkaRXGVX0WEw9LhNy2QmD5Bv8cOnjOEYpwr/SZCsXWek1Z6y6DZo2MIFxFyKCWH1hvvqw4r2J0WBJC4FtWkA2CPeg81IxXEHWmfvuXtZlp7mejj270iLGdkkbdQC2AfoRMZQ9SKkBu80M88kS/BYYwrSCzjHIwRD608UikIk+NXJw4X485e6MV5DXoYjnxtXZmEtSiS6L6pBmOgEBFra7Em2Imy5Gqn7ogt+HZwLy9lYHSviTlIjhAOok7kcs/pEDCLK8ZJheZe2BUUsVVvwhugs6Hzrku+ppFHFm7U1lRBNj6GTJtaUy9xg4pcq1zuKP4FcwNEl3YOlNZRJPgHYFrRJgnAKMMhM6y5PiteFw/Hl+SHztkRCWju0uHUb0iZm0bhGIJt9BW380egl3gFVktZWzn8PnPWXm5ddE77z/rCwYr3COsbDwpKJ5Gr8C7VBghNV2FyTRD7DASDNYrQd4s1cfx85S7P4/3MalixeBZRtnjXUdpiozya72Sb54v6s2AucRTxOVMIzWqrbKsxudW7niscTO0Nqz9UCy8Y8ZZmAC2JxNX9bScoms3zDjI3CvjBVnhOV6MswuhIeFq7DW5ZoLTj9JxuNnCKzTBevOm1GJFhX3uryAudkoiFuIZ/6MCvT0BPTo5ZbL3zd8WYUMtL+1lS6J6O4V4w8CSjguwPtTAZW19Wp4kUNOU/1zOX+woCuHyq6Y3Q5ePYUFfM7sTuZ1DtR60n3T0llDBHUuoGHduCv5xhBjlTrRUHAsAnmAcgu1RTr5IKknt0EQ79VfcUMYY7TFydlYOOnocMFaQwQwxUz+ZAqLhKMWDQJQ6R6KrAdE7OkU1H56wFeE6E+QVBcQXqqBoWq21smZFn57HLN7t/6vB1hARAzDuf+CbKRb06qw2CgisWsIoBuS/dc3GrL3DCF54LYPpdiPw+woF4bn/0EVvWOmWFNt9Jjh6uiQtu7dGmg1I1nr1ceTysV8XTsMJCooCOtHSs0guY+BneulOn4cf2ool+wEzGf6U6xPfGauhlAOQKcI7hdf3KDf4B8St4+QT6OqKcR79a/R5M2FhnvU5yLtx1PgTevhqoKkAutQyLUX2KHCMWuwFVKHLATSVKi3L1GySZZTFWlnCFXcriofY8bJpolgm66Wp02bMdsuzUYP5nYB+N+LQilkB+l47fviQhxjaPh7RUh/90s5nsZjdBytK+i+FxDFPKq7HWd7328K1jRmu75u4AVZZEQ2d7nSNrdhmAmsdqYJuXOKhFkvFDpiiGlFt7bPFqtxLmBvO22cr3Yzul1mpRvkgCsWs3sFKTBv3Mch/oTNpiGt5IFzBZHtfgp+1KFOTGDJ5L47+j3nUYYNMon7QgorMSoy5Hh0XVAQa5VWJtIN+N/QaTCQE4xmLSWHUdiXdWqKd61iWJl49ZKDeDXIDBVhWx53rKPQ+NO/a85v5kABbjLF2uhEXcUF15n79UE94WyT5zyWoGS1Tdk5rt2h6zsCjLkSo9G4sogVaOJacYlA9gLp3LtrVxnRdvOOtPfetenvT3L4RUtkcapoWItMznPJC1BA9CXhN4sEbuCL/s+T1xAwKECMuxq/iAqYFGB8nlwAS1lt5HuBc2ALxRe2G1shpTCJ1Ca9AtCB7bhmlUDsD04+bBod0sCN+Sm3cLtOFg2cZjbHluHlUrpiYa0e6OvdyXnYD3MpFP01k8UmnVgrvnB5qqwalbRgIpaHDFSYmmAWIhE8XAr66PFv7TC+r3uHkeQWFAuo2/DjB7u33a9/W4kHWTWCGuOEoWV9oCb6mIKOdmSaTUlcd23kO7jEBv7rGp+KeIIblsTJ0OU4ZaOWeEbdqE0BBjaTzY+b7ZUpjcv03IRZtokimG62kNBSCh+OwTxlLo+dcij6xpASNCG0KOVLUU8Bmgg0dkS3jX8OhNb/D4No0nd6aERpZaR4E6lvkFLZ6MU0/2kEufsPd2Y35sH0Z9MXldSXkqn4AOeCBOO0LV1kFRz6aqiawVWEaPngcnBvWF/1j/0nRi1+uv6HbjrWX7HhnGlie/0AOaExyMxyXgOGI8NNSfBWlEloopaHBlkBGv2899KdSM02rTLInqCC6dctHjcxGoc0SUMl7ymnnnlzjYWttVELSF1yiywm+xmsOLnjj/5d2UCxeLAbDkECD81HhE2PvMChbqPv4cr05YmpI8sGfZdQnQauHuDXvq9DFXSTeoBINyHLqiVWk3OfuSntIer9oVBNu871pjrSUOQ3982s8/PUQ5r0wkWxPf/YVTovygTg0Z706PNdu7Z0gJbvpARKq6lGr0mEmxUHq9JBCuvGzWBFvw8L3cx4mKH4cNd0JSfUTxc2JlmOVI5H20lrt1YxT1rJ0YRDAPmxrj2gBYbi++ik67rcKdyINF4vT5bqAEceCSWFrJYjYH4+9kTZ3m/taTO8JMem3S2q/vsvvufJVFJmGLyMZLCQaMlU2orpQI/vmZNxHGbiN7Ud01EVzCfBeKKOZiurNWIYY/QsHmqnzTSOD3BmMWVRESjEpAlADC8re6Nf3hFvWTFqUxb1uyUlSt8/lkYsWTV8r+ykNZ00LYqSWVMD9YEBmGyt12HHloXkfoJGwefDg2cAzLls6332pIPMktIsFVL9RNGlq93F4frAQdAryKffFaGBd9DQl+6J5Kt66q6N/o3YkAFFwAD/kkvuxT4B9EoFQXHS9Uky8KQqzqd+tqo4wnUnPR4zwoBLRRLDAJr6cI2FUyxHfc9S6UnBLid1AZsqOOYhJ9pTB0JvA3lGtpdyjB9OADo9CZ8JeFBLqzUOwFjL8xgKiJ9u7PLpJhhl9UMISibQxaotZMejx+dEgLwii+bSEcyLju6H27rIeqOlgL/sJ8uVyPlRWB8RDWzyKqVhbmAjZFZ22AQw/2Yi4IfDkC10HE4s1ISSuw9rZbkg6fCpNHl8t7+y8hhdDdUAkB7jJaFM0fy0fvSQNjIJXq5bAbuRpclGGtqeKauW/sI6ZFZkd303MgbmEQsIf0rn3NM45PEEJYB5dLcyaT/qGfG032xn519QdjVRfxj+7+X3wrVJEysNgaoLdEubvdO/irDrPha11jIpBZoraHkIz7ZaIQUY/HE+Jkc6Jm78mQbiyzQ1W5+oPLfO/SXrIcGofQbN14bBDZBVAgGdCTaSDavCRBpGatf2gRfu0Tv7NDUYzWNZvHjBMel6d599sTgVRG5d7nyUco/XdvqbPnSxTfyP8O/k1v0Mj6Eq1HL67u6SxSsZ4vFpkvnZzrtEHCcsTs1TfVkYQDAgzy8gvSJH//2o2zw3DLSezF63EG5p0wI879KMBlEjnuz+7JCOsRk0fXp11tNNArI/BBhWNN/RLT6q+v1O0x8y/NTu6nvqrCbpEiuw1UG+0GzVj2EScXEHAyEOXfYdius0CQWXNbcM/ja2w1D8r16jyCk/YjltbVvqSp6voauck6qrhQyiv5d46ka6ySIdXk1NcsHvSdTb9FGzwuhxllXp65yYk9R6BP6x4eJLYbO6CpPDUcG99OSyxcIoSO0efPprTxJz/dnNzhoU2gjHI4dH/YypoT+Z5g2bGSDxjZV3NXRHGscZvXpgeePBJkEZmFpchJoJ67AsQIIrHWF2/oSU6CtpkmA2RTWc1kzI3TFfRcbpcxcWWwZSeckL6HCBsCcYDfUabv9WFtV6Tu8tjuwSGfPdUea0GhDjcVNkqFXtzrKGUeQUR4jC6i/xYHY1vZcwt45ur2XtZhDMSNzeBisahbGZwjisX+bbrc6mzJlbhWXiNtoIfZv+2jVVzlcEfP5TbHNK2PZBT0vIPG33fMTHLzcD/5Mk50DAxfwCvRbmvSgEfl3ZC0XVbewrczGfGR1LmGu9T/Yn0vDTgU6tMiIS0BFfG5Y4NSh0azuS8IogAu+5UFkP6j7YVJKefu4GGGPCNdakoevtuwj0ZskOdD9DU+XDITW9p3gtwdmmztx1GPWjhT/53OAZ+kWjj+GEmLrDbGm6zXheTMecvfvuwjbTWWwgJgDEl4p7iUm4WySIi/iX56WITD6NaQWvuOBBrdv0uir3MM0W7Td1AEsgqCf0dz72e/9NvK+8V/wJTM/o4FSe+sHHvDokXl8gbbZ0a/KJhdUBAQkGmQIIutIalpulgvdycFs5uor+ahKz8DZC+tGTy9d6K3bnn5EATwJpdTZDuHhcBIM79LWJsvNag/cDVmTaguH3wfEpELMQrYxEYpUQY0app/0FbZbaHwIRo35OmNZrepAjx7n+R4SrYI5kK98ZqHa1k/moYaFFBAcBePK9L7jIIEvyzDZf6HEPkS2wBc8W+fQgk3L1wiadLLZFJsmVawr/PG+9XIo53ggJPcPm9AXt2L89nWJanDZefVHI3ZA6NRGdReF6gkYODrgfBaydnEek6WY/Edvqv1+iyv6e2K/JihoaYuv2lziXXoril2Ia+JAEuD3b8F1IZTOcxE5HRiCiCqs2i7GdF6ol7/ZSfIHDJbI7lVtATapODWtypKSIcFYIXihnXDcIvlZImYjia/OVB5YoBayZTUp3gQCO4z8xNOJ4WVLZXryhy/6hB09+8mD9XquCczRw9cf3FBgfMJqXIbHrEwKyakbfAiBkt/1KNF0w7u2/z8eYL+xOTghM9K5dF6KvNkQAyiXOCfxfp0HrX7VywBNT2767Jqt/HjgRSCa0iS8QbkAHld3GecZhOTKO+GV7g2/644nGu0WQRQQms9R3WBVv+clz5kmTdmnrSpYTAruXZNdSxw88G1Jr4bDz4yHv8KBhSnaqxelgmq/HYEvwF3BQz2Q2sZQ9dFAQuQ2WXLldJn6sfxcIyEN+u/tq/ZyppAg0O0LCLK2wEqieQz2+nhq1+ISgD2yK8Ts26E+/d+QhyTVrxT0choTz5QECw4n2RvCzd+YfIoB6ANBPmuSttylwRDXfNmKzimOZTDZ84Iq8gVNi+sCO4hy54Ehyzo0P5EDvlMwQH7yWzfNN1lFqeT1dvKtrzh38lXJOAUCc3++4pvMXKAo+4iiQZmPTqGXWldNdsTNvup4vr89mLOJtRq1tpTpDT/6+HRDICzn6sULboArJrauZF70F/U0gNGx7v8aUb7y2EHotFHRX+kmqXId+mwXWnLJIW8unoofnqd31eqf4OB49zHvPCPIrSN24sSR95pKOK5eLMf7kBE4XC+biTTUWIp4qAwz5hEOaPbD+uAAOO3V5chRktrtd+CC8KDYjdUJkX/AlvmE7fXi8XHlVDGvjMlJNh/Afw5GPP8ibSVUeq67KxXsj4G7E3vPXrHhO5R5pMVrBgNrnuWfGfZrWpKDBZJCF4iMtNunBmLnmEKF+Dme0fOWHk1NUHEIZ30a7hcJwOItV1WrB0WkOXmLIsArUixdZ3WYd9e1HZ7X1f8fenPS4Nw0NGwBawKj9+4JV9GLblsVY94FWHKMPeSVgCypfBILZ8f+o2/zKtkLhCY2/RXBdYLiH1AHPOZqzo4wQM8xtsoMrCfq6CO1uUmuI6kWGYAzib0IQD74eIbl1r2rCe0ffADXkut/5bWo9vmvdtoQVDM1LnY39Rd8hsPOlxAo5AGBSFDd0KG212BW+Y++BCw0KGM/YpwpUL1pAqam4ffRDx6fu6ChPTejXvvTWb8qz1fMr42CvCQD2IUXTkZNr3WF66O3o+iM5DD+Xikd7KDZJsHwE/lskB0a6a+mvzerGxfDH7sBNceUQjj5hik10R5mb4KOyqITNEMhxVyDx6RwjU0y0pDFZ3XvmttLQUxYbN3KyMTwEPIkfl1j4QXGtofXkPdO39Zh/wudb31qUJWgIxBQDOVdPgzESKvx0wuYBObbyvF7j18CttUTgBlwgtQpMe8xJRGCaJIKDEb7YQS2dR6FWqH2eo2O4SUN5Qf6UmmwHtvpj7M6fVozmpg83ziV8R8RqI6UVhB+XiasVxtKiw+mIJ91GTDzIa8r4AlXVAsOeFfrLw/hH41R41aJngFMCgjsp6hXpBH71zf+kVUPsfH9dhdOVjgNOwwPTSFom0sx+qXtLYs6ggBcTDyZxy9b0Ae955eW2tYBZZ+DegwSdHY4HG8jqml/MLfgsTLGsYTMouEgYq0g7QQVG8FrhRQOAC7Qh2TgyG2rEloJJwTs6i63qZaRJsUXyaZvp1AIVeHmwbNBk0ciehy+DEq/qZ9hEstpN8rslOll18ddvQU5CqQleDccPi1jzZ3Lf2r3TxreOfvJ5Nt36fe8VxnxBy3SoESM3wTwLKAYWq3bsinCeFpUrv+7P0iDqi7sm0KiKu3+ym95+kNPZlr8OrxS0sG6od0vVlmBQB6qpb5pQFDTZPQc0Gv6DVuCfpt2q1r8EhbhUxyaKUxSG4VGNpQ6zH718owoPHrszskHcTwuu7HufmZFo+BTEhHooBv7zsIA1ZtNNML6+zdHn/yAtGsC9e570Ae4pbjT3Jv4dojRKGBL0PiDnvzmpSpLyPuZwe8pb0X8omm1Mvel8ZKMigN3ZrtwkXx93TR2SNsel+BaCg+MxfOajrk7mmFauezYGrnORJ8sKx0qcr0NKZ20HURfLgrUlP1eAp45iZkAAQ5TkThSZpJjG6QDfY9c+a7y/7ZyLCU58ulNjk7vMdKMgeaTjH6jMvebkPul6wc+7m4Qnf/4b8I6ht3ts8wuSHLUlWbhysOHzRagWEGUmtHczKk/0wVBbMD2E/E/B5YwlQjCF4Vzukfm+8xuxysRW16gMyZ1FUvvZwBAZzdwA8QxCtVF2os3gZbBYO4FX9fDVE+1EAu6YdpRnRe52zyiocuNfeqGfKwyG6VJrlECvYFGjwq6U0qDuxNvYZYbVAFQR9+REM3TP8Vix8Xqs4biHsIhp6pJQEnO/jJc+I7lvdqHH8Ruo7D/c80TZ66STuWJnpPS1oxmSTDX8bWqdO2XCtc+s3tvXPPpEElWyGWThrPcevPbSvUmsr/1zXdZ8WPjLomo14LAhHNNNGubovhrDW8W6/KXJBuPOT2HG6KH5JPfpVwqQvTGkc8LoYw/8mxf+vH+YSPnzNJS2nPTFJx/Y8C9pL2PTxl87lPW/kgEF8EYrWH+sUe3znTp/RMQda+v0nSCLsexMlHn+0/RwfV5GiYwJN1go815CDebk5sdMH9uQHIZQbrd+Dr+B5lgz8v2BTXPMyxnR97FXixXEP9pH49/5me4LXGqIdxl3tzKSjXin0ggoDrKC0k8U/Cw3E548NodL6Qj0UN015/5KDuji2OBBJ3lR4Am+RjoEqlAVsHlhM2gPRDaQbtKSa3DU5hIaeqvOT0RlLflQjzvOYG2cKpXR4HPoaIkVy8ffj5BTFmTz3x63BSxd11efR4VO3K+SxWN63DHJyjMgVVjb78WbFKfM5xjRFbepkTRjY6b+5hRJbaDkeObLIHlsZiNm7/8+rdEhD79tsM+dnJnjS17BBycg1T4Mv4rGFcD7BdtoKD4b0O+slzi4VC5rH6u2aR0Bdu+NvGaMu7dyZAzDoPVddwCel0Csmh2Rw05KLSq1H7kEhwrYpm5DVeq3y5Ef7V5WnNNiVv7Wbhjl5YoODMNTkflMVSZ+6c+8qfqv1uuUiPggM5vaE1FmPqZVn/6B66WY1tnLmWdFlhLWoPSlEoDoJt68ghG6Vr8qzrC7bHi4rTiBGHXHZp1Y+h5R3cSXDfyMxnKfA/LHwtxyqbtn2As5EQ6JKwFYhQlFygeQ+mulICQ7wfgkIWyaf5U5zya/uhVNTI7h9gLCOAPTGjJ0pysotU37nrAKJZ3/++Fq1yhjE/64igGOQOGYtPNbuWGNM89L6hqQhnK4WYKqhFMm8EVw8p9H2wAatQGGottaqGig0ZNxwlWNdjkNLPWzMJpqhlweXT9Xy6VA16/B8X7x6+y6pJ2ZBuYplgIX7TiZmUElxyIBUYe66DFbg5mT1HfUmyOWhT6jfThWJiZru/FoVCWC39TF1kmAu/VolUqhxocP5+6vQyG+8/Ha6SLjnXguEwFn/nWpKuOtfT8XXLjb9Uivr/nIK8L8sMmVD3y9KHwFset7Erq7T/MezxB/RTKi4IGi5ObIGBG/h2P88vgCBC6miUC/cuS49NDWbAT3i3EP1CFuW0qcC80pVeveLLWwCH0NrLibNBfqM+tKJ7fhErpgUjbRM2mnXmwmpk3reSWq02+3CsAX4B9Jm1d2PtMuxg8hRBxhDZT8cuucs1w8FGci2+BKLg2sZSaCB/COQ5iIBbCNKi2CwSf9l420SHb3ewPf9GB23dXQzXygG7cxBznc6RyB8JT9JvsO6sRThBytf2pDaO7yv6X/QVO9MexmeOD00mxIBUmVfEKfydhblcItV7v3gz1R9nT37ZuJE2ap68tYxOdIfg2EC3fhhQHbiNduvNPtsvWaj8RAscx3RBnZNJCHtNIU3m9Y9pN07liMa5pR1ikA/kh6T9dGs1Rkvy7u2DCaXmlC5ZgD2vggHikQOJVFeSc/1Dg1x3t4ak0vRnoDvyurmAb2KXikxP2pvwu5KZC/Fy31VT0GO9IFBw4IqaZHWnt6caTQMomRWOhJuqGgxqUtGZQ1MgpAbhSibcl09NvCAjbg6trM612fUOM9xEWecTT7NseLgRnANFvrfaAEnk3BCAMYK63fdf4W3ZjpYTufn/bjxdu3iUSNB8DghweutM9fykOL0L5vvJ+5A8sSM5QrqZ7ZlA2YdV7AadcM/KZ3t56mATAIf+2YyF3GCCXYv3ar36Gf4JnY1VxCDS9NJN03loXISadNCxeId1RpATB7ee9b57V/GSX2iL1Z5Q2V1uMgRx4pNaVIrDHFqXjuH8CSdoCUb9lgmTiv0QqcDZdYWDDpu9uArQ/1IS+k316VkfMaJxABXZcRYOHNqRH/U/8s4SnHMsuFhNIAOT8hONrhi2zOgYpxZXtnA663UyI2tF9oj52Tpd8dMuDzrG0/Suj58oLl12W4x5bKgdPmeVGPeh6MBzJ9FVE5zHscUN6slLrxFCJSQCS45EtVKowlaqTdiWghhRLrHSMFmf9I2TTJNIkAbwFyIuRInceRl/UUyIBTzheiQNEaxRjrXVYJ92r4ItiYabycpmEbwlMxJDVj0FqeG0t5LzckfnMEcpN09h6MaDqtJUzGXdBwykY//lHwBqmmoGPRcZ2Jqtifaa+DGipImp8M2fysLV59XfCMMmv6lAtYdHV8ec02u8K3JZgXKPPFnVZ8V6G9W/VYQFalfCKrXTUGNm8usOd8cN3Ny8WaQMBRLOBCPR9gewGH9LtOai2iXnLIGD7lHvtiJ9MssVje+aPS26d8jllOS8mVeb71HjDO/Gh50olTmeOL1/YtxzW6zW6IbevtPCTsneNAD2m4Y7Pxgi+bUip8nEcKDfSg84xz4BGq6WLSkxLoZdnqkcV2eK6XK6qukDo+c6ft+7S5szP+5sPgICDfnnOhiFZD2eaRCKxiNIJ/9g2jxG4WFAJ+FX6KtIbPfotqkEsnrhbqUqmCBZDYkJov3i3v83iC8KV+H0dncDobgak31N6gBufJLBlGsttIsfGFQomn7eFmDyE6dOGUykUfdmUWUXMQ3Av38dwIk+trydEGIy9IaA3cxZZ4vnhU23p6h+Y1MQ6jyQqE1lFRfVZx9Ao1RkQfa+/ZiYGxDYl1a9mE6ZV3CH5ZUWHoiiMSUg67uMQCmta1Lpw8jPML5zl3+yIg9LpZZp9Ax8U+cy37Y2g0cmYYhMPjjiDNE9UKkeNAA7XDnC69tlHYtegA5qwXIPYRTyoQkR93MeRau1ayedKsQBraD5Kwq8oLiGziaXOllUxevaoBjKgH86QyiaJaEVJBUw2u5F0OOcEkcsJW1svtgZ/myAkF6vXtL90d1IBSgGpiXo86GUW0uJRJJjtkva3OxLKzhbZR5LMSXISuTo1SGKddpu9vMQ2ZAGGNZWtpUI+4EQ6KItsvU3iwxSRe5Je2yOaO4GhOQC/xDVj7heWSYGXgG0Ci957KBSYpBxfjhIei/8OdpzzcUW1aFnPlhn2VWvYkcp4XFd/z83/yDPM6K2aN4tQ9ztUpwktfhur1oFP6sIv7oKznmz9i68lV5+DB5y4Xpsf7exN8AyOB0JpSjF4mWhXeEa5pAvqTl57M36BzEsLU/ArR80Rlj9bO7QmhZjvntEdKtnnb7I9+OLLhcXD0sQsg0vF1mqudFwNbNocY/2gmhDLcLx6ttEcRiSpOGRvbXF3R4S0Xf02x46VJpmbSI5AihbHkTHs+OMfBRI1zFUOyq3ABY3czTcNiOd71OI/dB5WzhRZdq97r7CD37JkDe7BwLN6bD8uD2KXQRmYWGsvzdVRToYIU3DJDua2DCne96c2sRl/0O8FVdWiGU7/B58dWN96XcEVcseFjC+Bry341f5QDsr9TL2FDL+L4BG+okdPuR6t1tuODIStfMgRGCDi2Mr2ac2So2fs5YWaEuEbMaaOgssNCH2PfXNFinJyNUVkV79bll8BoqPm/jWw/1xM4VdmaW2wKfbcA6/kE3usDcSRx6HU5kWpFd3UngPYxK4QPqNlrl2u4v5GZcA7+Y8OL+m64zN9FQubDMq2JvkWwRldfr2AsaTVE5utW/mgjUEaiYzZI2jN6rwt0nTwpinqD3Yik1MtDveUeJC2LHSbUaz951FCgArMX0g9vidgGqCjJaLR0eKkFUKnnjYZNaFW0N8MkVt0utt0YqZDKUojW0ILLwVPwE/nW3vVrd1nbPT9jzpz3SuDBiGmJyLP9X+tvBWgjFSytoH/IxTYId5/OeEuKMenFy3/ncKgMwz58dleiPHTa9ngxg6QwWvCW3lbaAnEsyt1i4erS6qNIscxLpNEg1pqSNEu3U87u2cTIV7Lk9WrXtgr2TpwWVaayn7yFc5yoVrAmDMltM20SaTgvWpmhcRWjiupvW4ud33xKY2DFvly8azWEBS11/vHP1W/UzNfP5HYJcjo6eX4ybpCq/dz2BJpE5zWeCVEiudYAGPN+TTqG6K2uAe8m9Np8yopziFf1YruVaLzptdI4ArFADPmflbB97sCLb0lag4qffm2rmur0ihj5zPLyrJ9wrzVoZJ88l8tSfdP/DkVPudnmvHVZsHF1IFvBjY6kcGGuCU2/VXXrJX5yvS6Co5irHa3aCEajCt4F70IVA4yPWtNcC0Tbexi4qLKdvFb6w2hZPRhXkbw8BwgaEw84c5wbzZXsH6F8RUU1Sj3xxlOMI3hbi9Rbxma7UQ5w0MsYLIYgHl3+PKNFda6i85j/x9mxH8Iw5McRyvc7/+1/Nnb8mHRU1Cb4LVj4ZmNyeoH2pMRL6jpRWgDh7l/AQ5vaWgzNSK52HBh5AkuZ3Yx6Ei8Z4BzHxwaO2ITsH46az0VLagCM7spZ0s336SwNE9/6Od0pcBl4pCe8IHCK3NNfo95l0HXY/5fqX1M5dKNGBHAXzUu7BZMleU+DJE8ZgX4qim5EfjG9N8/4i+Jbmaw5jvLrobuRDicsRrkrjt8yQhl4JcED2afZqVO+HygEH5oAGDnLIe3lIYMXT/WfN2Jij0vy/+mlcr1H+YVz7xwuDFCWFxq/UyoXd7fsC4Vy7OxHLOHVBsXzOUqtFZAjZDFE1BYY9Ax4NzTMxS+R3YLmYWPzFmhZvsdDGUYpQ/Z4BnPAN/YKnigGjbK8i2YFdh5u/n4aMxuCku1jsFWuCGYtGhU86+uoGQKcVp3PP0ok5jn0oAvqL/xdBwvINY9OUYzcMmZghRXlDM5MpZNCaSKox9hpvMOyoThJO42m1OIYxRictcYt3CX6CrdGTS4DItZmX8xhq5lPwVniSc6YdQ0JrgzMLieQdit2yGGkz5DMTcWb/izPaffVA7Czom+jdqRE1JdZsdNGtE7VADlV6V96udEDz1BvKlUHSA1pWwvKgo7NMunvbWcl+dM4GGDI6W22EWjyFVM5ErgzuII2ef2emwREZFP7b9O3TNOoKRO6EJy4aK/g9nDFVnZ1FgijuzmeaKcqcWxPWmhlOAk+8LKsTqbbi67oSJAAf2jNwy5xFNsM5T6HLkUP3ZEvHRvaNA4ZuOnU9nD/+kTcblJGgQCZap/lBvffJVtn5Sn2Uv194DV5kydYcz9uEnbpCqpmpBX5TMwRfbR/6E4FwkHGA1PqDubuAGS2DEHrJdEp2kKzn0cs2tcrqmIjezWToClyNi/5Z0cIhiMLdazANQq9N5QeFhrnnN67KqqNcmWTzybfR2NryRxYIamp+fzqTC21clK1MXEBsZwdbAP/dXqYMzYTBdQcCwlROxwr41QPu9BpMTYng7m07AFm0JOpEpLpu5BhSL9PteynLodnIwTdX0BYIL/Ihw9Ll5KV/gu8eHSwBZ6J0FlZRFQouSHDKPP3CVvIbpSY0ES2Ot8NvJNorPIHHEoJHIVchIxZNZpGfjpBqReylh8nKfk2eEFohnnnK8bsk6wuo1ihKi3VR77LDZ4/lhh1x4nLp0AjNE6iNoYxDHMr/jRZGkfi4cWQ0h1zhBzD6J0elEi6c+fBf+ZMSCop4kXQTuQwf1YjQDY1mToeNhFHS/itGNu7XNOl/SIFiqOc9VnRUczjLKLBDB4O1tSJgCMzVc0GM4jNsZ/s48WaVy0mlZpo6OJTZg6tFY4cpVwyICUTNdiLB8aTgSTnF1fZvvs5Q0zQI2jDmKagQx5+LO98nL7qVpklyVXbZjL+rlXOvgU92ItrUo5KKIj5xaulLR4d7Smsp3siSwQ7vyvcYxA6lbdK5PjL441QLsfSPpRFqeFBoM9dXNtfIUfFzEqcor03yuAB7Nc+UwMLznDU3oDj15Nr/cfY6RdEvP17GlBzAv/fZN+lH0AbjltoK7ZIsPHs4Bg2qLCZ8aAh1qFoOFf8/Qubp72uzn8xFKHvAGj2ZoFj0Dqu1YNz4RjaPTQtd4uRJgPJHZTCl6kCtE6RxVFuQASJ2OF9r8BM7y2xisf+NX9sZ3kyZOCEOf1xeVz9TFAbjyM7DMQE7dYaeBPvni4nC7nny5qj3uBiZa9kdogPYoWpPa1uuungjFRx3qgDoqLhsteLjXGq1ovECRs1EheDMd1twwadb8RHnfWP+Q0+cyfz80O7edM9JOn9BrW/sCeLeATxTqz88GW6sDnd+ccEFQSiWxa/JvM7bmk4bKHd6ecAXy4+OJ6jQ0U1TUd4x818nSRj3pQQV7xMrB9t5YP2Wi0uMMxm+D8G7Nu941uxyIz02qnavxL2TQMkwZCYjLSIURAcHjXBZYG3rAa/FZ7znBxkYzGZEUkt9szDbUmWIF9ezbIKGoq0yLmh96XW5oE9ngEhipzQUshRQQKrN09XHsF9pYX5y5UoZmsWY4vl7692s1lKZcowvKKe4OyIBS6ooflhasqFxK75RdTWOICm3NMTLMGgDWTXE8GgeEsZ8jue5e6wmyDmDXQAhd57LK5cPHha4c3nzBRwhAOgY6HJ8MWWaJVzCe/tFyf0Iz8UxjhPA9ftpIspIW4Da1HFA/pNDIcMs5EmZwHs4ja7NwYTQ49+MQa0uOJ4S1YzLkyJGQTtlitzwvaYrwP/iEdC3ObVwZJj4YnHm26g+du8aG4H5CV/Fkq4MdiPo2psIqYciu91A5edRlJq8jI/GR2e1ive0djXsgBtafYQlGCVjf4GPBiKAz+GvIeqVWLZSZeIZN4C2kOrTwO1Yxkvr1+nZRewYCiHZgyzIsj7dE4pfHofVAPNPaH3Ivcb/et3Ym+37jxHL/GaR0Pm+YCHaUoxZT03OdrKWxgju2Op5/9PBMjgmrNG6YpJ6PgUTuuZXMZ3CTyMt+F1cti1w8JW3Dsj3KHOOKEfHCjKq8W6dfjSZKfIFgis1O7D48puYASmsXrx5MLzpYA2xlWimj4MtQNxHnxaI49m+vsHOvEfL+ARasfoHXsCPp4TCZmgUQuf6kP14klkfDfkRxXHiKMbGS03hhMxeoo7SJuVxUbxBuQ5OCGA1HLbhgFHgC0p7Ytbvd8sqVnD33IWTClm8GO2vrWP1SiIUQd98fAxMfF3L/eLUBBuDqFTuny7Z3WGj+G3nyoffqAnsL+0VSc6NZ6BwAJf2DK//5rAc8nQDZdEhWK0hYma/FK5cOmQuVlE69agiuv+wKn5RcMo3aOoSNmtutjy9Jbj55zWQYSXIlRVu0ZoJsn6mK1z53BE6UL02lkqiPATN2ZfHRBcOrIhyNl4jkJxsbpTSwnj3R2151xrLmhnBYTkCIg/pVMT3j4udn5VfkiSpR69LUufemVjqp1JTFwFgTlLcYts1NfCUDWo5J729nbdrbq8qZDLZmrHXaCM+tOzQEGun5InnP5apcQuUzuhnxUpNWvgwPazBFKWvtJtdnwPbTXt/KnKDQ6Rq9Po2dKDVgDFuPRMmr0WOAE+NxCt8O7uYvb8cATCb3J49YIC1OWtRVwvk8B6qhT4YeCxfTgG4MyxKCJ96LUUoPB4PsJpUrXC0S3FuODb6fGdmhD70BtIFYhPEnbJTp6Rx7ThpQ8wfo73WljwfQAX+7x9+eohFHmjJuVGgMsoWR9f+3PfSI2LXWYHVP/YY9ua4eqyBdZ/RO9V7XJTqh9i1jawURSb7jsEWqLmuT8+fy/adJlJXie6v2mAhWgoiBKFyfKZtBQ3EcaPaElpMzdFoLbiGgd+Wpmgnj5HnsWRF9sUZp8U+31FXXX2OLwHANC9WMslkM3cZ53Le3d6hOfbtoMwyVNVLUjFStg/t1Co0jWJHhBnMLvMzJNAtkAXgR7juLWWTMdlvKwHCgq2UsRmoyoNLTErkWkEr1xjg8Z16TBMTVZbkGRXsFcZzTzkoUqhtNG7fivxi5DTqy6up8fzpLltsTsz7irgqKljOX7u/rCy6kt8AhHWZIAAD1Nn9mnvUMmw1Iasa+1yqAx6/KbifX+p5uAxWYdLhupJ2OVtnvOR6cpUhKifq+nqDtv/beweas15YFbpASsBe2PFWjdlI7e2q5u1KSy1p5MOAI0Um64WaNGukmzyD+SGANriEWSmcIGolxSq6PPHcqenBpdsTRmA4AC4ojNvm2EmqYTmvHk6rZiPsYSskWTw/5h9obVK5uAMlxLBgY4C9j0h+VkG1yqeWSxMgOGqzIVqglEEaJoupE+ToTi9aIQel4YASetCqRZglTDOvb9Glxo8vsRV5AZivBmxl03WoJQ1bTgAGwoHwTgOEm1iMzIpXjBanfi9h4B0hFmsXr4Mj9vRIlJU2G13Nc+xbYAouQPXdVqQ92TKkA9tZeZ5DEP+oHcFfBQy60b2KsqUS07Kg5ETIE3cr/Te1HdAR+ck9XCFzSlZWT7YR8+yQPkyRlbthDf9l42zECX5lkr8PX37GCjwaf69rO8kB9Jh354dSLOWAVHgp0+uxlDvxTuO7qLAr1aIhNlcedduz+x1NdlhyW+91SgXkBIrz//w5uyS0K+XS0gpDat5l8SaHHpTbBbchWaVL67BrztdkPV73dlToS3CYhid4ScN0Yny6qJRC+iAM9LC2EY5b+1E6BJsvxVfTKGJUrvk4By1QS9RK+K4NxMUx8Jl3L+/firIc4BIctw9OVwAMCYS14sIcrWjL64aOvm5h4g0WTr/9wC+ELx8rKUUBAAnO1B8JT4A53lfq2mhox63AENcNEqA/SrqIvpSOCpJST53UwgJk+G+yk50/7FOmr1o/BEBNAVMfsjPQOVsYmsT/kt6EJ8KXj2kWBNUVofnDXuZWjOIJtHLomrDkySqZvUZJS0XfuJmaLC8FitDMDtwWa2FRePJbLBQAeFt61U081+9SPS8ySMwst4kRH9uj3LH5yqsCvcbSok2Frjk2Fn1RUjcIqJUW1gkHiTrGOXrW6rStv++aHUTD2yb33HwHDFCvzPuENVDA0qdFfCHX5dguP/EyZEjiP/6vCerxlEh3N5MXYFOW4B360mmZRawEe2WqKZ7gsridhcmkVy0HzbPJx+QSruYif1YOuBF5nqUR+3NTxpqbc8AA2sF9QIRSlfJE84uME3ANTcYW7fOmB+JAji8Lg/q7CKOCfPyBDfRWKrfT4dZUL59zEH3oQm+hgpYjtr00fgYQLmFp9yDpBhiMeeI59t0+82/m9migSzg64OrBRBYcyxz5xidTfAI0BxpxbCt5HJR+tkJmujBDmNCDgIYMcB9KSa+Aq1sR+ZsvcYDtVdaEkWi7J6e12aNcj3Ffpmj+i5T26AFzaot5mgfSAtfmW5rjY9YE9ofB9deKiwURv4X7NU4tSCStbQq6vsDNRz+c3t7cROXwWzLLXzM1kzpYLeDN+d5mduSBzDmIDAaxl3Taw2/pWE0i5RYbe1/M+fOpeXIOBv6AIudCiqkceoZVQ8dYhindTLVonVzLSzHG2ss3YUbdraZcirTL/kVLODEIaSLR5T7JSmE+GP7lWi77KnyUKV9M0WwJE9b67DDG+1c+AXvKZ1yp8yGTyM9mGIZIsF/TQKBq2R6FxtVPVgKQ7MeVQ22F81AAb4K/dV2WHPksG/SbYuK7ZZVTb/lFe7aPJ72H+DjwaMatBmwg2vUZ0pJ5FgmkNuo+wDmDBF9hugSyBJXNsYlsks0IvxK3uia0dEHPT2o4Ls08RfuKb1/w13pD1PsxI/O0KTwH/qeJEjev8Auhn/4aAfP7MbQe4QwDvSojmXA+GjJaeHG1nKl9oCl/JrVSOfbJZWwl6iBkl9fSxXl1zAdFh0+ppcIDStL4aNI7U9iEdPKHZ9HaNaPPTLPp/lPdJQseJwdB4uucLFJ7CPUwvcC6RsN40R8ZC1gPfrgNfl7T1JVHS+Z0g6ney29v/l/1FHSfrAxFBNdxsYc9nI+SJueafq5JMXwp7KaG+tEgd5ukrVfJsfi2VCsl6rGTQxQpgTmu+rqFOLt1ZNTvF6HzRWbCHmQgqACeZlxjZqmy4Z5tbeuB27G9T321bfQM3aHB+DVqkhUJCduKA5ZQkzbU4FWffHZXs0q8WvWHHSLwEKFJY7LFI35HKpYFiVg6JGYVKts0RJsTZYuDYQB7+nAylHzYXoJUx2j6zI3qxCQZ5usUTB6+ne+P5byFs0lYnRW9ZAytOMAkPoRxZkQlMxKkt4U0iRHdDNQ5NKl+uNry4u7IllJWpEtGWKoxtZ6r39lavZFcc0jwRfAnQ0/ru7IAlg2WFp7QELfW33l6TFrQwOpXaxpBm6YXQu/NGCsHA3T90rRrgTwZcrYsVO1QTbs5tUxXIXQm91owIZBBhkZ1vknct5OK+nKVAV8zVsbXgnxtgUFZlE7FSWDYWt1zDkogD1OhqQmLX7eoJHs5ogAgis1BTizSeTnF21aq+bSyFLigT82wthWQFSsTHZQkBigWKYOae1b3ykJhqTRKAlIujlFJthSQdWOjUEqXWNeYtYahTyKpaB2tszgLo8QBjVDuuoLOSCpKQe91Ry7WazKPSlPcD1WW1SKaT9MssfKEP39LRjpFOlK0tfFfhu3b2tsMi8w6UoHW7WrLeM19faZt5MZXh8nperayhtQ+odYKedM2w3cXod23nIy2CjG0PcMM8dO2qE32lCK62SWunmcgeeg5euy9PVI6iM08bCgQ/Mt46iWuuSWOAty/yxzM2HrpwIV0XzX0b1FcBr3MsIswQ1NqPrYxB8JNERWe+VjN+6kslLYBCSneIoCYB3+r/+JiHnsM2QTGBLHyqaUi0usFBnPQh4h8s4+LClBlDbB5k2uvZzCoC69S4KzVzNK0pw+4TypuKJBzWF9SeoPycRJZlrBDh1jKsznwAuI8E4XNxHWIqlROY8A3YWCoJpenl+8LSYOFqpbFSKiZBDXp6FH6EPgMYG/3S/p7EZH6M5We+88SqA6UgGVMANcy+q5HY+YEDIe0BWew+PRKC7nvXbh6T8XMPTMrYGobj86UsdInv0QJzGG9lFhBnXUcPQALqzl6Uqno6Hfj4GIu7S+E0D/spnEVW52fOz5qVOuGoJjeN29TImno/TixMF/zIktFvtx7WO8Ryl7XRJ4NT2Mgzwzp0iCxsoRMo8m2MqSUMYEGgOAU4mVRPybM4BGQhrOAGM1g/l/dgTyFsXjsQjofaJ0NNvDOiR4oEs1N5CgVqSo1GKFSiSidDU9bVA1SUzHVcYz/a2conFOfKM9pJGt/8I84IQdDhN1F6/v9eJRhhncKWZPKU4J5jI+7VG1kpe2+Jo0yjOfOSrScriheZkyree6UZbxWaN/gexv/Sm1j+R6e1wLeGse6xeWNJ6gLIKT4QR8QHV0LSBiqcWQ02lRflJfyLm4bO26iRCovIaIzYwSE5udqdyi4GnGwAmqU/+CtKRKJ91SFE7apz1lb5XGwEpxsFn4+Kv1Yf7R8OfAZIm8a+kF8YA1GbZYPNRcHWsRRjpsjpJG7oIkfMK20EhHNsZEUJcku+7G/iGGVjpD7UAraJzZBKmebekRqP+poamDYEz5dUf8siRDMQLoJ3k+ZzGgMMXSfR89VZHW+828CPowYUKTcFDyQMYsz7jAfm0FOzzMZfJsB9CFaYcXG0mrFaV3MOR0W1brvYb8vw8NR83YXd+zEs4u9rtOpYzE8OkmAih5L8IhIeFW3atBF95W3kGjwIpWTlQirrnW1cZttARS2AA5DEhY/QKjqfGcC2uyHrnSVaKKBGmXS+W1XAnpNXRiVPkQFrgKjxq6RRFROHzgFjskhSVJ6q0qGvCOriKZcpGDLbguqwDPqgrfOnacU7JRZXFOP9GGctmRFFtEXkW2ITS/G4VF7i/WxpI87BOPpQKUcIutPUXb/ifTpbNNLHjykpHDmT7Lm0Mcjx4p4x5uVeRxPP0TZjhqtK1Yj2g1hKbXx/Cg/m0CKGml6O6Uh4Sag7hj3TkQIxbAGdpnLTILM2IkXxkOHTFtLTrvc5nwcz1bnYdX1MtbgU14R9K4MucFhLXNA7nyhEcbbGKJMED3AKnWJMzERdcCUXU5caePSKAu9d11pvrksDHP+yo5V2/df3CGeJ8xr7ipx5ZxEG/NM9BK3xaFV1XrdFMdHoDM2XGDRLkhPOJquJoPe6JEl9vqU2jVitIDEDtoQZiKshH1RU1M25Udj1SwOaGJqgyFx2rx1kQMo5rHnursVjZi6IjsN5Ibl8uvq0/5xdXCt0HahSUGQJDfBslwns/JqoplS27B+T4S27dIfeevcpwLHNzXOwftDB5saBmv9JSlgC1DAAxVy3ehI20+fCbPRXaKFOkR8pLvB9L6ArqwYj/EsgSw7zykPiH1Ys7hG1tNrcf7ZmzNfxU6HJlsPEkl7ccM1J+lNDB0dEmvH+b08cjKsADz44Ylo0b8lqeb1+jyt9d3AQ/CWM/WLrLsLdQlUvrAk/WB0aolzwsxQh6ozOLsQLOSkTy/waQxwftBCU4y/JepYm08p+WNv8ZkxYdHAmksuE1M3emh6/ljBiwtix5f1MQx/L6K+b2kqUDP1n39cEbU/mEi0IJ439Zmkbd9LoTEYXeuRVlNe9tX+KHBWNxla+NNdussFYwlgTd/BKp3y+lrdQSsLjQ6NW8s/e2i1ygXzE0ywS0B3tYvpqRQYxT18wnBl9sn/5hHLpK1QZMTePYko2/FcjGazjKiiWfbnLqRXQYgjHaq6Pd+kZTC3lAKLfwpPtglSqbkA1ClSlOn0sWKI0CemsjXif6KeKyfbYIH+5WT+Embchtgln8jNFL9GNfuLADkaCBSsHe8ldqwXdPRTbbCEixxX3wDQqMKvCW+OFMQaGIQJ/hxwNE3neM+lZl4fMjoRKqUZcKp8j9wK/DO+tRD2LIVoRG8CrjJah7+V8QuEeRur2f3FFlgrBwBtC1z6coZNjrA2OcHXCh0I5Lg25SffrxNSul4WNU15glczZ4cj4302YhnQIb26v8gL1w3Usv5YXoQZx5F2StlKkNDiJKcwlapnTSVoCes56HgzvS2JfmfDUjBkh7NRwrOYOAvA2c48fGPuQbrfoQx923Ci8k8B3mIsepcW4Fjv8oaDf+LgGA7Puc+6E3t0IS5KW2M2fCqZwyHsHCLHVI5DvYy4BnZX1Q0E9tykrYoE+ZJnUWy0aHfxBGME0SnXvmt0Xvxwc+D0DJwfnLn7YUSpRaKtaMUKVl07cajqVvjfHqRC0rEHEc3xcsuUybngxacb7oplRFjgg+HHXWqZv9lxqu6cy0E4Ny+J1+ZjdmswcFfIB9VNBhT5Lr99o7sKyg5VEDplt5EViqvzqDSNkYYkkMQpnPLx7cMvSG3iM6TmF0e/Zx8nzFnVpFAVl6TCBuzaBWPEkUgEKDVayET8Fy4FnFC/ECtERqeF+3Cwt6jO/JjKi9oEyvm6U3brGB+T+iWSXVgPFqvi5ItiPK9y6EdoQPDJdz4ifMPEL0GXvO6AEhyZ3kixsgMpWbCjTLAri/gfLutGDFkzP0uRRdnzJUV1GRusO1uF6gZqdDENpu8rLmAi73dZose8K+lAq11EPnFFrJODZNq+Oyw33LJSHe7Vy1llAo+wh2JR9H00OKqQ9mp4gdgHJi/Xe+sUkb5cFMr+K7tYYD//adyTIpLGDnsfOkh8OlrKbMpWC/SrBhiwxROD1d32aNu1/jHZbiyzPmWSL+38BalKHqjyBWlUwctrey+S2CKtB95dN8jh82VPOKZEnLKOMPMm0/sa00IMjY+2R8QqIk9SsLU64Ek++LJnH7oimCTPVLr60copvkmltmNr8u35FQVPRq3FIwCAUa4UDDLFPFXovzkjo/heBbf8ksac/fOpDLl115wQkZTtNPuw0A+7I+VBXkjvCFBrylfFOWS6pdveMKv/8P00I8JlqgDJM7oE+5Dyr8ahXN+GX/rWwdtVl2xYaxMGFc5At6yYJX03J09iCxOBW8EB2k8IVO6AjYAAAO79wJadxty3iWJhS6TrRIKyZYMcMKRa8q0nlzzKSutqHyOxU26nmhRuT7tIQYSkQDfwaVcrBJFrD/LpGNU/Ngpbue7PPif+OWGohQ7m6jQ2AxsF1SKS17RTn7CMsNC8kWRhN1n0LgeONA4F1tZiLYJZn1sC4ZqemgGaaImjnXOHLGqowzcZApl4MpUhPqJoGUOw9iRUm3wlgDyFQjnxOrTFuI4AHgfkDpPr6mc2+sxHGwAvgmnsfbmwfoW7xpX/AUwxns8gLcaf7R37b7gk+v5mw1+zSGhkXzDu5jcp253d4NLJ0bqgMvD+MrKEuENHiou3Y/GdFI+84kMEn4KEOQey3HL03jGg5Lm7wnf5VTx2PWYwkG4epbQB4Uw/BS/LB0QCaJbMBD0kqqkIKMaPcE7bsVBf2O0yHmCQUsr2bx4czEZJ11hwnnGKjoJVOqCek4F3lV4ncqEqhtmGp+J9y2hlt4SdlZjkOgADEqkRuouLPzv1Ejn6mDH2bOaoAAm0JQQE0NIizZ/mYj5ujYtUbzvDJl61GQR3dqmlwtpRPGM4rfEERB3CW4deAxakJ4RzIXVzzTOV0FKpgt7PwxYT3LmoBYjoCbAu6ZwApSbNl1uI/VX5ERXmHUzO2j7xs5L1ZBSEHwfq0bq1OxJ9I6Hs+bqEoESiOnTjTarD/d9tcmCrxFcU1m/XD202PAhuHsGmhLedZq9p3Y/zKMPRJWeWHe1M1GbWVy8eYJILKcOMbhtwQlkWaqWeYewMe4y1UK5KlN2yYGdKsw3NuABgQCP8iJv6Eb16ZNFWDQnSBuqs9fDLM3NyTDH6R3cik8KNMY6xS+VHu4YCkvp3oqVd4Z/7mwHx/aXzpjNYS6JfjuhIRgmFzeVdlIMK41/5WbPRVfa5fm3nVIK72XKIg1TJ1gAAToIlZkF3GOsl6wNMG84rBnADj227jfu3KCEhApw8ejPuvTSylzN3E1SioKEXgoPWHqklJZ7PPMddIYuDUy1BsLuCK2b4nCuNo21XtVET77kTBaaRp7Mf4v9YT97wFy0OvdkasLo2zcWrI6PjAaCZNkl0CciJVKc7o4+yHzFVcX/tsBUApyj01DJvORBAjczYmcOn+ppZSZw8EJc+OpK1doeNcRnrfvmxiu7PI+BaNjjwMFSNzGv6Izu+pTUaEDYBwJ4yo7NGAADkUYSM8wbhyM/CfCrQiz7Y9KEVsepsLEzsQODo2peVg9BJP+N5oRzFis8xFsaaYDXKAP9kAtZgmpvWK2tffVqnRYbzrbPkIUczmOT19FwkdAo/JBLquH7nf8GRmpubJWB4KdiOsgc7XU0sGF4qYaO6eClW9UGe28OKrg/chAlG8TwklJywPNuzUKZh5KztTPNNkGcvQwdcyRykMfi8SDhnTZWdbnMxu5C/Or9E7B6xvj+SlueCkxY6NH/WNgjUJP6SBmL9p69g06fIf5BmbdRb+QfBmjYc2fHWAYJEJi7oozCPHbXlUwGcuFnTSKVPXG1x2nMeIhiMb5ZNjcw9s75b7SN9ai0ymYxH33Lwa4UGe1TtAv6ad5G4vhFB9djTGDCyOpEoNG6CJhzTPuLfEb3onKyQs9cNeAv9akBQXJcuQCmxwcYqFJUU0OHpZ7d9gnW/WriAAKdHz3SnraOQ38EcU5new2FyCyRqJqU66o1+pv944Gxn3zZHjtdBFf1lM4Q/yfg1PmAcYvewwwWztqTqBO9yAaWt8eax7zzvvV0N59nslkWUAGtOsJMf8UpKA7CYEHuLSMBn4MLhGof9e3Qmm8EWQrYriXEDcoMEhK2v9LuYFScRJH8ImRjyF7Bu4zZnk9GeYKmddNl4z8eJ67xm0//8w8g8P7lGi/bnDKkoS8DHbjb3D6uHGpQvnQt9VwuoVyWUiRf1SL/24+Ec18JcjlM7Q+16sQNh74rC0L0z/OFT/XPIifAnBtglGLvnqAagGvElF5qq536L9mYx4Qup2n9r5hYCLn0KnM5Yd0DipcWgiOavvng4yniY1HPkRXEvL8m2M4iWehksfIJ5QEi8vCrXz7RCOhZA1PF5xE7kf5Z0CluC1LcSJ/sKE4C4GZAlCwn6lm9lhLcvvUXD9Z76wxoVLMWGg/O/vDnboXm3AJ7GrBgap3EKRd/tRf5CftsOuu0WS/6IA9ULfwLPKiDTXEFEq/P8Z+1cHPSSPisHDpVDRW+8EX/Exhy2OuTcoL6KVkcSN5zbYGlNuA9wPJyE0DHmLVw8vrJh332FCx6+BrPVvFpQhnp5ErnmDC13kQXPe4B2babJh4Zxz4EslE73gFtHETUFYpr4cTCK/G4a9r42+3mEm1Agb/fJYXeUSaFKwbH+/pMsoZTKfA98WrONstPSB/g/44n+rej6wl+jQRf5kb6MexBNDJXPH+AO4KqXeu32W36jS+RNGhFgpbLrItlyYNrXT25mbqD7jFOL6akDtg2E5rtA7/IcZLHeiuUN8swv64ICInnTdwPDITdNcNS/rdzt1ywrwBEtz6lnNxyys/n87kEL4vPdfo6e1cE+9vpQU2JssqtGkzr0u+HJC3eAf3Bo1SjJ1bY11E2AlWvSF0CDTvcwYHBX/dPScQ7hn9wF5Kcf8JyUODkRR4yCnjk1qAV3/1X4Ntot5jw8BbYD0M4zf/TOQwJ/f9oM3LNASesZyfMBO02pY+73gy0MJOIoWYHdg4PTeUWpjgxr34VLXHfFBLBh4KsXJLlz95zPoTftSuHs8rACinQlpqONFKRJgZTVJLmsp69Ym3QA07r3atvJo6vEuPn3CFvQiwcWUPkgaVJVMRIG0uioCXWSxwfsajyRqYRdCnXeTX5+bWI0PVqCWVCjOrdBB1WzuTGx+A+JW30ncMIgsjkanLDYmQEoxY4eOnJ+3Juaba6Qwc7zAelDyxuSLh0frND62s3acLa6RKdqFEwbGdI5SDH7ZzlEZ4ZoFE/q20zOAIGdQUWvq4hXvMCWx04/7t8K2zSc/e71LIeG3EQ5LPGP1HVAL8DaUurGM9E/9llkL7jNmaNcInGw5d/353toXNyrbzYTddjfj1ry8RMtl15GE/T2jPAziOc38k8P7MeENpgskEz0vfFSaVYSrGAsYnoyWhyWSOcZ/VUbA9/CKyDHt2KOI+tYnVfeRD+xWXSRv3bYBPD6elVNt26EuUW+Nia3R72X3gIzsAzCuPUGk105E/0Gc2VYGCSueDbTroMmbxLkkaImOfocZkAROGO6msjQB6qXDwX4IgaoRDryvRKOCBz2laajAfRKYE0bHbF7N0xpept0mlznKibva5uTNST6ZscQTsAzSjNqp0WwlcyfLjoHNQhaXGSFmcoqklsAjUToqHhiLVUHUMlhAL/0PHTq+kYvfKSor+oBypxVe5qngpSJGwQj3FcM0Gzh2vHcLJbgDm4ewo1lToVt717tiQlIJ+bSlI0qVWZVcpvXUHAFRAbhve3EKA72cVwJ0iTssG9bXttPVeMmmDgUYBjvkfb40C10tSGaODUVxLnvUxhOaksFS4lqpo1GzC6lBBIqLY0DxKVDHC//l4FnEmnaeTr9sXKerDSOfUieUZNPIVzpf4KIEVitkMtdMqnfBjib64nauFUtltlikixziudT1n+YOw5d6P+LltdDOXF+nXwm1W6Qjn0G+goHzZYd+DyUKrFBa/KZS+fvbE8/n+NX7TfidjOUYpPFm+Uun1/nXIVOCQPkYHGZjKUORByJoF08656uWGPM31pqp2E3VvQVJcZ5egwqt/tru+hkcIM/N+5um0XB75uM+G+GHfxQP0VzJzWhvxIqhaj7qT4IYcZomL8EOAjl79Q7jujWeazbb3hrf/Bvjv79OoImaNFPVa2tmLCw9+mcKkimhOV8IhgbySDq4F88NhFBRn8c0oMuWsD3mJC215I/eXEyJPq2Ti38g652u5+DjuSfe0PLuh0H11yrwk56FOU76pjDT6Px3r65KPvbpA1r2ibaPPP69SGYvWU91od6GFJoOxg9JZjBFTmN2x0rTpL1gsL0dHqke4wVoVGKhd5PkfnV3xoCAgIQjG/03qjt6nRB2RiLfg/0WFBvYB9ayPKYTM8iOoOJrLy1AnhV7RsvaVbtNDKqw+K4VdmYBQ9bKAfeSM+meTPMiMkuk16cx01WlofgsIzEhRaSH5//OhYfNZpSJlWjW7WAUJlF2x0Tnb2xK58/JzMUw/aXSfZfOOZBnzm7o5bEsXPayhaHJOMGvS+F8X+ox/ntm093EUWNZypwHJwQ4PhngQflowPFkcFD6+++4C7wuPD43UJgjHymaf4o56aRU83SvrJzKOI2k3jK+3wEQVxqQ48O/rTfktBpFRBJu+2oOJaqOiYJ8huovls+UIFV9MA4s3lgATe2GB8hxt3NcyPWBirnAwsnZuI5rZ52ykPzkr6STo4/lsEcO55jR5W6nf/zFNHFrOAWCm8MY05/W9Jpqnjz4Zw9AYV5EuhCrQSygdGJr7VgVpKV0alUouz1Nhw71ekaW1z3iVnnzOn0I/Nl67soR7l/2od5hmhBdYlKhzKUEeIvbYIXSnKY09M7i6Bjm+DzeGpjKoWs00I+8rjuHuzvr3QjZmilIlnFApqbGufSa/I3Qrb/vsKjdiOu5Cjcweh5zceXuWEsNAwdW1J1iV7uc+kb9xw2Ap6yxibdezB1336m0h2QazH18UmYa3j7Icjk13t7kfrZH9aCZiC6wiI7Qz/ll4aPFTKqpFMs4293P0WYfseoI/EbLJEGGMK5POSlcf2vdQPlNHsnnSonB+bkn9NrCWhoEUYKKmanp4jbAzQe/UQMyQ7WfjKn8EPNcJSit0l8qBFCQth7yOi2rkCB8+tZ/WgT7lX04KaaEm2bG0uv8xuGn5j/hCmDtZ3xP+T8QjDh2Ib9A0rp6zltC7o1lNjbyaiHSC5R3P9ijlYZh71GbdK6SKu84xrVNOg+taC72w1VmrSb794JybvgGnOHNcLtK7cAw4xC1BLc85IjCvvD0XGgZI6BJLlXSfGkkrv/8iCMCdgAE912/QssnigfNfL4QmEUL/WECbfy9rCHwO9rAttiardlJXnBntqx5NqLW86QTUMqLbzRFj+tPS5/Dd8UkOMyjM/vOs/pbmkw3HWmA+AfdQjG0evIlR3/PKhixKno+TWx9WC1/WE/oUJjg/E3Hs5NDkym3zp5oNzpFmnJDmVoBp464ZnaYb+PFVPXmwiNCNgEidPYgMeC3dnBNCwhHBkmwBD21q0RGKbXKYCUyzipXN32e+PR/SKV4aISkp44FEQEywgbnutXDVMoDmoUgCox0s4V0QdcksDRxKsKsBeqOph2A8vL2wR3cuTaw9UBN0svQnDCvQSJ+h/UYYBCfV2srSji4cubFyyhuse0XFiJr34MOZkXi1N9FbXTDnKNc0ac+1F7/j9e294QKI2pH+fior3iodZaSO9J449S3QiHUgU5ag4ySrPl1U/8CRhmCVmfawdWkzWIgd0ucNS71efIijgcY1QGRtmuoW2pflq0zvXI1TeGn7+jJPJtsNZghbCVckhSgHAfVCclsEhc/KiLFpSx31/xNPNbbzubnDP2xB1fMt0LJGXSYU0W5N+HZLsR2u3e9eQ1toW0KqmTmpbVyn/HP92J/azMr1DyDilWhph+0KQwRjB2UNKDCEbOG8OkoZ8UUTu/ej/TZoJ1b/Cv7I8cOm2NN5+NJtUKYZwVsUaoRrqFRrNYLyuWgYIReO5YO7ze0gSu9ILlohbintFozNcU8gzqhd0b3hRTaC6NOEEIlL1o/FYxN2wHA6DiucpPHgFfkYfcOO5NHvY2lxktj+LcqRNzrweLFqij44KwZIddxcHgxNMDPVr4pKKA9e2HUu2IEJzqdnUELu9vi9NY6NImyGXQDri6hf1tAlo3A4S0I1zo3kLrkFQ50bHRVIKhPeWV4cZY/xsvsXVQA1alAfBUv3nl6ARO5jRd0PVksEEWnA1tXyTL8n2d39mwYuiiPKu8T6/bR5Ywhgy9HPo/6vhSbaKkSeX79jpSxsUZUqyYBvCjhSLiYJd2DWFQkdg4TnppCTrICjw3AytEuP/FGMNmxpRrhME2GZ1i3yLaeJyPp4GyYmNZo3Cp0UT0dcz0jfil5N76XbkTCV/MHhXXtHJUg27SLE1vZancWUGfe+llxAvmjKjVP3rcHTSZMko5WeUUcKrmu3CF9BEinv6APFHSuKJfza9GqhgqkPeKogVl7P55sYUc4VpY4QfLADyVmSBwjazbPLhQL3lyhuO2KI+c0PPC1LqbU1wX7oDbpbnIm7YAYWtAGl7TP/CEhkRoUten8Zkd4QP/Nz4pmbE7Q1Ol5owGatIWKe6TGu10CAX2aC0xtiUqGgEA4DqSTVmaihR+uGdfxpQVPa6mWXsaUU54uF4GquE5nGFPOZICoclMJF3V3pFh5TMop5NIApRt+Q6bfguEm0xZkKkEryTpgWz7MBscJfanHbL8FxObTu5AmTc+o0mtfn594ht+aHkA4VTv7wVUCAAFw05FEKRAcpgrdr0toUwPV/fNcrnDIiIAUuRa7xMitRd5m9rRiBEr7YlBGSbOtOTZBEEdJlsJOCn6XPAHQdp4/PIjRbIAcN9H1G08ceKNwvkiiJATGqJM3s590n9kfW4jaIRGMIKfX4XuYOQcK05RzNtqKK0SAzpQ89k3VlSQoUXAVHD06ZTv/PaBzaOGkvMl3k5j+NxsZlzff23SksF00DPz9gRiOUV0pV15qj6G7fleT1uvc/yXnBCnn4YGAO5gSFocgpEhtxVFw5Yk1qxhhlIk8gB4YCRR7ytWLayBfxBI98jBjdg4sljyqZP1mrHrugrVqbP8bHJ649H2MStlb3o16Vet7qYjiSD7ikUXkvi+0T9LHCmcXEuk6Y1U/LhmdX3G/Gl9nUvKiL6NTUMO3eE4Fsx0PTIAbWWFXIHqCyNi8h+YemRxclUYxCf4HeJzoOl2S0DDIZId0EBaEWPozfHI7qv40pbqy76QMsrFdCcFR7UIAmCpqbt2MioSTmfoCqcwTGi8p/NVkzFZpmKUiFaCxVpARqFBmR4Geh+vl2XelSYG4rkgAIYYBR94vIThi1+WqrFGvZBL6Su8NcDGjY3RfXwO1kdL6DEtNj15BunOo4cyVU7gP8vr2l/t+DOSMnuTtPbV4B7oAAA=)"
      ],
      "metadata": {
        "id": "Ek8zmxVKWVp1"
      }
    }
  ]
}