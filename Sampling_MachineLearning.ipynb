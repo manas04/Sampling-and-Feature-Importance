{
  "nbformat": 4,
  "nbformat_minor": 0,
  "metadata": {
    "colab": {
      "provenance": []
    },
    "kernelspec": {
      "name": "python3",
      "display_name": "Python 3"
    },
    "language_info": {
      "name": "python"
    }
  },
  "cells": [
    {
      "cell_type": "markdown",
      "source": [
        "# Assignment 4: Sampling \n",
        "--------------------------\n",
        "**Dr. Dave Wanik - University of Connecticut**\n",
        "\n",
        "Let's try to do three styles of sampling with code. "
      ],
      "metadata": {
        "id": "I_fAv32go464"
      }
    },
    {
      "cell_type": "markdown",
      "source": [
        "For this assignment, I'd like you to apply the topics of  undersampling, oversampling and SMOTE to a toy dataset to see if you get better performance by using these sampling methods. In my experience, sampling helps sometimes but not all times. "
      ],
      "metadata": {
        "id": "8NEq5H1OpkhO"
      }
    },
    {
      "cell_type": "markdown",
      "source": [
        "# Data\n",
        "Everybody will have the same dataset."
      ],
      "metadata": {
        "id": "LLIW4Qrbp4Qm"
      }
    },
    {
      "cell_type": "code",
      "source": [
        "import pandas as pd\n",
        "df = pd.read_csv('/content/sample_data/california_housing_train.csv')"
      ],
      "metadata": {
        "id": "nJ1bW4MUp61s"
      },
      "execution_count": 69,
      "outputs": []
    },
    {
      "cell_type": "code",
      "source": [
        "df.head()"
      ],
      "metadata": {
        "colab": {
          "base_uri": "https://localhost:8080/",
          "height": 250
        },
        "id": "PUeW08-xrxbW",
        "outputId": "83cba9e5-fc6b-479d-8c28-4a415806863e"
      },
      "execution_count": 70,
      "outputs": [
        {
          "output_type": "execute_result",
          "data": {
            "text/plain": [
              "   longitude  latitude  housing_median_age  total_rooms  total_bedrooms  \\\n",
              "0    -114.31     34.19                15.0       5612.0          1283.0   \n",
              "1    -114.47     34.40                19.0       7650.0          1901.0   \n",
              "2    -114.56     33.69                17.0        720.0           174.0   \n",
              "3    -114.57     33.64                14.0       1501.0           337.0   \n",
              "4    -114.57     33.57                20.0       1454.0           326.0   \n",
              "\n",
              "   population  households  median_income  median_house_value  \n",
              "0      1015.0       472.0         1.4936             66900.0  \n",
              "1      1129.0       463.0         1.8200             80100.0  \n",
              "2       333.0       117.0         1.6509             85700.0  \n",
              "3       515.0       226.0         3.1917             73400.0  \n",
              "4       624.0       262.0         1.9250             65500.0  "
            ],
            "text/html": [
              "\n",
              "  <div id=\"df-69bacd2f-dbc8-47fd-996d-2fb2b16ac454\">\n",
              "    <div class=\"colab-df-container\">\n",
              "      <div>\n",
              "<style scoped>\n",
              "    .dataframe tbody tr th:only-of-type {\n",
              "        vertical-align: middle;\n",
              "    }\n",
              "\n",
              "    .dataframe tbody tr th {\n",
              "        vertical-align: top;\n",
              "    }\n",
              "\n",
              "    .dataframe thead th {\n",
              "        text-align: right;\n",
              "    }\n",
              "</style>\n",
              "<table border=\"1\" class=\"dataframe\">\n",
              "  <thead>\n",
              "    <tr style=\"text-align: right;\">\n",
              "      <th></th>\n",
              "      <th>longitude</th>\n",
              "      <th>latitude</th>\n",
              "      <th>housing_median_age</th>\n",
              "      <th>total_rooms</th>\n",
              "      <th>total_bedrooms</th>\n",
              "      <th>population</th>\n",
              "      <th>households</th>\n",
              "      <th>median_income</th>\n",
              "      <th>median_house_value</th>\n",
              "    </tr>\n",
              "  </thead>\n",
              "  <tbody>\n",
              "    <tr>\n",
              "      <th>0</th>\n",
              "      <td>-114.31</td>\n",
              "      <td>34.19</td>\n",
              "      <td>15.0</td>\n",
              "      <td>5612.0</td>\n",
              "      <td>1283.0</td>\n",
              "      <td>1015.0</td>\n",
              "      <td>472.0</td>\n",
              "      <td>1.4936</td>\n",
              "      <td>66900.0</td>\n",
              "    </tr>\n",
              "    <tr>\n",
              "      <th>1</th>\n",
              "      <td>-114.47</td>\n",
              "      <td>34.40</td>\n",
              "      <td>19.0</td>\n",
              "      <td>7650.0</td>\n",
              "      <td>1901.0</td>\n",
              "      <td>1129.0</td>\n",
              "      <td>463.0</td>\n",
              "      <td>1.8200</td>\n",
              "      <td>80100.0</td>\n",
              "    </tr>\n",
              "    <tr>\n",
              "      <th>2</th>\n",
              "      <td>-114.56</td>\n",
              "      <td>33.69</td>\n",
              "      <td>17.0</td>\n",
              "      <td>720.0</td>\n",
              "      <td>174.0</td>\n",
              "      <td>333.0</td>\n",
              "      <td>117.0</td>\n",
              "      <td>1.6509</td>\n",
              "      <td>85700.0</td>\n",
              "    </tr>\n",
              "    <tr>\n",
              "      <th>3</th>\n",
              "      <td>-114.57</td>\n",
              "      <td>33.64</td>\n",
              "      <td>14.0</td>\n",
              "      <td>1501.0</td>\n",
              "      <td>337.0</td>\n",
              "      <td>515.0</td>\n",
              "      <td>226.0</td>\n",
              "      <td>3.1917</td>\n",
              "      <td>73400.0</td>\n",
              "    </tr>\n",
              "    <tr>\n",
              "      <th>4</th>\n",
              "      <td>-114.57</td>\n",
              "      <td>33.57</td>\n",
              "      <td>20.0</td>\n",
              "      <td>1454.0</td>\n",
              "      <td>326.0</td>\n",
              "      <td>624.0</td>\n",
              "      <td>262.0</td>\n",
              "      <td>1.9250</td>\n",
              "      <td>65500.0</td>\n",
              "    </tr>\n",
              "  </tbody>\n",
              "</table>\n",
              "</div>\n",
              "      <button class=\"colab-df-convert\" onclick=\"convertToInteractive('df-69bacd2f-dbc8-47fd-996d-2fb2b16ac454')\"\n",
              "              title=\"Convert this dataframe to an interactive table.\"\n",
              "              style=\"display:none;\">\n",
              "        \n",
              "  <svg xmlns=\"http://www.w3.org/2000/svg\" height=\"24px\"viewBox=\"0 0 24 24\"\n",
              "       width=\"24px\">\n",
              "    <path d=\"M0 0h24v24H0V0z\" fill=\"none\"/>\n",
              "    <path d=\"M18.56 5.44l.94 2.06.94-2.06 2.06-.94-2.06-.94-.94-2.06-.94 2.06-2.06.94zm-11 1L8.5 8.5l.94-2.06 2.06-.94-2.06-.94L8.5 2.5l-.94 2.06-2.06.94zm10 10l.94 2.06.94-2.06 2.06-.94-2.06-.94-.94-2.06-.94 2.06-2.06.94z\"/><path d=\"M17.41 7.96l-1.37-1.37c-.4-.4-.92-.59-1.43-.59-.52 0-1.04.2-1.43.59L10.3 9.45l-7.72 7.72c-.78.78-.78 2.05 0 2.83L4 21.41c.39.39.9.59 1.41.59.51 0 1.02-.2 1.41-.59l7.78-7.78 2.81-2.81c.8-.78.8-2.07 0-2.86zM5.41 20L4 18.59l7.72-7.72 1.47 1.35L5.41 20z\"/>\n",
              "  </svg>\n",
              "      </button>\n",
              "      \n",
              "  <style>\n",
              "    .colab-df-container {\n",
              "      display:flex;\n",
              "      flex-wrap:wrap;\n",
              "      gap: 12px;\n",
              "    }\n",
              "\n",
              "    .colab-df-convert {\n",
              "      background-color: #E8F0FE;\n",
              "      border: none;\n",
              "      border-radius: 50%;\n",
              "      cursor: pointer;\n",
              "      display: none;\n",
              "      fill: #1967D2;\n",
              "      height: 32px;\n",
              "      padding: 0 0 0 0;\n",
              "      width: 32px;\n",
              "    }\n",
              "\n",
              "    .colab-df-convert:hover {\n",
              "      background-color: #E2EBFA;\n",
              "      box-shadow: 0px 1px 2px rgba(60, 64, 67, 0.3), 0px 1px 3px 1px rgba(60, 64, 67, 0.15);\n",
              "      fill: #174EA6;\n",
              "    }\n",
              "\n",
              "    [theme=dark] .colab-df-convert {\n",
              "      background-color: #3B4455;\n",
              "      fill: #D2E3FC;\n",
              "    }\n",
              "\n",
              "    [theme=dark] .colab-df-convert:hover {\n",
              "      background-color: #434B5C;\n",
              "      box-shadow: 0px 1px 3px 1px rgba(0, 0, 0, 0.15);\n",
              "      filter: drop-shadow(0px 1px 2px rgba(0, 0, 0, 0.3));\n",
              "      fill: #FFFFFF;\n",
              "    }\n",
              "  </style>\n",
              "\n",
              "      <script>\n",
              "        const buttonEl =\n",
              "          document.querySelector('#df-69bacd2f-dbc8-47fd-996d-2fb2b16ac454 button.colab-df-convert');\n",
              "        buttonEl.style.display =\n",
              "          google.colab.kernel.accessAllowed ? 'block' : 'none';\n",
              "\n",
              "        async function convertToInteractive(key) {\n",
              "          const element = document.querySelector('#df-69bacd2f-dbc8-47fd-996d-2fb2b16ac454');\n",
              "          const dataTable =\n",
              "            await google.colab.kernel.invokeFunction('convertToInteractive',\n",
              "                                                     [key], {});\n",
              "          if (!dataTable) return;\n",
              "\n",
              "          const docLinkHtml = 'Like what you see? Visit the ' +\n",
              "            '<a target=\"_blank\" href=https://colab.research.google.com/notebooks/data_table.ipynb>data table notebook</a>'\n",
              "            + ' to learn more about interactive tables.';\n",
              "          element.innerHTML = '';\n",
              "          dataTable['output_type'] = 'display_data';\n",
              "          await google.colab.output.renderOutput(dataTable, element);\n",
              "          const docLink = document.createElement('div');\n",
              "          docLink.innerHTML = docLinkHtml;\n",
              "          element.appendChild(docLink);\n",
              "        }\n",
              "      </script>\n",
              "    </div>\n",
              "  </div>\n",
              "  "
            ]
          },
          "metadata": {},
          "execution_count": 70
        }
      ]
    },
    {
      "cell_type": "code",
      "source": [
        "import matplotlib.pyplot as plt\n",
        "\n",
        "df['median_house_value'].hist()\n",
        "plt.show()"
      ],
      "metadata": {
        "colab": {
          "base_uri": "https://localhost:8080/",
          "height": 432
        },
        "id": "BpPfNKElr4vS",
        "outputId": "7d73e455-1b11-483e-e2bb-49d5bde501a4"
      },
      "execution_count": 71,
      "outputs": [
        {
          "output_type": "display_data",
          "data": {
            "text/plain": [
              "<Figure size 640x480 with 1 Axes>"
            ],
            "image/png": "[encoded data removed]"
          },
          "metadata": {}
        }
      ]
    },
    {
      "cell_type": "code",
      "source": [
        "# create a new target variable for SMOTE\n",
        "import numpy as np\n",
        "\n",
        "# nice imbalanced data!\n",
        "df['median_house_value'] = np.where(df['median_house_value'] < 380000, 1, 0)\n",
        "df['median_house_value'].value_counts()"
      ],
      "metadata": {
        "colab": {
          "base_uri": "https://localhost:8080/"
        },
        "id": "P009tBzPsXLC",
        "outputId": "aeb8925e-3735-43d0-9b09-575d336c499d"
      },
      "execution_count": 72,
      "outputs": [
        {
          "output_type": "execute_result",
          "data": {
            "text/plain": [
              "1    15304\n",
              "0     1696\n",
              "Name: median_house_value, dtype: int64"
            ]
          },
          "metadata": {},
          "execution_count": 72
        }
      ]
    },
    {
      "cell_type": "code",
      "source": [
        "# Alternative methods to find median house value greater than 380000(1) and less than 380000(0)\n",
        "from collections import Counter\n",
        "Counter(df['median_house_value'])"
      ],
      "metadata": {
        "colab": {
          "base_uri": "https://localhost:8080/"
        },
        "id": "Y3llzTrO_K1q",
        "outputId": "5596acc2-bbb0-4413-d55f-ad6d5920b145"
      },
      "execution_count": 73,
      "outputs": [
        {
          "output_type": "execute_result",
          "data": {
            "text/plain": [
              "Counter({1: 15304, 0: 1696})"
            ]
          },
          "metadata": {},
          "execution_count": 73
        }
      ]
    },
    {
      "cell_type": "code",
      "source": [
        "df.info()\n",
        "# This shows there is no categorical data and there is no missing value in the data"
      ],
      "metadata": {
        "colab": {
          "base_uri": "https://localhost:8080/"
        },
        "id": "ls2n812AEhKA",
        "outputId": "acbbf3ff-b2f7-4870-cf03-17f26bc45b7b"
      },
      "execution_count": 74,
      "outputs": [
        {
          "output_type": "stream",
          "name": "stdout",
          "text": [
            "<class 'pandas.core.frame.DataFrame'>\n",
            "RangeIndex: 17000 entries, 0 to 16999\n",
            "Data columns (total 9 columns):\n",
            " #   Column              Non-Null Count  Dtype  \n",
            "---  ------              --------------  -----  \n",
            " 0   longitude           17000 non-null  float64\n",
            " 1   latitude            17000 non-null  float64\n",
            " 2   housing_median_age  17000 non-null  float64\n",
            " 3   total_rooms         17000 non-null  float64\n",
            " 4   total_bedrooms      17000 non-null  float64\n",
            " 5   population          17000 non-null  float64\n",
            " 6   households          17000 non-null  float64\n",
            " 7   median_income       17000 non-null  float64\n",
            " 8   median_house_value  17000 non-null  int64  \n",
            "dtypes: float64(8), int64(1)\n",
            "memory usage: 1.2 MB\n"
          ]
        }
      ]
    },
    {
      "cell_type": "markdown",
      "source": [
        "# (5 pts) Split data into train and test \n",
        "Remember, your dataset should be split into train and test FIRST so that the test dataset retains the original distribution of 0s and 1s. No SMOTE data in the test partition - your boss only cares about real rows!"
      ],
      "metadata": {
        "id": "sayCYaFuspLm"
      }
    },
    {
      "cell_type": "code",
      "source": [
        "#Splitting the data into training and testing\n",
        "y = df['median_house_value']\n",
        "X = df.loc[:,'longitude':'median_income']\n",
        "from sklearn.model_selection import train_test_split\n",
        "X_train, X_test, y_train, y_test = train_test_split(X,y,test_size = 0.20, random_state = 42)\n",
        "print(X_train.shape, X_test.shape, y_train.shape, y_test.shape)"
      ],
      "metadata": {
        "colab": {
          "base_uri": "https://localhost:8080/"
        },
        "id": "f1OaBY9E6dEk",
        "outputId": "1887efff-607f-45b8-e686-2cba651c2abd"
      },
      "execution_count": 75,
      "outputs": [
        {
          "output_type": "stream",
          "name": "stdout",
          "text": [
            "(13600, 8) (3400, 8) (13600,) (3400,)\n"
          ]
        }
      ]
    },
    {
      "cell_type": "code",
      "source": [
        "#Counting number of zeros and 1s in training dataset\n",
        "print(Counter(y_train))\n",
        "# For undersampling\n",
        "# Number of zeroes are way less than number of 1s, hence we will undersample the data(majority, i.e. number of 1s) to 1344 \n",
        "# For oversampling\n",
        "# I am increasing number of zeroes to the calue number of ones(basically oversampling)\n",
        "print(Counter(y_test))"
      ],
      "metadata": {
        "colab": {
          "base_uri": "https://localhost:8080/"
        },
        "id": "mCWhMXO9DsMt",
        "outputId": "066d5021-1b7d-4327-dc02-dc6e3638996e"
      },
      "execution_count": 76,
      "outputs": [
        {
          "output_type": "stream",
          "name": "stdout",
          "text": [
            "Counter({1: 12256, 0: 1344})\n",
            "Counter({1: 3048, 0: 352})\n"
          ]
        }
      ]
    },
    {
      "cell_type": "markdown",
      "source": [
        "# (15 pts) Majority Undersampling\n",
        "Perform majority undersampling and evaluate model performance (use confusion matrices, classifcation report) and make comments about what you see."
      ],
      "metadata": {
        "id": "Jbsq-9UJpbIf"
      }
    },
    {
      "cell_type": "code",
      "source": [
        "# use imblearn to perform majority undersampling on X_train, evaluate on test partition\n",
        "from imblearn.under_sampling import RandomUnderSampler\n",
        "undersample = RandomUnderSampler(random_state =42, sampling_strategy='majority')\n",
        "# fitting it to training data and applying the transform\n",
        "X_under, y_under = undersample.fit_resample(X_train, y_train)\n",
        "# Summarize the class distribution \n",
        "print(Counter(y_under))"
      ],
      "metadata": {
        "id": "KmDZ8ib3phCK",
        "colab": {
          "base_uri": "https://localhost:8080/"
        },
        "outputId": "c4aea567-f985-4032-ccf8-64c637afb86c"
      },
      "execution_count": 77,
      "outputs": [
        {
          "output_type": "stream",
          "name": "stdout",
          "text": [
            "Counter({0: 1344, 1: 1344})\n"
          ]
        }
      ]
    },
    {
      "cell_type": "code",
      "source": [
        "# for original data\n",
        "from sklearn.tree import DecisionTreeClassifier\n",
        "from sklearn.metrics import classification_report, accuracy_score\n",
        "DTC = DecisionTreeClassifier(min_samples_split=10)\n",
        "# original data\n",
        "DTC.fit(X_train, y_train)\n",
        "train_preds = DTC.predict(X_train)\n",
        "test_preds = DTC.predict(X_test)\n",
        "\n",
        "print('Train results: \\n')\n",
        "print(classification_report(y_train, train_preds))\n",
        "print('Test results: \\n')\n",
        "print(classification_report(y_test, test_preds))\n",
        "print(\"--------------------------------------------------\")\n",
        "print(\"Accuracy: \", accuracy_score(y_test,test_preds))"
      ],
      "metadata": {
        "colab": {
          "base_uri": "https://localhost:8080/"
        },
        "id": "Zl4v0OHHDdYF",
        "outputId": "f0f4a15f-b1a4-4094-e082-4240ad5a3ba9"
      },
      "execution_count": 78,
      "outputs": [
        {
          "output_type": "stream",
          "name": "stdout",
          "text": [
            "Train results: \n",
            "\n",
            "              precision    recall  f1-score   support\n",
            "\n",
            "           0       0.89      0.92      0.91      1344\n",
            "           1       0.99      0.99      0.99     12256\n",
            "\n",
            "    accuracy                           0.98     13600\n",
            "   macro avg       0.94      0.95      0.95     13600\n",
            "weighted avg       0.98      0.98      0.98     13600\n",
            "\n",
            "Test results: \n",
            "\n",
            "              precision    recall  f1-score   support\n",
            "\n",
            "           0       0.56      0.61      0.59       352\n",
            "           1       0.95      0.94      0.95      3048\n",
            "\n",
            "    accuracy                           0.91      3400\n",
            "   macro avg       0.76      0.78      0.77      3400\n",
            "weighted avg       0.91      0.91      0.91      3400\n",
            "\n",
            "--------------------------------------------------\n",
            "Accuracy:  0.9105882352941177\n"
          ]
        }
      ]
    },
    {
      "cell_type": "code",
      "source": [
        "#Keenly observe the precision, recall, and f1-score values for both the classes (0 and 1).  I notices that the 1 class has higher score values than the 0 class. The scores need to be almost uniform for both the classes to ensure we can trust the model."
      ],
      "metadata": {
        "id": "w9wqNMEsreRO"
      },
      "execution_count": 79,
      "outputs": []
    },
    {
      "cell_type": "code",
      "source": [
        "# model performance of under-sampling data\n",
        "DTC.fit(X_under, y_under)\n",
        "train_preds = DTC.predict(X_under)\n",
        "test_preds = DTC.predict(X_test)\n",
        "print('Train results: \\n')\n",
        "print(classification_report(y_under, train_preds))\n",
        "print('Test results: \\n')\n",
        "print(classification_report(y_test, test_preds))\n",
        "print(\"---------------------------------------------------\")\n",
        "print(\"accuracy score\", accuracy_score(y_test, test_preds))"
      ],
      "metadata": {
        "colab": {
          "base_uri": "https://localhost:8080/"
        },
        "id": "3nozYZ3LhKvh",
        "outputId": "3a58ff7f-f5eb-4680-fea1-8094edf5c623"
      },
      "execution_count": 80,
      "outputs": [
        {
          "output_type": "stream",
          "name": "stdout",
          "text": [
            "Train results: \n",
            "\n",
            "              precision    recall  f1-score   support\n",
            "\n",
            "           0       0.95      0.96      0.95      1344\n",
            "           1       0.96      0.94      0.95      1344\n",
            "\n",
            "    accuracy                           0.95      2688\n",
            "   macro avg       0.95      0.95      0.95      2688\n",
            "weighted avg       0.95      0.95      0.95      2688\n",
            "\n",
            "Test results: \n",
            "\n",
            "              precision    recall  f1-score   support\n",
            "\n",
            "           0       0.36      0.86      0.51       352\n",
            "           1       0.98      0.82      0.90      3048\n",
            "\n",
            "    accuracy                           0.83      3400\n",
            "   macro avg       0.67      0.84      0.70      3400\n",
            "weighted avg       0.92      0.83      0.86      3400\n",
            "\n",
            "---------------------------------------------------\n",
            "accuracy score 0.8282352941176471\n"
          ]
        }
      ]
    },
    {
      "cell_type": "code",
      "source": [
        "#From the classification report(considering training data), I observed the recall, and f1-score values for the 0 class.It is clearly visible that scores have improved compared to using the imbalanced dataset:\n",
        "# precison score increased from 0.89 to 0.92\n",
        "# recall increased from 0.92 to 0.96\n",
        "# F-1 score increased from 0.90 to 0.95\n",
        "# Also the accuracy weighted average is incresed from 0.91 to 0.92 for testing data"
      ],
      "metadata": {
        "id": "T2ZTYpG0hK5-"
      },
      "execution_count": 81,
      "outputs": []
    },
    {
      "cell_type": "markdown",
      "source": [
        "# (15 pts) Minority Oversampling\n",
        "Perform minority oversampling and evaluate model performance (use confusion matrices, classifcation report) and make comments about what you see."
      ],
      "metadata": {
        "id": "BKsan5mUpc1q"
      }
    },
    {
      "cell_type": "code",
      "source": [
        "# use imblearn to perform minority oversampling on X_train, evaluate on test partition\n",
        "from imblearn.over_sampling import RandomOverSampler\n",
        "oversample = RandomOverSampler(sampling_strategy= 'minority')\n",
        "# fitting it to training data and applying the transform\n",
        "X_over, y_over = oversample.fit_resample(X_train, y_train)\n",
        "# Summarize the class distribution with the help of Counter method\n",
        "print(Counter(y_over))"
      ],
      "metadata": {
        "id": "QIq3qesEphcY",
        "colab": {
          "base_uri": "https://localhost:8080/"
        },
        "outputId": "d3e2af5d-0e5f-44cd-d9bb-5ed6de08a184"
      },
      "execution_count": 82,
      "outputs": [
        {
          "output_type": "stream",
          "name": "stdout",
          "text": [
            "Counter({0: 12256, 1: 12256})\n"
          ]
        }
      ]
    },
    {
      "cell_type": "code",
      "source": [
        "# model performance of oversampled data\n",
        "DTC.fit(X_over, y_over)\n",
        "train_preds = DTC.predict(X_over)\n",
        "test_preds = DTC.predict(X_test)\n",
        "print('Train results: \\n')\n",
        "print(classification_report(y_over, train_preds))\n",
        "print('Test results: \\n')\n",
        "print(classification_report(y_test, test_preds))\n",
        "print(\"---------------------------------------------------\")\n",
        "print(\"accuracy score\", accuracy_score(y_test, test_preds))"
      ],
      "metadata": {
        "colab": {
          "base_uri": "https://localhost:8080/"
        },
        "id": "3q3pWf-djKJf",
        "outputId": "366c5654-248f-4e46-d16c-caa66cb89f3c"
      },
      "execution_count": 83,
      "outputs": [
        {
          "output_type": "stream",
          "name": "stdout",
          "text": [
            "Train results: \n",
            "\n",
            "              precision    recall  f1-score   support\n",
            "\n",
            "           0       1.00      1.00      1.00     12256\n",
            "           1       1.00      1.00      1.00     12256\n",
            "\n",
            "    accuracy                           1.00     24512\n",
            "   macro avg       1.00      1.00      1.00     24512\n",
            "weighted avg       1.00      1.00      1.00     24512\n",
            "\n",
            "Test results: \n",
            "\n",
            "              precision    recall  f1-score   support\n",
            "\n",
            "           0       0.57      0.58      0.58       352\n",
            "           1       0.95      0.95      0.95      3048\n",
            "\n",
            "    accuracy                           0.91      3400\n",
            "   macro avg       0.76      0.76      0.76      3400\n",
            "weighted avg       0.91      0.91      0.91      3400\n",
            "\n",
            "---------------------------------------------------\n",
            "accuracy score 0.9117647058823529\n"
          ]
        }
      ]
    },
    {
      "cell_type": "code",
      "source": [
        "# From the above report it is clearly intutive that for traing data the precision, recall, and F1 score has significantly increased for both of the classes.\n",
        "# While the accuracy remained same for both the original data and oversampled data.\n",
        "# One more "
      ],
      "metadata": {
        "id": "HEcEY5CLuqV8"
      },
      "execution_count": 84,
      "outputs": []
    },
    {
      "cell_type": "markdown",
      "source": [
        "# (15 pts) SMOTE\n",
        "Perform synthetic minority oversampling and evaluate model performance (use confusion matrices, classifcation report) and make comments about what you see."
      ],
      "metadata": {
        "id": "V1VyzC2Kpekb"
      }
    },
    {
      "cell_type": "code",
      "source": [
        "# use imblearn to perform synthetic minority data on X_train, evaluate on test partition\n",
        "from imblearn.over_sampling import SMOTE\n",
        "sm = SMOTE(random_state=42)\n",
        "X_res, y_res = sm.fit_resample(X_train, y_train)\n",
        "Counter(y_res)\n"
      ],
      "metadata": {
        "id": "y91UqJiApiBV",
        "colab": {
          "base_uri": "https://localhost:8080/"
        },
        "outputId": "41388ae5-5581-423f-ed86-1fcc5e61aa35"
      },
      "execution_count": 85,
      "outputs": [
        {
          "output_type": "execute_result",
          "data": {
            "text/plain": [
              "Counter({0: 12256, 1: 12256})"
            ]
          },
          "metadata": {},
          "execution_count": 85
        }
      ]
    },
    {
      "cell_type": "code",
      "source": [
        "# model performance of SMOTE data\n",
        "DTC.fit(X_res, y_res)\n",
        "train_preds = DTC.predict(X_res)\n",
        "test_preds = DTC.predict(X_test)\n",
        "print('Train results: \\n')\n",
        "print(classification_report(y_res, train_preds))\n",
        "print('Test results: \\n')\n",
        "print(classification_report(y_test, test_preds))\n",
        "print(\"---------------------------------------------------\")\n",
        "print(\"accuracy score\", accuracy_score(y_test, test_preds))"
      ],
      "metadata": {
        "colab": {
          "base_uri": "https://localhost:8080/"
        },
        "id": "a6XulEFulxJB",
        "outputId": "f798adfb-2cc8-4f64-9917-3272199ff0dc"
      },
      "execution_count": 86,
      "outputs": [
        {
          "output_type": "stream",
          "name": "stdout",
          "text": [
            "Train results: \n",
            "\n",
            "              precision    recall  f1-score   support\n",
            "\n",
            "           0       0.98      0.99      0.98     12256\n",
            "           1       0.99      0.98      0.98     12256\n",
            "\n",
            "    accuracy                           0.98     24512\n",
            "   macro avg       0.98      0.98      0.98     24512\n",
            "weighted avg       0.98      0.98      0.98     24512\n",
            "\n",
            "Test results: \n",
            "\n",
            "              precision    recall  f1-score   support\n",
            "\n",
            "           0       0.47      0.74      0.57       352\n",
            "           1       0.97      0.90      0.93      3048\n",
            "\n",
            "    accuracy                           0.89      3400\n",
            "   macro avg       0.72      0.82      0.75      3400\n",
            "weighted avg       0.92      0.89      0.90      3400\n",
            "\n",
            "---------------------------------------------------\n",
            "accuracy score 0.8852941176470588\n"
          ]
        }
      ]
    },
    {
      "cell_type": "markdown",
      "source": [
        "# (5 pts) Comparison of 3 methods\n",
        "Out of the three methods, did any do the best? Make a few comments about what you see."
      ],
      "metadata": {
        "id": "l74UnVGUwDht"
      }
    },
    {
      "cell_type": "markdown",
      "source": [
        "## For my dataset, Oversampling method performed the best out of the three, with an accuracy of 91.94% . The confusion matrix and classification report also show that Oversampled data achieved a higher F1-score, precision, and recall for both classes compared to the other methods. Overall the three techniques improved precision, recall, and f-1 score."
      ],
      "metadata": {
        "id": "Dgt5LSL2fAUp"
      }
    },
    {
      "cell_type": "markdown",
      "source": [
        "# (40 pts) Reproducibility - run it 30 times or more!\n",
        "This is one is a little tougher - choose any method and replicate it at least 30 times using a for loop. This means you will split into train and test 30 times (which means you should choose a random_state equal to 'i' as your for loop spins.) \n",
        "\n",
        "The purpose of this is so that you can show the distribution (hopefully a bell curve but not necessarily) of accuracy, precision and recall. Do some folds get predicted better than others? \n",
        "\n"
      ],
      "metadata": {
        "id": "szsg5sSgtKWP"
      }
    },
    {
      "cell_type": "code",
      "source": [
        "import warnings\n",
        "warnings.simplefilter(\"ignore\")\n",
        "\n",
        "from sklearn.metrics import classification_report, confusion_matrix, accuracy_score, precision_recall_fscore_support\n",
        "\n",
        "accuracy = []\n",
        "precisions = []\n",
        "recalls = []\n",
        "\n",
        "for i in range(0,30):\n",
        "    # Split the data into train and test sets\n",
        "    X_train, X_test, y_train, y_test = train_test_split(X, y, test_size=0.2, random_state=i, stratify=y)\n",
        "\n",
        "    # Add model to the data(Decision Tree)\n",
        "    DT = DecisionTreeClassifier(min_samples_split=10)\n",
        "\n",
        "    # Apply SMOTE using imblearn on X_train\n",
        "    smote = SMOTE()\n",
        "    X_train_smote, y_train_smote = smote.fit_resample(X_train, y_train)\n",
        "\n",
        "    # Train the model on the SMOTE-generated X_train\n",
        "    DT.fit(X_train_smote, y_train_smote)\n",
        "\n",
        "    # Make predictions using the test set\n",
        "    y_pred = DT.predict(X_test)\n",
        "\n",
        "    # Calculate accuracy, precision, and recall\n",
        "    acc = accuracy_score(y_test, y_pred)\n",
        "    precision, recall, _, _ = precision_recall_fscore_support(y_test, y_pred, average='weighted')\n",
        "\n",
        "    # Store the scores for each iteration\n",
        "    accuracy.append(acc)\n",
        "    precisions.append(precision)\n",
        "    recalls.append(recall)\n",
        "\n",
        "# Plot the distributions\n",
        "fig, axs = plt.subplots(3, figsize=(10, 15))\n",
        "\n",
        "axs[0].hist(accuracy)\n",
        "axs[0].set_title(\"Accuracy Distribution\")\n",
        "axs[0].set_xlabel(\"Accuracy\")\n",
        "axs[0].set_ylabel(\"Frequency\")\n",
        "\n",
        "axs[1].hist(precisions)\n",
        "axs[1].set_title(\"Precision Distribution\")\n",
        "axs[1].set_xlabel(\"Precision\")\n",
        "axs[1].set_ylabel(\"Frequency\")\n",
        "\n",
        "axs[2].hist(recalls)\n",
        "axs[2].set_title(\"Recall Distribution\")\n",
        "axs[2].set_xlabel(\"Recall\")\n",
        "axs[2].set_ylabel(\"Frequency\")\n",
        "\n",
        "plt.show()\n"
      ],
      "metadata": {
        "id": "gbJczVrxmUST",
        "colab": {
          "base_uri": "https://localhost:8080/",
          "height": 1000
        },
        "outputId": "200712b7-9da9-4879-8d31-fc7d8eb40efd"
      },
      "execution_count": 87,
      "outputs": [
        {
          "output_type": "display_data",
          "data": {
            "text/plain": [
              "<Figure size 1000x1500 with 3 Axes>"
            ],
            "image/png": "[encoded data removed]"
          },
          "metadata": {}
        }
      ]
    },
    {
      "cell_type": "markdown",
      "source": [
        "# (5 pts) Comments on the repeated experiment\n",
        "Make some comments about what you saw! Feel free to run 100 or 1000 times if it runs fast enough 😏"
      ],
      "metadata": {
        "id": "UygKvNSrwN7k"
      }
    },
    {
      "cell_type": "code",
      "source": [
        "import warnings\n",
        "warnings.simplefilter(\"ignore\")\n",
        "\n",
        "from sklearn.metrics import classification_report, confusion_matrix, accuracy_score, precision_recall_fscore_support\n",
        "from sklearn.linear_model import LogisticRegression\n",
        "accuracy = []\n",
        "precisions = []\n",
        "recalls = []\n",
        "\n",
        "for i in range(0,100):\n",
        "    # Split the data into train and test sets\n",
        "    X_train, X_test, y_train, y_test = train_test_split(X, y, test_size=0.2, random_state=i, stratify=y)\n",
        "\n",
        "    # Add model to the data(Decision Tree)\n",
        "    DT = DecisionTreeClassifier(min_samples_split=10)\n",
        "\n",
        "    # Apply SMOTE using imblearn on X_train\n",
        "    smote = SMOTE()\n",
        "    X_train_smote, y_train_smote = smote.fit_resample(X_train, y_train)\n",
        "\n",
        "    # Train the model on the SMOTE-generated X_train\n",
        "    DT.fit(X_train_smote, y_train_smote)\n",
        "\n",
        "    # Make predictions using the test set\n",
        "    y_pred = DT.predict(X_test)\n",
        "\n",
        "    # Calculate accuracy, precision, and recall\n",
        "    acc = accuracy_score(y_test, y_pred)\n",
        "    precision, recall, _, _ = precision_recall_fscore_support(y_test, y_pred, average='weighted')\n",
        "\n",
        "    # Store the scores for each iteration\n",
        "    accuracy.append(acc)\n",
        "    precisions.append(precision)\n",
        "    recalls.append(recall)\n",
        "\n",
        "# Plot the distributions\n",
        "fig, axs = plt.subplots(3, figsize=(10, 15))\n",
        "\n",
        "axs[0].hist(accuracy)\n",
        "axs[0].set_title(\"Accuracy Distribution\")\n",
        "axs[0].set_xlabel(\"Accuracy\")\n",
        "axs[0].set_ylabel(\"Frequency\")\n",
        "\n",
        "axs[1].hist(precisions)\n",
        "axs[1].set_title(\"Precision Distribution\")\n",
        "axs[1].set_xlabel(\"Precision\")\n",
        "axs[1].set_ylabel(\"Frequency\")\n",
        "\n",
        "axs[2].hist(recalls)\n",
        "axs[2].set_title(\"Recall Distribution\")\n",
        "axs[2].set_xlabel(\"Recall\")\n",
        "axs[2].set_ylabel(\"Frequency\")\n",
        "\n",
        "plt.show()"
      ],
      "metadata": {
        "id": "StmRraD8mVZr",
        "colab": {
          "base_uri": "https://localhost:8080/",
          "height": 1000
        },
        "outputId": "d4d83cd9-c34f-4286-ca85-5cacf301c880"
      },
      "execution_count": 88,
      "outputs": [
        {
          "output_type": "display_data",
          "data": {
            "text/plain": [
              "<Figure size 1000x1500 with 3 Axes>"
            ],
            "image/png": "[encoded data removed]"
          },
          "metadata": {}
        }
      ]
    },
    {
      "cell_type": "code",
      "source": [],
      "metadata": {
        "id": "i5iVB0tlhqvV"
      },
      "execution_count": 88,
      "outputs": []
    }
  ]
}